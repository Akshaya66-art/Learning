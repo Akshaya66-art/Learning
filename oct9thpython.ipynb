{
  "cells": [
    {
      "cell_type": "markdown",
      "metadata": {
        "id": "view-in-github",
        "colab_type": "text"
      },
      "source": [
        "<a href=\"https://colab.research.google.com/github/Akshaya66-art/Learning/blob/main/oct9thpython.ipynb\" target=\"_parent\"><img src=\"https://colab.research.google.com/assets/colab-badge.svg\" alt=\"Open In Colab\"/></a>"
      ]
    },
    {
      "cell_type": "code",
      "execution_count": null,
      "metadata": {
        "colab": {
          "base_uri": "https://localhost:8080/"
        },
        "id": "fdJnBuVW1EhN",
        "outputId": "5f82fe20-8deb-447c-c3a3-cdf139a4c4d0"
      },
      "outputs": [
        {
          "name": "stdout",
          "output_type": "stream",
          "text": [
            "Enter your age :18\n",
            "Eligible for voting\n"
          ]
        }
      ],
      "source": [
        "#Program to check a person is eligble for votting\n",
        "age=int(input(\"Enter your age :\"))\n",
        "if age>=18:\n",
        "  print(\"Eligible for voting\")\n",
        "else:\n",
        "  print(\"Not eligible for voting\")"
      ]
    },
    {
      "cell_type": "code",
      "source": [],
      "metadata": {
        "id": "QzvSHpfytG1i"
      },
      "execution_count": null,
      "outputs": []
    },
    {
      "cell_type": "code",
      "execution_count": null,
      "metadata": {
        "id": "tExOTFsu-7py"
      },
      "outputs": [],
      "source": []
    },
    {
      "cell_type": "code",
      "execution_count": null,
      "metadata": {
        "colab": {
          "base_uri": "https://localhost:8080/"
        },
        "id": "hr7sZpSB1goE",
        "outputId": "2302c6f7-2d75-41c4-bbb0-93b73498da1a"
      },
      "outputs": [
        {
          "name": "stdout",
          "output_type": "stream",
          "text": [
            "Enter the number :8\n",
            "The given number is even\n"
          ]
        }
      ],
      "source": [
        "#Program to find the given number is odd or even\n",
        "num1=int(input(\"Enter the number :\"))\n",
        "if num1>0:\n",
        "  if num1%2==0:\n",
        "    print(\"The given number is even\")\n",
        "  else:\n",
        "    print(\"The given number is odd\")\n",
        "else:\n",
        "  print('Invalid input')\n",
        "\n"
      ]
    },
    {
      "cell_type": "code",
      "execution_count": null,
      "metadata": {
        "colab": {
          "base_uri": "https://localhost:8080/"
        },
        "id": "q8vNrM1j1nso",
        "outputId": "55f92034-79d5-45f6-baaf-6497da365414"
      },
      "outputs": [
        {
          "name": "stdout",
          "output_type": "stream",
          "text": [
            "enter the value of a :10\n",
            "enter the value of b :30\n",
            "b is greater\n"
          ]
        }
      ],
      "source": [
        "# finding the greatest vale\n",
        "\n",
        "a=int(input(\"enter the value of a :\"))\n",
        "b=int(input(\"enter the value of b :\"))\n",
        "if a>b:\n",
        "  print(\"a is greater\")\n",
        "else:\n",
        "  print(\"b is greater\")"
      ]
    },
    {
      "cell_type": "code",
      "execution_count": null,
      "metadata": {
        "colab": {
          "base_uri": "https://localhost:8080/"
        },
        "id": "o4sNM_D51tZk",
        "outputId": "eeb5c651-6a5f-4b81-c190-025e2a06f32b"
      },
      "outputs": [
        {
          "name": "stdout",
          "output_type": "stream",
          "text": [
            "Enter the numbers in order\n",
            "1 :50\n",
            "2 :25\n",
            "3 :0\n",
            "Greater : 50.0\n"
          ]
        }
      ],
      "source": [
        "6#Program to find largest among three numbers\n",
        "print(\"Enter the numbers in order\")\n",
        "num1=float(input(\"1 :\"))\n",
        "num2=float(input(\"2 :\"))\n",
        "num3=float(input(\"3 :\"))\n",
        "if num1>=num2 and num1>=num3:\n",
        "  print(\"Greater :\",num1)\n",
        "elif num2>=num1 and num2>=num3:\n",
        "  print(\"Greater :\",num2)\n",
        "else:\n",
        "  print(\"Greater :\",num3)\n"
      ]
    },
    {
      "cell_type": "code",
      "execution_count": null,
      "metadata": {
        "colab": {
          "base_uri": "https://localhost:8080/"
        },
        "id": "-l5Tux4zi2hd",
        "outputId": "5a9e3d1d-8f4c-4f01-e11b-d62ddb7d4dcd"
      },
      "outputs": [
        {
          "name": "stdout",
          "output_type": "stream",
          "text": [
            "enter your nameakshaya\n",
            "akshaya\n",
            "enter your mark in english79\n",
            "enter your mark in hindi80\n",
            "enter your mark in maths72\n",
            "231\n",
            "77.0\n",
            "you have got C grade\n"
          ]
        }
      ],
      "source": [
        "# students rank\n",
        "name=input(\"enter your name\")\n",
        "print(name)\n",
        "english=int(input(\"enter your mark in english\"))\n",
        "hindi=int(input(\"enter your mark in hindi\"))\n",
        "maths=int(input(\"enter your mark in maths\"))\n",
        "total=english+hindi+maths\n",
        "print(total)\n",
        "average=total/3\n",
        "print(average)\n",
        "if average>=90 and average<=100:\n",
        "\t\tprint(\"you have got A grade\")\n",
        "elif average>=80 and average<=89:\n",
        "\t\tprint(\"you have got B grade\")\n",
        "elif average>=70 and average<=79:\n",
        "\t\tprint(\"you have got C grade\")\n",
        "elif average>=60 and average>=69:\n",
        "\t\tprint(\"you have got D grade\")\n",
        "elif average>=50 and average<=59:\n",
        "\t\tprint(\"you have got E\")\n",
        "elif average<50:\n",
        "\t\tprint(\"you are failed\")\n",
        "else:\n",
        "\t\tprint(\"no matches\");\n"
      ]
    },
    {
      "cell_type": "code",
      "execution_count": null,
      "metadata": {
        "colab": {
          "base_uri": "https://localhost:8080/"
        },
        "id": "9IbVwquqljP9",
        "outputId": "066fc15e-d39a-4fca-b590-30b7d8f5e154"
      },
      "outputs": [
        {
          "name": "stdout",
          "output_type": "stream",
          "text": [
            "enter your nameakshaya\n",
            "enter your useridak123\n",
            "enter the electricity unit200\n",
            "your bill amount is: 125.0\n"
          ]
        }
      ],
      "source": [
        "\"\"\"electricity charges\n",
        "for ist 50 units rs:.25\n",
        "for next extra 50 units(100) rs:.50\n",
        "for next 50 units (150) re:.75\n",
        "                  200 and above rs:1\"\"\"\n",
        "\n",
        "name=input(\"enter your name\")\n",
        "userid=input(\"enter your userid\")\n",
        "units=int(input(\"enter the electricity unit\"))\n",
        "if units<=50:\n",
        "  billamt=units*.25\n",
        "  print(\"your bill amount is:\",billamt)\n",
        "elif units<=100:\n",
        "  billamt=50*.25+(units-50)*.50\n",
        "  print(\"your bill amount is:\",billamt)\n",
        "elif units<=150:\n",
        "  billamt=50*.25+50*.50+(units-100)*.75\n",
        "  print(\"your bill amount is:\",billamt)\n",
        "elif units<=200:\n",
        "    billamt=50*.25+50*.50+50*.75+(units-150)*1\n",
        "    print(\"your bill amount is:\",billamt)\n",
        "elif units>200:\n",
        "    billamt=50*.25+50*.50+50*.75+50*1+(units-200)*1.5\n",
        "    print(\"your bill amount is:\",billamt)\n",
        "else:\n",
        "  print(\"enter a vaild number\")\n"
      ]
    },
    {
      "cell_type": "code",
      "execution_count": null,
      "metadata": {
        "colab": {
          "base_uri": "https://localhost:8080/"
        },
        "id": "KjICn8irmNBj",
        "outputId": "f6b23130-a979-455d-c7e1-bdd321ad2c63"
      },
      "outputs": [
        {
          "name": "stdout",
          "output_type": "stream",
          "text": [
            "enter the current temperature in degree70\n",
            "wear shorts and t shirt\n"
          ]
        }
      ],
      "source": [
        "#dressing for the weather\n",
        "tem=float(input(\"enter the current temperature in degree\"))\n",
        "if tem>=70:\n",
        "  print(\"wear shorts and t shirt\")\n",
        "elif 50<=tem<=69:\n",
        "  print(\"wear jeans and alight jacket\")\n",
        "elif tem<=50:\n",
        "  print(\"wear heavy coat and warm pants\")\n",
        "else:\n",
        "  print(\"wear what you want\")"
      ]
    },
    {
      "cell_type": "code",
      "execution_count": null,
      "metadata": {
        "colab": {
          "base_uri": "https://localhost:8080/"
        },
        "id": "UCZYEoGCmjPq",
        "outputId": "b417d46c-bacf-406a-e1fe-1d20956264a9"
      },
      "outputs": [
        {
          "name": "stdout",
          "output_type": "stream",
          "text": [
            "enter the month form the list:\n",
            "1.january\n",
            "2.february\n",
            "3.march\n",
            "4.april\n",
            "5.may\n",
            "6.june\n",
            "7.july\n",
            "8.august\n",
            "9.september\n",
            "10.october\n",
            "11.november\n",
            "12.december\n",
            "6\n",
            "summer\n"
          ]
        }
      ],
      "source": [
        "# detmine the seasons on the base of month\n",
        "\n",
        "month=int(input(\"enter the month form the list:\\n1.january\\n2.february\\n3.march\\n4.april\\n5.may\\n6.june\\n7.july\\n8.august\\n9.september\\n10.october\\n11.november\\n12.december\\n\"))\n",
        "if 3<=month<=5:\n",
        "  season=\"spring\"\n",
        "  print(season)\n",
        "elif 6<=month<=8:\n",
        "  season=\"summer\"\n",
        "  print(season)\n",
        "elif 9<=month<=11:\n",
        "  season=\"autumn\"\n",
        "  print(season)\n",
        "else:\n",
        "  season=\"winter\"\n",
        "  print(season)\n"
      ]
    },
    {
      "cell_type": "code",
      "execution_count": null,
      "metadata": {
        "colab": {
          "base_uri": "https://localhost:8080/"
        },
        "id": "WcAqx2lKmmKl",
        "outputId": "ab55d2a1-52e0-4772-a1ee-0ed5f9cb0cbc"
      },
      "outputs": [
        {
          "name": "stdout",
          "output_type": "stream",
          "text": [
            "enter the tolal price:120\n",
            "discount:$ 12.0\n",
            "final price:$ 108.0\n"
          ]
        }
      ],
      "source": [
        "# calculate the discount on a purchase:\n",
        "\n",
        "total_price=float(input(\"enter the tolal price:\"))\n",
        "if total_price>100:\n",
        "  discount=total_price*.10\n",
        "else:\n",
        "  discount=0\n",
        "final_price=total_price-discount\n",
        "print(\"discount:$\",discount)\n",
        "print(\"final price:$\",final_price)\n"
      ]
    },
    {
      "cell_type": "code",
      "execution_count": null,
      "metadata": {
        "id": "-ltIScEuJL27"
      },
      "outputs": [],
      "source": [
        "#leap year\n",
        "s=int(input(\"enter the year:\"))\n",
        "if s%400==0 or s%100!=0 and s%4==0:\n",
        "  print(\"the year is leap year\")\n",
        "else:\n",
        "  print(\"the year is not leap year\")\n"
      ]
    },
    {
      "cell_type": "code",
      "execution_count": null,
      "metadata": {
        "colab": {
          "base_uri": "https://localhost:8080/"
        },
        "id": "4j-eSzZD2kvr",
        "outputId": "13235a17-b2f2-40c3-a08e-575598bad0b2"
      },
      "outputs": [
        {
          "name": "stdout",
          "output_type": "stream",
          "text": [
            "Enter a number: 7\n",
            "7 is a prime number\n"
          ]
        }
      ],
      "source": [
        "#Check if a Number is Prime:\n",
        "num = int(input(\"Enter a number: \"))\n",
        "\n",
        "if num > 1:\n",
        "    for i in range(2, num):\n",
        "        if (num % i) == 0:\n",
        "            print(num, \"is not a prime number\")\n",
        "            break\n",
        "    else:\n",
        "        print(num, \"is a prime number\")\n",
        "else:\n",
        "    print(num, \"is not a prime number\")"
      ]
    },
    {
      "cell_type": "markdown",
      "metadata": {
        "id": "LYVcxqVB3Erg"
      },
      "source": [
        "**string slicing**"
      ]
    },
    {
      "cell_type": "code",
      "execution_count": null,
      "metadata": {
        "colab": {
          "base_uri": "https://localhost:8080/"
        },
        "id": "4Q0bZF8R3C_w",
        "outputId": "20178711-7a22-40ce-a16a-0d2f0081926b"
      },
      "outputs": [
        {
          "name": "stdout",
          "output_type": "stream",
          "text": [
            "llo\n",
            "or\n",
            "dlroW olleH\n",
            "Hello WorldWelcome\n",
            "WelcomeWelcomeWelcomeWelcomeWelcomeWelcomeWelcomeWelcomeWelcomeWelcomeWelcomeWelcome\n",
            "llo\n"
          ]
        }
      ],
      "source": [
        "#Program to slice string\n",
        "name=\"Hello World\"\n",
        "a=\"Welcome\"\n",
        "print(name[2:5])\n",
        "print(name[-4:-2])\n",
        "print(name[::-1])\n",
        "print(name+a)\n",
        "print(a*(12))\n",
        "print(name[-9:5])"
      ]
    },
    {
      "cell_type": "markdown",
      "metadata": {
        "id": "I6TRrKRB3uvB"
      },
      "source": [
        "**list slicing**"
      ]
    },
    {
      "cell_type": "code",
      "execution_count": null,
      "metadata": {
        "colab": {
          "base_uri": "https://localhost:8080/"
        },
        "id": "8ZawnRgP3Qr6",
        "outputId": "557571fd-4028-4e40-8a67-656e561d0f59"
      },
      "outputs": [
        {
          "name": "stdout",
          "output_type": "stream",
          "text": [
            "['akshaya', 25, 'Kodungallur']\n",
            "Kodungallur\n",
            "rullagnudoK\n",
            "['Kodungallur', 25, 'akshaya']\n"
          ]
        }
      ],
      "source": [
        "#List programs\n",
        "mylist=[\"akshaya\",25,\"Kodungallur\"]\n",
        "print(mylist)\n",
        "print(mylist[2])\n",
        "print(mylist[2][::-1])\n",
        "print(mylist[::-1])"
      ]
    },
    {
      "cell_type": "markdown",
      "metadata": {
        "id": "X9xROHf75UlV"
      },
      "source": [
        "**tuple**"
      ]
    },
    {
      "cell_type": "code",
      "execution_count": null,
      "metadata": {
        "colab": {
          "base_uri": "https://localhost:8080/"
        },
        "id": "NNdHMBdB340s",
        "outputId": "0c7c8069-7a8f-4d46-8d38-04c08f622df0"
      },
      "outputs": [
        {
          "name": "stdout",
          "output_type": "stream",
          "text": [
            "('akshaya', 25, 'Kodungallur')\n",
            "('akshaya', 25)\n",
            "('Kodungallur', 25, 'akshaya')\n",
            "('akshaya', 25, 'Kodungallur', 'akshaya', 25, 'Kodungallur', 'akshaya', 25, 'Kodungallur', 'akshaya', 25, 'Kodungallur', 'akshaya', 25, 'Kodungallur', 'akshaya', 25, 'Kodungallur', 'akshaya', 25, 'Kodungallur', 'akshaya', 25, 'Kodungallur', 'akshaya', 25, 'Kodungallur', 'akshaya', 25, 'Kodungallur', 'akshaya', 25, 'Kodungallur', 'akshaya', 25, 'Kodungallur')\n",
            "('akshaya', 25, 'Kodungallur', 'Ernakulam')\n"
          ]
        }
      ],
      "source": [
        "#Tuple programs\n",
        "mytuple=(\"akshaya\",25,\"Kodungallur\")\n",
        "mytuple1=(\"Ernakulam\",)\n",
        "print(mytuple)\n",
        "print(mytuple[0:2])\n",
        "print(mytuple[::-1])\n",
        "print(mytuple*(12))\n",
        "p=(mytuple+mytuple1)\n",
        "print(p)"
      ]
    },
    {
      "cell_type": "markdown",
      "metadata": {
        "id": "sMCeCjTB5RyC"
      },
      "source": [
        "**set**"
      ]
    },
    {
      "cell_type": "code",
      "execution_count": null,
      "metadata": {
        "colab": {
          "base_uri": "https://localhost:8080/"
        },
        "id": "nrAN46_S5Q7D",
        "outputId": "a6973ebe-6f5c-4a17-b887-cc366605f7ee"
      },
      "outputs": [
        {
          "name": "stdout",
          "output_type": "stream",
          "text": [
            "{2, 'oneteam', 375, 'a', 29}\n"
          ]
        }
      ],
      "source": [
        "myset={29,2,375,\"oneteam\",2,'a',2,'a'}\n",
        "print(myset)"
      ]
    },
    {
      "cell_type": "markdown",
      "metadata": {
        "id": "70_FiEGS57oQ"
      },
      "source": [
        "dictionary"
      ]
    },
    {
      "cell_type": "code",
      "execution_count": null,
      "metadata": {
        "colab": {
          "base_uri": "https://localhost:8080/"
        },
        "id": "W_tDmwa556jx",
        "outputId": "b5dce832-3324-4e72-b061-ac3dd97cffd3"
      },
      "outputs": [
        {
          "name": "stdout",
          "output_type": "stream",
          "text": [
            "{'name': 'akshaya', 'age': '25', 'place': 'kodungallur'}\n",
            "akshaya\n",
            "25\n",
            "kodungallur\n"
          ]
        }
      ],
      "source": [
        "mypro={'name':'akshaya','age':'25','place':'kodungallur'}\n",
        "print(mypro)\n",
        "print(mypro['name'])\n",
        "print(mypro['age'])\n",
        "print(mypro['place'])"
      ]
    },
    {
      "cell_type": "code",
      "execution_count": null,
      "metadata": {
        "colab": {
          "base_uri": "https://localhost:8080/"
        },
        "id": "LZXSShPH6dZ2",
        "outputId": "2212a606-0552-4e0f-8194-aa43cde70fd2"
      },
      "outputs": [
        {
          "name": "stdout",
          "output_type": "stream",
          "text": [
            "<class 'int'>\n",
            "<class 'str'>\n",
            "<class 'list'>\n",
            "<class 'tuple'>\n"
          ]
        }
      ],
      "source": [
        "a=10\n",
        "print(type(a))\n",
        "s=str(a)\n",
        "print(type(s))\n",
        "mylist=[1,'apple',2,'orange',3,'graps']\n",
        "print(type(mylist))\n",
        "S=tuple(mylist)\n",
        "print(type(S))"
      ]
    },
    {
      "cell_type": "code",
      "execution_count": null,
      "metadata": {
        "colab": {
          "base_uri": "https://localhost:8080/"
        },
        "id": "5kD3mqi2nj8b",
        "outputId": "d2551899-81a7-435d-d2cc-71ad28ad301d"
      },
      "outputs": [
        {
          "name": "stdout",
          "output_type": "stream",
          "text": [
            "0\n",
            "1\n",
            "2\n",
            "3\n",
            "4\n",
            "5\n",
            "6\n",
            "7\n",
            "8\n",
            "9\n",
            "10\n",
            "11\n",
            "12\n",
            "13\n",
            "14\n",
            "15\n",
            "16\n",
            "17\n",
            "18\n",
            "19\n",
            "20\n"
          ]
        }
      ],
      "source": [
        "#while loop\n",
        "i=0\n",
        "while(i<=20):\n",
        "  print(i)\n",
        "  i+=1"
      ]
    },
    {
      "cell_type": "code",
      "execution_count": null,
      "metadata": {
        "colab": {
          "base_uri": "https://localhost:8080/"
        },
        "id": "3T0yIJMznlpo",
        "outputId": "62789bea-cd59-4057-ca62-7048a0fb2663"
      },
      "outputs": [
        {
          "name": "stdout",
          "output_type": "stream",
          "text": [
            "0\n",
            "2\n",
            "4\n",
            "6\n",
            "8\n",
            "10\n",
            "12\n",
            "14\n",
            "16\n",
            "18\n",
            "20\n",
            "22\n",
            "24\n",
            "26\n",
            "28\n",
            "30\n",
            "32\n",
            "34\n",
            "36\n",
            "38\n",
            "40\n",
            "42\n",
            "44\n",
            "46\n",
            "48\n",
            "50\n"
          ]
        }
      ],
      "source": [
        "#while loop even number\n",
        "sum=0\n",
        "while(sum<=50):\n",
        "  print(sum)\n",
        "  sum+=2"
      ]
    },
    {
      "cell_type": "code",
      "execution_count": null,
      "metadata": {
        "colab": {
          "base_uri": "https://localhost:8080/"
        },
        "id": "cm5CvMjsn1RA",
        "outputId": "7310a072-69ac-41f0-e4f7-6c741a5d7f5c"
      },
      "outputs": [
        {
          "name": "stdout",
          "output_type": "stream",
          "text": [
            "entrer a number6\n",
            "enter the limit10\n",
            "0 * 6 = 0\n",
            "1 * 6 = 6\n",
            "2 * 6 = 12\n",
            "3 * 6 = 18\n",
            "4 * 6 = 24\n",
            "5 * 6 = 30\n",
            "6 * 6 = 36\n",
            "7 * 6 = 42\n",
            "8 * 6 = 48\n",
            "9 * 6 = 54\n",
            "10 * 6 = 60\n"
          ]
        }
      ],
      "source": [
        "\n",
        "#multiplication table\n",
        "sum=0\n",
        "Mult=int(input(\"entrer a number\"))\n",
        "limit=int(input(\"enter the limit\"))\n",
        "while(sum<=limit):\n",
        "  result=sum*Mult\n",
        "  print(sum,\"*\",Mult,\"=\",result)\n",
        "  sum+=1\n"
      ]
    },
    {
      "cell_type": "code",
      "execution_count": null,
      "metadata": {
        "colab": {
          "base_uri": "https://localhost:8080/"
        },
        "id": "i4obgDnIot3Y",
        "outputId": "28c81438-5d9f-45f1-e22a-a3cb805e8e7e"
      },
      "outputs": [
        {
          "output_type": "stream",
          "name": "stdout",
          "text": [
            "enter the limt up to which you want to find the sum of even numbers20\n",
            "110\n"
          ]
        }
      ],
      "source": [
        "#while loop sum of even number\n",
        "limit=int(input(\"enter the limt up to which you want to find the sum of even numbers\"))\n",
        "sum=0#\n",
        "even_num=2\n",
        "while(even_num<=limit):#10 2<10,4<10,6<10,8<10,10<=10,12>=10 not true\n",
        "  sum+=even_num#0+2=2, 2+4=6,6+6=12,12+8=20,20+10=30\n",
        "  even_num+=2 #4,6,8,10,12\n",
        "#print outside loop to show all the result as sum,if you print inside loop each element will show\n",
        "print(sum)\n"
      ]
    },
    {
      "cell_type": "code",
      "execution_count": null,
      "metadata": {
        "colab": {
          "base_uri": "https://localhost:8080/"
        },
        "id": "9LEYaKbsr7jw",
        "outputId": "eaaa393d-ad42-4cd4-e9eb-707f2959d872"
      },
      "outputs": [
        {
          "name": "stdout",
          "output_type": "stream",
          "text": [
            "enter the  number up to which you want to calculate the product of even numbers10\n",
            "3840\n"
          ]
        }
      ],
      "source": [
        "#product of even number\n",
        "limt=int(input(\"enter the  number up to which you want to calculate the product of even numbers\"))\n",
        "product=1\n",
        "even_num=2\n",
        "while(even_num<=limt):\n",
        "  product*=even_num\n",
        "  even_num+=2\n",
        "print(product)"
      ]
    },
    {
      "cell_type": "code",
      "execution_count": null,
      "metadata": {
        "colab": {
          "base_uri": "https://localhost:8080/"
        },
        "id": "smtI8pI619Az",
        "outputId": "4a2fa801-bbff-4aaf-b839-267c7b8ed1c0"
      },
      "outputs": [
        {
          "name": "stdout",
          "output_type": "stream",
          "text": [
            "enter the number up to which you want to calculate the sum of natural number10\n",
            "The sum of the natural numbers of 10 is: 55\n"
          ]
        }
      ],
      "source": [
        "#sum of natural numbers\n",
        "limit=int(input(\"enter the number up to which you want to calculate the sum of natural number\"))\n",
        "num=1\n",
        "sum=0\n",
        "while(num<=limit):\n",
        "  sum+=num\n",
        "  num+=1\n",
        "print(\"The sum of the natural numbers of\",limit,\"is:\",sum)"
      ]
    },
    {
      "cell_type": "code",
      "execution_count": null,
      "metadata": {
        "colab": {
          "base_uri": "https://localhost:8080/"
        },
        "id": "X8sJ1_cnIEPZ",
        "outputId": "7bc8d7e3-5ff4-47ca-b0c1-13b61f1bce4b"
      },
      "outputs": [
        {
          "name": "stdout",
          "output_type": "stream",
          "text": [
            "enter the number which you want to sum up the factorial5\n",
            "120\n"
          ]
        }
      ],
      "source": [
        "#sum of factorial\n",
        "limit=int(input(\"enter the number which you want to sum up the factorial\"))\n",
        "factorial=1\n",
        "while(limit>0):\n",
        "  factorial*=limit\n",
        "  limit-=1\n",
        "print(factorial)"
      ]
    },
    {
      "cell_type": "code",
      "execution_count": null,
      "metadata": {
        "colab": {
          "base_uri": "https://localhost:8080/"
        },
        "id": "vXEaBSz1O-Kc",
        "outputId": "c730cb53-bdb5-4f67-a693-b401448b22cb"
      },
      "outputs": [
        {
          "name": "stdout",
          "output_type": "stream",
          "text": [
            "enter a number123\n",
            "sum of the digit is: 6\n"
          ]
        }
      ],
      "source": [
        "#sum of the digit\n",
        "num=int(input(\"enter a number\"))\n",
        "digit=0\n",
        "sum_digit=0\n",
        "while(num>0):\n",
        "  digit=num%10 #digit = num % 10 - This line retrieves the last digit of the number by taking the remainder when divided by 10. For instance, if num = 123, digit will be 3.\n",
        "  sum_digit+=digit\n",
        "  num=num//10 #num = num // 10 - This line updates the value of num by eliminating the last digit. For instance, if num = 123, after this operation, num becomes 12 (integer division drops the remainder).\n",
        "print(\"sum of the digit is:\",sum_digit)\n"
      ]
    },
    {
      "cell_type": "code",
      "execution_count": null,
      "metadata": {
        "colab": {
          "base_uri": "https://localhost:8080/"
        },
        "id": "Fh3n3qfSz10b",
        "outputId": "a1d35efe-60d4-43b3-c770-03583f89bd6c"
      },
      "outputs": [
        {
          "name": "stdout",
          "output_type": "stream",
          "text": [
            "current value is: 9\n",
            "current value is: 8\n",
            "current value is: 7\n",
            "current value is: 6\n",
            "current value is: 4\n",
            "current value is: 3\n",
            "current value is: 2\n",
            "current value is: 1\n",
            "current value is: 0\n"
          ]
        }
      ],
      "source": [
        "#continue\n",
        "vari=10\n",
        "while vari>0:\n",
        "  vari=vari-1\n",
        "  if vari==5:\n",
        "    continue\n",
        "  print(\"current value is:\",vari)\n"
      ]
    },
    {
      "cell_type": "code",
      "execution_count": null,
      "metadata": {
        "colab": {
          "base_uri": "https://localhost:8080/"
        },
        "id": "S7E5yJzX1eyl",
        "outputId": "6339f56f-d967-45b1-f3b4-d1f3c277e150"
      },
      "outputs": [
        {
          "name": "stdout",
          "output_type": "stream",
          "text": [
            "current value is: 9\n",
            "current value is: 8\n",
            "current value is: 7\n",
            "current value is: 6\n",
            "current value is: 5\n",
            "current value is: 4\n",
            "current value is: 3\n",
            "current value is: 2\n",
            "current value is: 1\n",
            "current value is: 0\n"
          ]
        }
      ],
      "source": [
        "#pass\n",
        "vari=10\n",
        "while vari>0:\n",
        "  vari=vari-1\n",
        "  if vari==5:\n",
        "    pass\n",
        "  print(\"current value is:\",vari)\n"
      ]
    },
    {
      "cell_type": "code",
      "execution_count": null,
      "metadata": {
        "colab": {
          "base_uri": "https://localhost:8080/"
        },
        "id": "9Y5ZZeKM1iY6",
        "outputId": "44e74556-1145-4768-be99-5d32fa25254b"
      },
      "outputs": [
        {
          "name": "stdout",
          "output_type": "stream",
          "text": [
            "current value is: 9\n",
            "current value is: 8\n",
            "current value is: 7\n",
            "current value is: 6\n"
          ]
        }
      ],
      "source": [
        "#break\n",
        "vari=10\n",
        "while vari>0:\n",
        "  vari=vari-1\n",
        "  if vari==5:\n",
        "    break\n",
        "  print(\"current value is:\",vari)\n"
      ]
    },
    {
      "cell_type": "code",
      "execution_count": null,
      "metadata": {
        "colab": {
          "base_uri": "https://localhost:8080/"
        },
        "id": "UuNBpwf23Ytz",
        "outputId": "388afb05-f12c-4289-9cfa-6fd84cc9f6b4"
      },
      "outputs": [
        {
          "name": "stdout",
          "output_type": "stream",
          "text": [
            "o\n",
            "n\n",
            "e\n",
            " \n",
            "t\n",
            "e\n",
            "a\n",
            "m\n"
          ]
        }
      ],
      "source": [
        "#for loop\n",
        "for i in \"one team\":\n",
        "  print(i)\n"
      ]
    },
    {
      "cell_type": "code",
      "execution_count": null,
      "metadata": {
        "colab": {
          "base_uri": "https://localhost:8080/"
        },
        "id": "zu68_vwE03iJ",
        "outputId": "b51e6214-2d0c-4bb2-9551-3c30fab63194"
      },
      "outputs": [
        {
          "name": "stdout",
          "output_type": "stream",
          "text": [
            "akshaya\n",
            "1998\n",
            "kodungallu\n",
            "koch\n"
          ]
        }
      ],
      "source": [
        "#for loop\n",
        "my_list=[\"akshaya\",1998,\"kodungallu\",\"kochi\"]\n",
        "for i in my_list:\n",
        "  print(i)"
      ]
    },
    {
      "cell_type": "code",
      "execution_count": null,
      "metadata": {
        "colab": {
          "base_uri": "https://localhost:8080/"
        },
        "id": "z690yFWV5TD-",
        "outputId": "22dee4f7-be96-4a34-87ac-9b07e2e7d58e"
      },
      "outputs": [
        {
          "name": "stdout",
          "output_type": "stream",
          "text": [
            "120\n"
          ]
        }
      ],
      "source": [
        "#for loop factorial\n",
        "num=5\n",
        "factorial=1\n",
        "for i in range(1,num+1):\n",
        "  factorial=factorial*i\n",
        "print(factorial)\n"
      ]
    },
    {
      "cell_type": "code",
      "execution_count": null,
      "metadata": {
        "colab": {
          "base_uri": "https://localhost:8080/"
        },
        "id": "fA44SaQZ7pU7",
        "outputId": "6b076b3a-ca19-47b7-c06d-66909188d401"
      },
      "outputs": [
        {
          "name": "stdout",
          "output_type": "stream",
          "text": [
            "enter the number5\n",
            "120\n"
          ]
        }
      ],
      "source": [
        "#another way to find factorial by using for loop\n",
        "num=int(input(\"enter the number\"))\n",
        "if num==0:\n",
        "  print(\"factorial of 0 is 1\")\n",
        "else:\n",
        "  product=1\n",
        "for i in range(num,1,-1):\n",
        "  product*=i\n",
        "print(product)"
      ]
    },
    {
      "cell_type": "code",
      "execution_count": null,
      "metadata": {
        "colab": {
          "base_uri": "https://localhost:8080/"
        },
        "id": "irRNx17c91_u",
        "outputId": "258d8064-efc2-4ad6-813c-70f972b66321"
      },
      "outputs": [
        {
          "name": "stdout",
          "output_type": "stream",
          "text": [
            "original list [1, 2, 3, 4, 5]\n",
            "reversed list [5, 4, 3, 2, 1]\n"
          ]
        }
      ],
      "source": [
        "original_list=[1,2,3,4,5]\n",
        "reversed_list=[]\n",
        "for item in original_list:\n",
        "  reversed_list.insert(0,item)\n",
        "  #here inserting item to 0th position.\n",
        "print(\"original list\",original_list)\n",
        "print(\"reversed list\",reversed_list)"
      ]
    },
    {
      "cell_type": "code",
      "execution_count": null,
      "metadata": {
        "colab": {
          "base_uri": "https://localhost:8080/"
        },
        "id": "mbW9NTdLAhlK",
        "outputId": "2b820249-d9b3-46b5-8cc0-16c97c8c4ca6"
      },
      "outputs": [
        {
          "name": "stdout",
          "output_type": "stream",
          "text": [
            "enter a number5\n",
            "automorphic\n",
            "trimorphic\n"
          ]
        }
      ],
      "source": [
        "#automorphic numbers\n",
        "num=int(input(\"enter a number\"))\n",
        "square=num**2\n",
        "cube=num**3\n",
        "smod=pow(10,len(str(num)))\n",
        "cmod=pow(10,len(str(num)))\n",
        "#checking automorphic\n",
        "if square%smod==num:\n",
        "  print(\"automorphic\")\n",
        "else:\n",
        "  print(\"not automorphic\")\n",
        "  #checkin trimorphic\n",
        "if cube%cmod==num:\n",
        "  print(\"trimorphic\")\n",
        "else:\n",
        "  print(\"not trimorphic\")\n"
      ]
    },
    {
      "cell_type": "code",
      "execution_count": null,
      "metadata": {
        "colab": {
          "base_uri": "https://localhost:8080/"
        },
        "id": "JfmrCxQd5Xkx",
        "outputId": "bca64d26-a154-4e48-c09b-0f6f4a2410b6"
      },
      "outputs": [
        {
          "name": "stdout",
          "output_type": "stream",
          "text": [
            "Hi! here is you options:\n",
            "enter '1' for addition\n",
            "enter '2' for subtraction\n",
            "enter '3' for multiplication\n",
            "enter '4' for division\n",
            "2\n",
            "enter two numbers4\n",
            "2\n",
            "result: 2.0\n"
          ]
        }
      ],
      "source": [
        "#calculator program by using if elif else\n",
        "print(\"Hi! here is you options:\")\n",
        "choice=input(\"enter '1' for addition\\n\"\"enter '2' for subtraction\\n\"\"enter '3' for multiplication\\n\"\"enter '4' for division\\n\")\n",
        "num1=float(input(\"enter two numbers\"))\n",
        "num2=float(input())\n",
        "if choice=='1':\n",
        "  result=num1+num2\n",
        "  print(\"the result is:\",(result))\n",
        "elif choice=='2':\n",
        "  result=num1-num2\n",
        "  print(\"result:\",result)\n",
        "elif choice=='3':\n",
        "  result=num1*num2\n",
        "  print(\"result:\",result)\n",
        "elif choice=='4':\n",
        "  result=num1/num2\n",
        "  print(\"result:\",result)\n",
        "else:\n",
        "  print(\"entered invalid number\")\n",
        "\n",
        "\n",
        "\n",
        "\n"
      ]
    },
    {
      "cell_type": "code",
      "execution_count": null,
      "metadata": {
        "colab": {
          "base_uri": "https://localhost:8080/"
        },
        "id": "L6LGbm5dCmh4",
        "outputId": "958755a2-5947-4794-b857-0f4bef0fad9f"
      },
      "outputs": [
        {
          "name": "stdout",
          "output_type": "stream",
          "text": [
            "enter the length of the base side10\n",
            "enter the length of the height side10\n",
            "enter the length of the hypotenuse10\n",
            "its an equilateral tringle,but not a right tringle\n"
          ]
        }
      ],
      "source": [
        "#checking the right triangle\n",
        "base=float(input(\"enter the length of the base side\"))\n",
        "height=float(input(\"enter the length of the height side\"))\n",
        "hypotenuse=float(input(\"enter the length of the hypotenuse\"))\n",
        "#in a right tringle,the square of the length of the hypo is equal to the sum of the squares of other side (which is base and height)\n",
        "if base**2+height**2==hypotenuse**2:\n",
        "  print(\"its a right tringle\")\n",
        "elif base==height==hypotenuse:\n",
        "  print(\"its an equilateral tringle,but not a right tringle\")\n",
        "else:\n",
        "  print(\"its not a right tringle\")\n"
      ]
    },
    {
      "cell_type": "code",
      "execution_count": null,
      "metadata": {
        "colab": {
          "base_uri": "https://localhost:8080/"
        },
        "id": "kLYQ_AaoUN_A",
        "outputId": "89bf1063-0778-4074-ba50-43280d91c72d"
      },
      "outputs": [
        {
          "output_type": "stream",
          "name": "stdout",
          "text": [
            "enter the length of three  sides4\n",
            "6\n",
            "7\n",
            "its not a right tringle\n"
          ]
        }
      ],
      "source": [
        "side1=float(input(\"enter the length of three  sides\"))\n",
        "side2=float(input())\n",
        "side3=float(input())\n",
        "#in a right tringle,the square of the length of the hypo is equal to the sum of the squares of other side (which is base and height)\n",
        "if(side1**2+side2**2==side3**2) or (side1**2+side3**2==side2**2) or (side2**2+side3**2==side1**2):\n",
        "  print(\"its a right tringle\")\n",
        "elif side1==side2==side3:\n",
        "  print(\"its an equilateral tringle,but not a right tringle\")\n",
        "else:\n",
        "  print(\"its not a right tringle\")\n"
      ]
    },
    {
      "cell_type": "code",
      "execution_count": null,
      "metadata": {
        "colab": {
          "base_uri": "https://localhost:8080/"
        },
        "id": "14KbPogUO2rw",
        "outputId": "7def1664-8704-4aa4-fe16-250fc5fc0927"
      },
      "outputs": [
        {
          "name": "stdout",
          "output_type": "stream",
          "text": [
            "enter the angle of x60\n",
            "enter the angle of y60\n",
            "enter the angle of z60\n",
            "it is not triangle\n"
          ]
        }
      ],
      "source": [
        "#finding triangle\n",
        "x=int(input(\"enter the angle of x\"))\n",
        "y=int(input(\"enter the angle of y\"))\n",
        "z=int(input(\"enter the angle of z\"))\n",
        "total=x+y+z\n",
        "if (total==180) and (x==90 or y==90 or z==90):\n",
        "  print(\"it is triangle\")\n",
        "else:\n",
        "  print(\"it is not triangle\")\n",
        "\n"
      ]
    },
    {
      "cell_type": "code",
      "execution_count": null,
      "metadata": {
        "colab": {
          "base_uri": "https://localhost:8080/"
        },
        "id": "cDqxutzhSKO5",
        "outputId": "3d23f3ea-1558-4a59-d8e5-81ed3e6c8184"
      },
      "outputs": [
        {
          "name": "stdout",
          "output_type": "stream",
          "text": [
            "18\n",
            "PYTHON PROGRAMMING\n",
            "python programming\n",
            "Python programming\n"
          ]
        }
      ],
      "source": [
        "#string inbuild methods\n",
        "my_string=\"python programming\"\n",
        "#len used to know the length of the string\n",
        "print(len(my_string))\n",
        "#upper is used for changing into upper case of whole string\n",
        "print(my_string.upper())\n",
        "#lower for lower case\n",
        "print(my_string.lower())\n",
        "#capitalize only first letter become capital\n",
        "print(my_string.capitalize())"
      ]
    },
    {
      "cell_type": "code",
      "execution_count": null,
      "metadata": {
        "colab": {
          "base_uri": "https://localhost:8080/"
        },
        "id": "rIbbV9iLU95Q",
        "outputId": "764069d3-f688-4200-a0eb-49746a9a4c33"
      },
      "outputs": [
        {
          "name": "stdout",
          "output_type": "stream",
          "text": [
            "3\n"
          ]
        }
      ],
      "source": [
        "#string inbuild method\n",
        "#count\n",
        "s=\"hello,hello,hello,world!\"\n",
        "count=s.count(\"hello\")\n",
        "print(count)"
      ]
    },
    {
      "cell_type": "code",
      "execution_count": null,
      "metadata": {
        "colab": {
          "base_uri": "https://localhost:8080/"
        },
        "id": "pn8RC4MWVacN",
        "outputId": "70d67dc7-a860-4415-e7f8-63bcaa239647"
      },
      "outputs": [
        {
          "name": "stdout",
          "output_type": "stream",
          "text": [
            "hi world!\n"
          ]
        }
      ],
      "source": [
        "#string inbuild method\n",
        "#replace\n",
        "my_string=(\"hello world!\")\n",
        "new_string=my_string.replace(\"hello\",\"hi\")\n",
        "print(new_string)"
      ]
    },
    {
      "cell_type": "code",
      "execution_count": null,
      "metadata": {
        "colab": {
          "base_uri": "https://localhost:8080/"
        },
        "id": "IkluzxzzV8r5",
        "outputId": "16079545-86e0-42c2-d64b-4e0fe2d498eb"
      },
      "outputs": [
        {
          "name": "stdout",
          "output_type": "stream",
          "text": [
            "['apple,orange,banana']\n"
          ]
        }
      ],
      "source": [
        "#string inbuild method\n",
        "#split\n",
        "my_string=\"apple,orange,banana\"\n",
        "fruits=my_string.split()\n",
        "print(fruits)"
      ]
    },
    {
      "cell_type": "code",
      "execution_count": null,
      "metadata": {
        "colab": {
          "base_uri": "https://localhost:8080/"
        },
        "id": "zbQVxB4rb-jv",
        "outputId": "ccddce3e-76c7-4650-9100-e6743c9f705e"
      },
      "outputs": [
        {
          "name": "stdout",
          "output_type": "stream",
          "text": [
            "[1, 2, 3, 4]\n"
          ]
        }
      ],
      "source": [
        "#list inbuild method\n",
        "#append is used to add an item in the last of the list\n",
        "my_list=[1,2,3]\n",
        "my_list.append(4)\n",
        "print(my_list)"
      ]
    },
    {
      "cell_type": "code",
      "execution_count": null,
      "metadata": {
        "colab": {
          "base_uri": "https://localhost:8080/"
        },
        "id": "HcDtdQOOcCjL",
        "outputId": "6a70ac57-d439-44d9-e746-2a6c37c5347a"
      },
      "outputs": [
        {
          "name": "stdout",
          "output_type": "stream",
          "text": [
            "[1, 2, 3, 4, 5, 6]\n"
          ]
        }
      ],
      "source": [
        "#list inbuild method\n",
        "#extend is used to add mutiple items in the last of the list\n",
        "my_list=[1,2,3]\n",
        "my_list.extend([4,5,6])\n",
        "print(my_list)"
      ]
    },
    {
      "cell_type": "code",
      "execution_count": null,
      "metadata": {
        "colab": {
          "base_uri": "https://localhost:8080/"
        },
        "id": "s-AhHyTMcbPs",
        "outputId": "af7f4308-d069-4b18-acfd-af852615aac2"
      },
      "outputs": [
        {
          "name": "stdout",
          "output_type": "stream",
          "text": [
            "[12, 1, 2, 3]\n"
          ]
        }
      ],
      "source": [
        "#list inbuild method\n",
        "#insert-by using insert you can add item anywhere as your wish in the list\n",
        "my_list=[1,2,3]\n",
        "my_list.insert(0,12)\n",
        "print(my_list)"
      ]
    },
    {
      "cell_type": "code",
      "execution_count": null,
      "metadata": {
        "colab": {
          "base_uri": "https://localhost:8080/"
        },
        "id": "dkGP2rbKc_bF",
        "outputId": "13f28fc6-a556-474a-8c66-c35329bc17b6"
      },
      "outputs": [
        {
          "output_type": "stream",
          "name": "stdout",
          "text": [
            "[1, 3, 2]\n"
          ]
        }
      ],
      "source": [
        "#list inbuild method\n",
        "#remove-remove is used to remove the item or element in the list\n",
        "my_list=[1,2,3,2]\n",
        "my_list.remove(2)\n",
        "print(my_list)"
      ]
    },
    {
      "cell_type": "code",
      "execution_count": null,
      "metadata": {
        "colab": {
          "base_uri": "https://localhost:8080/"
        },
        "id": "pap_Oy03degh",
        "outputId": "bcbc9503-482b-4d59-e934-42ec2aecf506"
      },
      "outputs": [
        {
          "name": "stdout",
          "output_type": "stream",
          "text": [
            "[1, 2, 3]\n"
          ]
        }
      ],
      "source": [
        "#list inbuild method\n",
        "#pop- to remove last idex item\n",
        "my_list=[1,2,3,2]\n",
        "my_list.pop()\n",
        "print(my_list)"
      ]
    },
    {
      "cell_type": "code",
      "execution_count": null,
      "metadata": {
        "colab": {
          "base_uri": "https://localhost:8080/"
        },
        "id": "cupRMcxOdejf",
        "outputId": "f3b6e452-bfe3-40b7-ff60-d30bb5863017"
      },
      "outputs": [
        {
          "name": "stdout",
          "output_type": "stream",
          "text": [
            "2\n"
          ]
        }
      ],
      "source": [
        "#list inbuild method\n",
        "#index-used to know the position of items\n",
        "my_list=[1,2,3,2]\n",
        "s=my_list.index(3)\n",
        "print(s)"
      ]
    },
    {
      "cell_type": "code",
      "execution_count": null,
      "metadata": {
        "colab": {
          "base_uri": "https://localhost:8080/"
        },
        "id": "kJholZ_KeT5V",
        "outputId": "c95cc148-802f-4009-d664-fca35d7f3958"
      },
      "outputs": [
        {
          "name": "stdout",
          "output_type": "stream",
          "text": [
            "4\n"
          ]
        }
      ],
      "source": [
        "#list inbuild method\n",
        "#count-to find repeated elements or items\n",
        "my_list=[1,2,3,2,2,2]\n",
        "s=my_list.count(2)\n",
        "print(s)"
      ]
    },
    {
      "cell_type": "code",
      "execution_count": null,
      "metadata": {
        "colab": {
          "base_uri": "https://localhost:8080/"
        },
        "id": "uSzp7eZTeT8W",
        "outputId": "32ab584e-1c07-4fdf-9cad-924e3f386736"
      },
      "outputs": [
        {
          "name": "stdout",
          "output_type": "stream",
          "text": [
            "[12, 32, 41, 63]\n"
          ]
        }
      ],
      "source": [
        "#list inbuild method\n",
        "#sort-used to sort the list\n",
        "my_list=[41,12,63,32]\n",
        "my_list.sort()\n",
        "print(my_list)"
      ]
    },
    {
      "cell_type": "code",
      "execution_count": null,
      "metadata": {
        "colab": {
          "base_uri": "https://localhost:8080/"
        },
        "id": "QsGM1JZpfAFj",
        "outputId": "8b491734-8263-4a9e-e4da-2f6355ec6914"
      },
      "outputs": [
        {
          "name": "stdout",
          "output_type": "stream",
          "text": [
            "[32, 63, 12, 41]\n"
          ]
        }
      ],
      "source": [
        "#list inbuild method\n",
        "#reverse- used to reverse\n",
        "my_list=[41,12,63,32]\n",
        "my_list.reverse()\n",
        "print(my_list)"
      ]
    },
    {
      "cell_type": "code",
      "execution_count": null,
      "metadata": {
        "colab": {
          "base_uri": "https://localhost:8080/"
        },
        "id": "Skk111oBfSCV",
        "outputId": "02340cc7-a05e-4116-da9e-93568211abd2"
      },
      "outputs": [
        {
          "name": "stdout",
          "output_type": "stream",
          "text": [
            "[]\n",
            "[1, 2, 3, 4]\n"
          ]
        }
      ],
      "source": [
        "#list inbuild method\n",
        "#clear-to clear whole list after that it becom empty list so using append,insert,extend method can add items or elements\n",
        "my_list=[41,12,63,32]\n",
        "my_list.clear()\n",
        "print(my_list)\n",
        "my_list.extend([1,2,3,4])\n",
        "print(my_list)"
      ]
    },
    {
      "cell_type": "code",
      "execution_count": null,
      "metadata": {
        "colab": {
          "base_uri": "https://localhost:8080/"
        },
        "id": "EeqPH2GT-_e6",
        "outputId": "ad0d742a-7eba-4fe9-e3dc-d7af95cd3610"
      },
      "outputs": [
        {
          "name": "stdout",
          "output_type": "stream",
          "text": [
            "18\n",
            "PYTHON PROGRAMMING\n",
            "python programming\n",
            "Python programming\n",
            "2\n",
            "2\n",
            "java programming\n"
          ]
        }
      ],
      "source": [
        "s=\"python programming\"\n",
        "print(len(s))\n",
        "print(s.upper())\n",
        "print(s.lower())\n",
        "print(s.capitalize())\n",
        "count=s.count(\"o\")\n",
        "print(count)\n",
        "print(s.count(\"o\"))\n",
        "print(s.replace(\"python\",\"java\"))\n"
      ]
    },
    {
      "cell_type": "code",
      "execution_count": null,
      "metadata": {
        "colab": {
          "base_uri": "https://localhost:8080/"
        },
        "id": "M-MpzS31DWqk",
        "outputId": "65744aec-f93e-4355-8722-1d44c6aee823"
      },
      "outputs": [
        {
          "name": "stdout",
          "output_type": "stream",
          "text": [
            "[20, 10, 50, 50, 10, 40, 30, 50, 40, 30, 50]\n",
            "[20, 10, 50, 50, 10, 40, 30, 50, 40, 30, 50, 50, 20, 10]\n",
            "[10, 20, 10, 50, 50, 10, 40, 30, 50, 40, 30, 50, 50, 20, 10]\n",
            "[10, 20, 10, 50, 50, 10, 30, 50, 40, 30, 50, 50, 20, 10]\n",
            "[20, 10, 50, 50, 10, 30, 50, 40, 30, 50, 50, 20, 10]\n",
            "5\n",
            "None\n",
            "None\n"
          ]
        }
      ],
      "source": [
        "#list practical\n",
        "my_list=[20,10,50,50,10,40,30,50,40,30]\n",
        "my_list.append(50)\n",
        "print(my_list)\n",
        "my_list.extend([50,20,10])\n",
        "print(my_list)\n",
        "my_list.insert(0,10)\n",
        "print(my_list)\n",
        "my_list.remove(40)\n",
        "print(my_list)\n",
        "my_list.pop(0)\n",
        "print(my_list)\n",
        "print(my_list.count(50))\n",
        "print(my_list.sort())\n",
        "print(my_list.reverse()\n",
        "\n"
      ]
    },
    {
      "cell_type": "code",
      "execution_count": null,
      "metadata": {
        "colab": {
          "base_uri": "https://localhost:8080/"
        },
        "id": "RDifYEXo3ze9",
        "outputId": "330b9399-daa3-42ee-a867-ab276591dfab"
      },
      "outputs": [
        {
          "name": "stdout",
          "output_type": "stream",
          "text": [
            "[10, 12, 11, 13, 14, 15]\n"
          ]
        }
      ],
      "source": [
        "#removing duplicate\n",
        "my_list=[10,12,11,10,10,13,14,15]\n",
        "duplicate=[]\n",
        "for item in my_list:\n",
        "  if item not in duplicate:\n",
        "    duplicate.append(item)\n",
        "print(duplicate)\n"
      ]
    },
    {
      "cell_type": "code",
      "execution_count": null,
      "metadata": {
        "colab": {
          "base_uri": "https://localhost:8080/"
        },
        "id": "1TbKe2bs__f6",
        "outputId": "f54d75c7-b531-4915-8919-d7a3a4504c91"
      },
      "outputs": [
        {
          "name": "stdout",
          "output_type": "stream",
          "text": [
            "{1, 2, 3, 4}\n",
            "{1, 2, 3, 4, -3}\n",
            "{1, 2, 3, 4, 5}\n",
            "{2, 3, 4, 5}\n"
          ]
        }
      ],
      "source": [
        "#set inbuild method\n",
        "#add\n",
        "my_set={1,2,3}\n",
        "my_set.add(4)\n",
        "print(my_set)\n",
        "\n",
        "#update\n",
        "my_set.update([4,-3])\n",
        "print(my_set)\n",
        "\n",
        "#remove\n",
        "my_set={1,2,3,4,5}\n",
        "#my_set.remove(6)\n",
        "#print(my_set)\n",
        "\n",
        "#discard\n",
        "my_set.discard(6)\n",
        "print(my_set)\n",
        "\n",
        "#pop\n",
        "my_set.pop()\n",
        "print(my_set)\n",
        "\n",
        "#clear\n",
        "my_set.clear()\n",
        "print(my_set)\n",
        "\n"
      ]
    },
    {
      "cell_type": "code",
      "execution_count": null,
      "metadata": {
        "colab": {
          "base_uri": "https://localhost:8080/"
        },
        "id": "rOJSQd84hXUU",
        "outputId": "e69407dd-7be8-44f8-d53c-ef425d46e48f"
      },
      "outputs": [
        {
          "name": "stdout",
          "output_type": "stream",
          "text": [
            "{1, 2, 3, 4, 5}\n",
            "{3}\n",
            "{1, 2}\n",
            "{4, 5}\n"
          ]
        }
      ],
      "source": [
        "#union prbls in set\n",
        "set1={1,2,3}\n",
        "set2={3,4,5}\n",
        "\n",
        "union_set=set1.union(set2)\n",
        "print(union_set)\n",
        "\n",
        "intersection_set=set1.intersection(set2)\n",
        "print(intersection_set)\n",
        "\n",
        "difference_set=set1.difference(set2)\n",
        "print(difference_set)\n",
        "\n",
        "difference_set=set2.difference(set1)\n",
        "print(difference_set)\n",
        "\n"
      ]
    },
    {
      "cell_type": "code",
      "execution_count": null,
      "metadata": {
        "colab": {
          "base_uri": "https://localhost:8080/"
        },
        "id": "QuLpMr-1sC2h",
        "outputId": "1fb76576-4407-474b-d255-aa02681ec4bc"
      },
      "outputs": [
        {
          "name": "stdout",
          "output_type": "stream",
          "text": [
            "{8, 9, 4, 6}\n"
          ]
        }
      ],
      "source": [
        "#another way to write set\n",
        "word=set([4,6,8,9])\n",
        "print(word)"
      ]
    },
    {
      "cell_type": "code",
      "execution_count": null,
      "metadata": {
        "colab": {
          "base_uri": "https://localhost:8080/"
        },
        "id": "P9YiBybDvTRq",
        "outputId": "909c9651-9b7f-448c-f9b8-bd03e7747efd"
      },
      "outputs": [
        {
          "name": "stdout",
          "output_type": "stream",
          "text": [
            "{1: 1, 2: 4, 3: 9, 4: 16}\n",
            "{1: 1, 2: 4, 3: 90, 4: 16}\n",
            "{1: 1, 2: 4, 3: 90, 4: 16, 5: 25}\n",
            "{1: 1, 2: 4, 4: 16, 5: 25}\n",
            "dict_keys([1, 2, 4, 5])\n",
            "dict_values([1, 4, 16, 25])\n",
            "dict_items([(1, 1), (2, 4), (4, 16), (5, 25)])\n",
            "<class 'dict_items'>\n",
            "4\n"
          ]
        }
      ],
      "source": [
        "#dictionary\n",
        "my_dict={1:1,2:4,3:9,4:16}\n",
        "print(my_dict)\n",
        "\n",
        "#to chane the value of key\n",
        "my_dict[3]=90\n",
        "print(my_dict)\n",
        "\n",
        "#to add new dict element\n",
        "\n",
        "my_dict[5]=25\n",
        "print(my_dict)\n",
        "\n",
        "#to delete\n",
        "\n",
        "del my_dict[3]\n",
        "print(my_dict)\n",
        "\n",
        "#to show value and key separately\n",
        "k=my_dict.keys()\n",
        "v=my_dict.values()\n",
        "i=my_dict.items()\n",
        "print(k)\n",
        "print(v)\n",
        "print(i)\n",
        "print(type(i))\n",
        "\n",
        "#using get\n",
        "se=my_dict.get(2)\n",
        "print(se)\n",
        "\n"
      ]
    },
    {
      "cell_type": "code",
      "execution_count": null,
      "metadata": {
        "colab": {
          "base_uri": "https://localhost:8080/"
        },
        "id": "GnRGfJXP3FFf",
        "outputId": "2ca074b9-2457-450d-96c3-a54e45d5d3e9"
      },
      "outputs": [
        {
          "name": "stdout",
          "output_type": "stream",
          "text": [
            "john\n",
            "{'name': 'john', 'age': 31, 'city': 'new york'}\n",
            "{'name': 'john', 'age': 31, 'city': 'new york', 'occupation': 'engineer'}\n",
            "{'name': 'john', 'age': 31, 'occupation': 'engineer'}\n",
            "dict_keys(['name', 'age', 'occupation'])\n",
            "dict_values(['john', 31, 'engineer'])\n",
            "dict_items([('name', 'john'), ('age', 31), ('occupation', 'engineer')])\n",
            "31\n",
            "N/A\n",
            "31\n",
            "{'name': 'john', 'occupation': 'engineer'}\n",
            "('occupation', 'engineer')\n",
            "{'name': 'john'}\n",
            "{}\n",
            "{'country': 'USA', 'age': '30'}\n"
          ]
        }
      ],
      "source": [
        "#example of dictionary\n",
        "my_dict={'name':'john','age':'30','city':'new york'}\n",
        "\n",
        "#accessing values by using key\n",
        "print(my_dict['name'])\n",
        "\n",
        "#updating values\n",
        "\n",
        "my_dict['age']=31\n",
        "print(my_dict)\n",
        "\n",
        "# adding ne key and value pair\n",
        "my_dict['occupation']='engineer'\n",
        "print(my_dict)\n",
        "\n",
        "#deleting a key_value pair\n",
        "del my_dict['city']\n",
        "print(my_dict)\n",
        "\n",
        "#using keys(),values(),items()\n",
        "key_list=my_dict.keys()\n",
        "value_list=my_dict.values()\n",
        "item_list=my_dict.items()\n",
        "print(key_list)\n",
        "print(value_list)\n",
        "print(item_list)\n",
        "\n",
        "#using get()\n",
        "value=my_dict.get('age','N/A')\n",
        "print(value)\n",
        "value=my_dict.get('salary','N/A')\n",
        "print(value)\n",
        "\n",
        "#using pop\n",
        "removed_value=my_dict.pop('age')\n",
        "print(removed_value)\n",
        "print(my_dict)\n",
        "\n",
        "#using popitem to remove last item\n",
        "removed_value=my_dict.popitem()\n",
        "print(removed_value)\n",
        "print(my_dict)\n",
        "\n",
        "#using clear\n",
        "my_dict.clear()\n",
        "print(my_dict)\n",
        "\n",
        "#using update()\n",
        "my_dict.update({'country':'USA','age':'30'})\n",
        "print(my_dict)\n",
        "\n",
        "\n",
        "\n"
      ]
    },
    {
      "cell_type": "markdown",
      "metadata": {
        "id": "y8QzCmZcUwVi"
      },
      "source": [
        " **model questins**"
      ]
    },
    {
      "cell_type": "code",
      "execution_count": null,
      "metadata": {
        "colab": {
          "base_uri": "https://localhost:8080/"
        },
        "id": "0LjHiQqGURH0",
        "outputId": "d7385136-6e7f-4777-f53b-33848a663e0d"
      },
      "outputs": [
        {
          "name": "stdout",
          "output_type": "stream",
          "text": [
            "welcome to python\n"
          ]
        }
      ],
      "source": [
        "#model quetions\n",
        "#1. write welcom to pyathon\n",
        "print(\"welcome to python\")"
      ]
    },
    {
      "cell_type": "code",
      "execution_count": null,
      "metadata": {
        "colab": {
          "base_uri": "https://localhost:8080/"
        },
        "id": "I3agGNx6Uorw",
        "outputId": "d5674c87-fe61-4bd0-836e-1bc7031eb6b9"
      },
      "outputs": [
        {
          "name": "stdout",
          "output_type": "stream",
          "text": [
            "10\n",
            "20\n",
            "30\n"
          ]
        }
      ],
      "source": [
        "#2.declaring multiple variables in a single line\n",
        "num1,num2,num3=10,20,30\n",
        "print(num1)\n",
        "print(num2)\n",
        "print(num3)"
      ]
    },
    {
      "cell_type": "code",
      "execution_count": null,
      "metadata": {
        "colab": {
          "base_uri": "https://localhost:8080/",
          "height": 140
        },
        "id": "NcEHpWQ6VaiN",
        "outputId": "dadea503-46e2-4fd4-9f3b-477151d538ab"
      },
      "outputs": [
        {
          "ename": "SyntaxError",
          "evalue": "ignored",
          "output_type": "error",
          "traceback": [
            "\u001b[0;36m  File \u001b[0;32m\"<ipython-input-3-ce629ff0e090>\"\u001b[0;36m, line \u001b[0;32m6\u001b[0m\n\u001b[0;31m    10=num1\u001b[0m\n\u001b[0m    ^\u001b[0m\n\u001b[0;31mSyntaxError\u001b[0m\u001b[0;31m:\u001b[0m cannot assign to literal here. Maybe you meant '==' instead of '='?\n"
          ]
        }
      ],
      "source": [
        "#3.legal and illegal variable\n",
        "#legal\n",
        "num1=10\n",
        "print(num)\n",
        "#illegal\n",
        "10=num1\n",
        "print(num1)\n"
      ]
    },
    {
      "cell_type": "code",
      "execution_count": null,
      "metadata": {
        "colab": {
          "base_uri": "https://localhost:8080/"
        },
        "id": "EkT7dErKaIwJ",
        "outputId": "65a4b7c8-a27c-4a3e-d468-b287b48afa44"
      },
      "outputs": [
        {
          "name": "stdout",
          "output_type": "stream",
          "text": [
            "python programming\n"
          ]
        }
      ],
      "source": [
        "#4.combine two variable\n",
        "vari1=\"python\"\n",
        "vari2=\" programming\"\n",
        "combine=vari1+vari2\n",
        "print(combine)"
      ]
    },
    {
      "cell_type": "code",
      "execution_count": null,
      "metadata": {
        "colab": {
          "base_uri": "https://localhost:8080/"
        },
        "id": "8_N1pn_42xQI",
        "outputId": "dbf58200-43f9-4def-efa8-c8e856428fac"
      },
      "outputs": [
        {
          "name": "stdout",
          "output_type": "stream",
          "text": [
            "<class 'int'>\n"
          ]
        }
      ],
      "source": [
        "#5.get a data type of an object\n",
        "num1=10\n",
        "print(type(num1))"
      ]
    },
    {
      "cell_type": "code",
      "execution_count": null,
      "metadata": {
        "colab": {
          "base_uri": "https://localhost:8080/"
        },
        "id": "TfBoUYFy3IGj",
        "outputId": "d68c19de-a5c3-43cc-ff10-15b8fa006620"
      },
      "outputs": [
        {
          "name": "stdout",
          "output_type": "stream",
          "text": [
            "My Name Akshaya\n",
            "I'm from kdr,\n",
            "good mrng frnds\n"
          ]
        }
      ],
      "source": [
        "#6.multiline strings\n",
        "my_string=\"\"\"My Name Akshaya\n",
        "I'm from kdr,\n",
        "good mrng frnds\"\"\"\n",
        "print(my_string)"
      ]
    },
    {
      "cell_type": "code",
      "execution_count": null,
      "metadata": {
        "colab": {
          "base_uri": "https://localhost:8080/"
        },
        "id": "Y6bEyt9n3v5c",
        "outputId": "6f93ecd8-9f23-4d25-f490-28d4051f8894"
      },
      "outputs": [
        {
          "name": "stdout",
          "output_type": "stream",
          "text": [
            "<class 'str'>\n",
            "<class 'int'>\n"
          ]
        }
      ],
      "source": [
        "#7.converting one data type into another one\n",
        "num1=10\n",
        "num=str(num1)\n",
        "print(type(num))\n",
        "\n",
        "#or\n",
        "\n",
        "num_str=\"333\"\n",
        "converted_num=int(num_str)\n",
        "print(type(converted_num))"
      ]
    },
    {
      "cell_type": "code",
      "execution_count": null,
      "metadata": {
        "colab": {
          "base_uri": "https://localhost:8080/"
        },
        "id": "gSKxBOfw48xp",
        "outputId": "ed6b1b55-7653-4175-ce06-df78d44040c3"
      },
      "outputs": [
        {
          "name": "stdout",
          "output_type": "stream",
          "text": [
            "enter your nameakshaya\n",
            "hi akshaya\n"
          ]
        }
      ],
      "source": [
        "#8.input a string\n",
        "my_string=input(\"enter your name:\")\n",
        "print(\"hi\",my_string)"
      ]
    },
    {
      "cell_type": "code",
      "execution_count": null,
      "metadata": {
        "colab": {
          "base_uri": "https://localhost:8080/"
        },
        "id": "6IgAnfC_50B-",
        "outputId": "5b45dd2d-fef1-4fa6-ba6b-fe64e28577c4"
      },
      "outputs": [
        {
          "name": "stdout",
          "output_type": "stream",
          "text": [
            "c\n",
            "o\n",
            "n\n",
            "t\n",
            "mnao\n",
            "mnc\n",
            "cmitn\n",
            "cmuiain\n",
            "niaiumc\n",
            "noitacinummoc\n"
          ]
        }
      ],
      "source": [
        "#9.\"communication\"\n",
        "my_string=\"communication\"\n",
        "print(my_string[0])\n",
        "print(my_string[1])\n",
        "print(my_string[-1])\n",
        "print(my_string[-4])\n",
        "print(my_string[2:12:3])\n",
        "print(my_string[3:9:2])\n",
        "print(my_string[::3])\n",
        "print(my_string[::2])\n",
        "print(my_string[::-2])\n",
        "print(my_string[::-1])\n"
      ]
    },
    {
      "cell_type": "code",
      "execution_count": null,
      "metadata": {
        "colab": {
          "base_uri": "https://localhost:8080/"
        },
        "id": "MmWq_RwC8RUG",
        "outputId": "4dc7854c-5b5f-4f91-ade7-ceabb639aa29"
      },
      "outputs": [
        {
          "name": "stdout",
          "output_type": "stream",
          "text": [
            "15\n"
          ]
        }
      ],
      "source": [
        "#10.random number\n",
        "import random\n",
        "random_number = random.randint(1,30)\n",
        "print(random_number)\n",
        "\n"
      ]
    },
    {
      "cell_type": "code",
      "execution_count": null,
      "metadata": {
        "colab": {
          "base_uri": "https://localhost:8080/"
        },
        "id": "R3sNI1F08nek",
        "outputId": "cb06c737-5862-4760-84c3-3d5e376061af"
      },
      "outputs": [
        {
          "name": "stdout",
          "output_type": "stream",
          "text": [
            "True\n"
          ]
        }
      ],
      "source": [
        "#11.Use isalnum method:\n",
        "my_string =\"aksh123\"\n",
        "isalnum=my_string.isalnum()\n",
        "print(isalnum)\n",
        "#only numbers and leters allowed"
      ]
    },
    {
      "cell_type": "code",
      "execution_count": null,
      "metadata": {
        "colab": {
          "base_uri": "https://localhost:8080/"
        },
        "id": "AZ_WdeaA8o_K",
        "outputId": "2fbbdcfe-135d-4a1a-8cea-18f33d60b697"
      },
      "outputs": [
        {
          "name": "stdout",
          "output_type": "stream",
          "text": [
            "hi friends\n"
          ]
        }
      ],
      "source": [
        "#12.convert a string to lowercase\n",
        "my_string=\"HI FRIENDS\"\n",
        "lower=my_string.lower()\n",
        "print(lower)"
      ]
    },
    {
      "cell_type": "code",
      "execution_count": null,
      "metadata": {
        "colab": {
          "base_uri": "https://localhost:8080/"
        },
        "id": "Ets25bqk9DuM",
        "outputId": "93ef9767-a69c-4686-8c75-959aab034974"
      },
      "outputs": [
        {
          "name": "stdout",
          "output_type": "stream",
          "text": [
            "Hi friends\n"
          ]
        }
      ],
      "source": [
        "#13 use capitalize method\n",
        "my_string=\"hi friends\"\n",
        "cap=my_string.capitalize()\n",
        "print(cap)"
      ]
    },
    {
      "cell_type": "code",
      "execution_count": null,
      "metadata": {
        "colab": {
          "base_uri": "https://localhost:8080/"
        },
        "id": "cS-c-OqJOJjJ",
        "outputId": "65336c2c-e60f-4e88-9a2a-23da995fbfce"
      },
      "outputs": [
        {
          "name": "stdout",
          "output_type": "stream",
          "text": [
            "python programming   \n",
            "   python programming   \n"
          ]
        }
      ],
      "source": [
        "#14.to remove white spaces\n",
        "my_string =\"   python programming   \"\n",
        "space =my_string.lstrip()\n",
        "print(space)\n",
        "print(my_string)"
      ]
    },
    {
      "cell_type": "code",
      "execution_count": null,
      "metadata": {
        "colab": {
          "base_uri": "https://localhost:8080/"
        },
        "id": "5ASj1zCcO3-s",
        "outputId": "34c53591-350e-4272-e0aa-7ca868aca326"
      },
      "outputs": [
        {
          "name": "stdout",
          "output_type": "stream",
          "text": [
            "True\n",
            "False\n"
          ]
        }
      ],
      "source": [
        "#15Use endswith Method\n",
        "my_string=\"Hello World\"\n",
        "print(my_string.endswith(\"World\"))\n",
        "print(my_string.endswith(\"hello\"))"
      ]
    },
    {
      "cell_type": "code",
      "execution_count": null,
      "metadata": {
        "colab": {
          "base_uri": "https://localhost:8080/"
        },
        "id": "xt2DfdUQPbZj",
        "outputId": "482b4a9c-c658-4364-d14f-13c2e9e6a238"
      },
      "outputs": [
        {
          "name": "stdout",
          "output_type": "stream",
          "text": [
            "True\n",
            "True\n"
          ]
        }
      ],
      "source": [
        "#16.Check if a Character or Phrase is Present in a String\n",
        "my_string= \"Hello,world\"\n",
        "search_term = \"world\"\n",
        "print(search_term in my_string)\n",
        "#or\n",
        "my_string= \"Hello,world\"\n",
        "print(\"world\" in my_string)\n"
      ]
    },
    {
      "cell_type": "code",
      "execution_count": null,
      "metadata": {
        "colab": {
          "base_uri": "https://localhost:8080/"
        },
        "id": "01_pCHhvQp9S",
        "outputId": "ff9549da-20f8-465e-c93f-0a7799ea3728"
      },
      "outputs": [
        {
          "name": "stdout",
          "output_type": "stream",
          "text": [
            "6\n"
          ]
        }
      ],
      "source": [
        "#17.Find the Length of a String\n",
        "my_string=\"python\"\n",
        "print(len(my_string))\n"
      ]
    },
    {
      "cell_type": "code",
      "execution_count": null,
      "metadata": {
        "colab": {
          "base_uri": "https://localhost:8080/"
        },
        "id": "4726jMadQ_lX",
        "outputId": "bcf2128a-40c7-4844-c934-4092d85e287c"
      },
      "outputs": [
        {
          "name": "stdout",
          "output_type": "stream",
          "text": [
            "['apple,orange,banana,cherry']\n"
          ]
        }
      ],
      "source": [
        "#18. Split Strings into Substrings\n",
        "my_string=\"apple,orange,banana,cherry\"\n",
        "print(my_string.split())"
      ]
    },
    {
      "cell_type": "code",
      "execution_count": null,
      "metadata": {
        "colab": {
          "base_uri": "https://localhost:8080/"
        },
        "id": "63zLV3MwRhxz",
        "outputId": "30cf34b4-657c-43bc-8fac-2eace1749bed"
      },
      "outputs": [
        {
          "name": "stdout",
          "output_type": "stream",
          "text": [
            "hello world\n"
          ]
        }
      ],
      "source": [
        "#19.Use casefold Method\n",
        "my_string =\"Hello World\"\n",
        "print(my_string.casefold())\n"
      ]
    },
    {
      "cell_type": "code",
      "execution_count": null,
      "metadata": {
        "colab": {
          "base_uri": "https://localhost:8080/"
        },
        "id": "tQ5Jx1UsR5pQ",
        "outputId": "410fb10a-f631-4602-879f-71a078a3dcef"
      },
      "outputs": [
        {
          "name": "stdout",
          "output_type": "stream",
          "text": [
            "welcome to java\n"
          ]
        }
      ],
      "source": [
        "#20.Replace a String with Another\n",
        "my_string=\"welcome to python\"\n",
        "print(my_string.replace(\"python\",\"java\"))\n"
      ]
    },
    {
      "cell_type": "code",
      "execution_count": null,
      "metadata": {
        "colab": {
          "base_uri": "https://localhost:8080/"
        },
        "id": "aJQqNVNLTJKF",
        "outputId": "f2fd142f-7678-469a-ac4f-2d515885d7e7"
      },
      "outputs": [
        {
          "name": "stdout",
          "output_type": "stream",
          "text": [
            "lco\n"
          ]
        }
      ],
      "source": [
        "#21.Get characters from index 2 to 4\n",
        "my_string=\"welcome to python\"\n",
        "print(my_string[2:5])"
      ]
    },
    {
      "cell_type": "code",
      "execution_count": null,
      "metadata": {
        "colab": {
          "base_uri": "https://localhost:8080/"
        },
        "id": "FLN_7s3OTyYt",
        "outputId": "8acd4426-fc7a-4354-b0aa-a50dfe7bc829"
      },
      "outputs": [
        {
          "name": "stdout",
          "output_type": "stream",
          "text": [
            "welcome to python\n"
          ]
        }
      ],
      "source": [
        "#22.Return the string without any whitespace at the beginning or end:\n",
        "my_string=\" welcome to python \"\n",
        "print(my_string.strip())"
      ]
    },
    {
      "cell_type": "code",
      "execution_count": null,
      "metadata": {
        "colab": {
          "base_uri": "https://localhost:8080/"
        },
        "id": "2uGrnzpOUTZC",
        "outputId": "c48f19aa-921b-4808-c716-6c69b6a86d94"
      },
      "outputs": [
        {
          "name": "stdout",
          "output_type": "stream",
          "text": [
            "<class 'int'>\n"
          ]
        }
      ],
      "source": [
        "#23.type of variable\n",
        "num1=123\n",
        "print(type(num1))"
      ]
    },
    {
      "cell_type": "code",
      "execution_count": null,
      "metadata": {
        "colab": {
          "base_uri": "https://localhost:8080/"
        },
        "id": "dVnV-ki1VHLe",
        "outputId": "2d8dea35-d062-4ebe-8df4-da950abd6237"
      },
      "outputs": [
        {
          "name": "stdout",
          "output_type": "stream",
          "text": [
            "12\n"
          ]
        }
      ],
      "source": [
        "#24\n",
        "men_stepped_on_the_moon=12\n",
        "answer_1=men_stepped_on_the_moon\n",
        "print(answer_1)"
      ]
    },
    {
      "cell_type": "code",
      "execution_count": null,
      "metadata": {
        "colab": {
          "base_uri": "https://localhost:8080/"
        },
        "id": "FPa0lF7RVrwW",
        "outputId": "4fa6d50e-2b72-4f2f-af44-7d5361af7425"
      },
      "outputs": [
        {
          "name": "stdout",
          "output_type": "stream",
          "text": [
            "It's always darkest before dawn.\n",
            "It's always darkest before dawn!\n"
          ]
        }
      ],
      "source": [
        "#25 and 26\n",
        "my_string=\"It's always darkest before dawn.\"\n",
        "print(my_string)\n",
        "print(my_string.replace(\".\",\"!\"))\n"
      ]
    },
    {
      "cell_type": "code",
      "execution_count": null,
      "metadata": {
        "colab": {
          "base_uri": "https://localhost:8080/"
        },
        "id": "mcy04QGdWXrZ",
        "outputId": "5294d2f2-ab08-40e2-97fd-5f4d452f8763"
      },
      "outputs": [
        {
          "name": "stdout",
          "output_type": "stream",
          "text": [
            "every strike brings me closer to the next home run.\n"
          ]
        }
      ],
      "source": [
        "#27,28\n",
        "str1=\"EVERY Strike Brings Me Closer to the Next Home run.\"\n",
        "print(str1.lower())"
      ]
    },
    {
      "cell_type": "code",
      "execution_count": null,
      "metadata": {
        "colab": {
          "base_uri": "https://localhost:8080/"
        },
        "id": "snu5npfdXNE_",
        "outputId": "8ea4eb87-83cb-4d6b-b210-58b00a6f8639"
      },
      "outputs": [
        {
          "name": "stdout",
          "output_type": "stream",
          "text": [
            "There are no traffic jams along with the extra\n"
          ]
        }
      ],
      "source": [
        "#29\n",
        "str1=\"there are no traffic JamS Along with The extra\"\n",
        "print(str1.capitalize())"
      ]
    },
    {
      "cell_type": "code",
      "execution_count": null,
      "metadata": {
        "colab": {
          "base_uri": "https://localhost:8080/"
        },
        "id": "zjxqOVg0XoeI",
        "outputId": "7fcf94e0-40e5-4c52-bb5b-c809acec7294"
      },
      "outputs": [
        {
          "name": "stdout",
          "output_type": "stream",
          "text": [
            "<class 'str'> <class 'int'>\n"
          ]
        }
      ],
      "source": [
        "#30\n",
        "v_1=\"1\"\n",
        "v_2=1\n",
        "print(type(v_1), type(v_2))"
      ]
    },
    {
      "cell_type": "code",
      "execution_count": null,
      "metadata": {
        "colab": {
          "base_uri": "https://localhost:8080/"
        },
        "id": "rrukwnZTYP9F",
        "outputId": "3990b706-f0c6-4475-d41c-5ade73a54476"
      },
      "outputs": [
        {
          "name": "stdout",
          "output_type": "stream",
          "text": [
            "9\n"
          ]
        }
      ],
      "source": [
        "#31\n",
        "str1=\"1.975.000\"\n",
        "print(len(str1))"
      ]
    },
    {
      "cell_type": "code",
      "execution_count": null,
      "metadata": {
        "colab": {
          "base_uri": "https://localhost:8080/"
        },
        "id": "W60MtZGCY3LQ",
        "outputId": "e719ddc6-8aad-4531-f8ba-3aabf322f5bb"
      },
      "outputs": [
        {
          "name": "stdout",
          "output_type": "stream",
          "text": [
            "True\n"
          ]
        }
      ],
      "source": [
        "#32Check whether a character is a numeric character or not:\n",
        "char=\"123\"\n",
        "print(char.isnumeric())\n"
      ]
    },
    {
      "cell_type": "code",
      "execution_count": null,
      "metadata": {
        "colab": {
          "base_uri": "https://localhost:8080/"
        },
        "id": "dOjNhl5qZVOV",
        "outputId": "209a14b7-a48c-4d8a-df9f-512a0b81966e"
      },
      "outputs": [
        {
          "name": "stdout",
          "output_type": "stream",
          "text": [
            "11\n",
            "30\n",
            "0\n",
            "15625\n"
          ]
        }
      ],
      "source": [
        "#33.Perform comparison operations\n",
        "X = 5\n",
        "Y = 6\n",
        "print(X+Y)\n",
        "print(X*Y)\n",
        "print(X//Y)\n",
        "print(X**Y)\n"
      ]
    },
    {
      "cell_type": "code",
      "execution_count": null,
      "metadata": {
        "colab": {
          "base_uri": "https://localhost:8080/"
        },
        "id": "NVWDtkbWA7io",
        "outputId": "fc3cde6e-073d-4cb3-9007-6757c904033a"
      },
      "outputs": [
        {
          "name": "stdout",
          "output_type": "stream",
          "text": [
            "True\n"
          ]
        }
      ],
      "source": [
        "#34.Use not in operator:\n",
        "my_string=\"apple\",\"orange\",\"mango\"\n",
        "str2=\"grapes\" not in my_string\n",
        "print(str2)"
      ]
    },
    {
      "cell_type": "code",
      "execution_count": null,
      "metadata": {
        "colab": {
          "base_uri": "https://localhost:8080/"
        },
        "id": "qUhYpTFr5oCZ",
        "outputId": "8a5bdd1c-b1d2-448e-e023-fe9273dfbea5"
      },
      "outputs": [
        {
          "name": "stdout",
          "output_type": "stream",
          "text": [
            "True\n"
          ]
        }
      ],
      "source": [
        "#35.Use is operator: the values are equal\n",
        "num1=5\n",
        "num2=5\n",
        "op=num1 is num2\n",
        "print(op)"
      ]
    },
    {
      "cell_type": "code",
      "execution_count": null,
      "metadata": {
        "colab": {
          "base_uri": "https://localhost:8080/"
        },
        "id": "adhwCA6O6O_u",
        "outputId": "c462ac95-26a7-4c69-fb0c-92904c17313a"
      },
      "outputs": [
        {
          "name": "stdout",
          "output_type": "stream",
          "text": [
            "True\n"
          ]
        }
      ],
      "source": [
        "#36.Use is not operator:\n",
        "num1=5\n",
        "num2=10\n",
        "op=num1 is not num2\n",
        "print(op)"
      ]
    },
    {
      "cell_type": "code",
      "execution_count": null,
      "metadata": {
        "colab": {
          "base_uri": "https://localhost:8080/"
        },
        "id": "BySALawj6ccR",
        "outputId": "37770768-7375-45f9-88c3-dae16c21d451"
      },
      "outputs": [
        {
          "name": "stdout",
          "output_type": "stream",
          "text": [
            "13\n",
            "10\n",
            "30\n",
            "3\n",
            "1000\n"
          ]
        }
      ],
      "source": [
        "#37.solving equations:\n",
        "X=10\n",
        "Y=3\n",
        "print(X + Y)\n",
        "print(X)\n",
        "print(X * Y)\n",
        "print(X // Y)\n",
        "print(X ** Y)"
      ]
    },
    {
      "cell_type": "code",
      "execution_count": null,
      "metadata": {
        "colab": {
          "base_uri": "https://localhost:8080/"
        },
        "id": "mj530-oM7F3i",
        "outputId": "b347fa52-727b-4847-bef1-7e2c44d91a0c"
      },
      "outputs": [
        {
          "name": "stdout",
          "output_type": "stream",
          "text": [
            "1\n",
            "2\n",
            "3\n",
            "4\n",
            "5\n",
            "6\n",
            "7\n",
            "8\n",
            "9\n",
            "10\n",
            "11\n",
            "12\n",
            "13\n",
            "14\n",
            "15\n",
            "16\n",
            "17\n",
            "18\n",
            "19\n",
            "20\n",
            "21\n",
            "22\n",
            "23\n",
            "24\n",
            "25\n",
            "26\n",
            "27\n",
            "28\n",
            "29\n",
            "30\n",
            "31\n",
            "32\n",
            "33\n",
            "34\n",
            "35\n",
            "36\n",
            "37\n",
            "38\n",
            "39\n",
            "40\n",
            "41\n",
            "42\n",
            "43\n",
            "44\n",
            "45\n",
            "46\n",
            "47\n",
            "48\n",
            "49\n",
            "50\n",
            "51\n",
            "52\n",
            "53\n",
            "54\n",
            "55\n",
            "56\n",
            "57\n",
            "58\n",
            "59\n",
            "60\n",
            "61\n",
            "62\n",
            "63\n",
            "64\n",
            "65\n",
            "66\n",
            "67\n",
            "68\n",
            "69\n",
            "70\n",
            "71\n",
            "72\n",
            "73\n",
            "74\n",
            "75\n",
            "76\n",
            "77\n",
            "78\n",
            "79\n",
            "80\n",
            "81\n",
            "82\n",
            "83\n",
            "84\n",
            "85\n",
            "86\n",
            "87\n",
            "88\n",
            "89\n",
            "90\n",
            "91\n",
            "92\n",
            "93\n",
            "94\n",
            "95\n",
            "96\n",
            "97\n",
            "98\n",
            "99\n",
            "100\n",
            "101\n",
            "102\n",
            "103\n",
            "104\n",
            "105\n",
            "106\n",
            "107\n",
            "108\n",
            "109\n",
            "110\n",
            "111\n",
            "112\n",
            "113\n",
            "114\n",
            "115\n",
            "116\n",
            "117\n",
            "118\n",
            "119\n",
            "120\n",
            "121\n",
            "122\n",
            "123\n",
            "124\n",
            "125\n",
            "126\n",
            "127\n",
            "128\n",
            "129\n",
            "130\n",
            "131\n",
            "132\n",
            "133\n",
            "134\n",
            "135\n",
            "136\n",
            "137\n",
            "138\n",
            "139\n",
            "140\n",
            "141\n",
            "142\n",
            "143\n",
            "144\n",
            "145\n",
            "146\n",
            "147\n",
            "148\n",
            "149\n",
            "150\n",
            "151\n",
            "152\n",
            "153\n",
            "154\n",
            "155\n",
            "156\n",
            "157\n",
            "158\n",
            "159\n",
            "160\n",
            "161\n",
            "162\n",
            "163\n",
            "164\n",
            "165\n",
            "166\n",
            "167\n",
            "168\n",
            "169\n",
            "170\n",
            "171\n",
            "172\n",
            "173\n",
            "174\n",
            "175\n",
            "176\n",
            "177\n",
            "178\n",
            "179\n",
            "180\n",
            "181\n",
            "182\n",
            "183\n",
            "184\n",
            "185\n",
            "186\n",
            "187\n",
            "188\n",
            "189\n",
            "190\n",
            "191\n",
            "192\n",
            "193\n",
            "194\n",
            "195\n",
            "196\n",
            "197\n",
            "198\n",
            "199\n",
            "200\n",
            "201\n",
            "202\n",
            "203\n",
            "204\n",
            "205\n",
            "206\n",
            "207\n",
            "208\n",
            "209\n",
            "210\n",
            "211\n",
            "212\n",
            "213\n",
            "214\n",
            "215\n",
            "216\n",
            "217\n",
            "218\n",
            "219\n",
            "220\n",
            "221\n",
            "222\n",
            "223\n",
            "224\n",
            "225\n",
            "226\n",
            "227\n",
            "228\n",
            "229\n",
            "230\n",
            "231\n",
            "232\n",
            "233\n",
            "234\n",
            "235\n",
            "236\n",
            "237\n",
            "238\n",
            "239\n",
            "240\n",
            "241\n",
            "242\n",
            "243\n",
            "244\n",
            "245\n",
            "246\n",
            "247\n",
            "248\n",
            "249\n",
            "250\n",
            "251\n",
            "252\n",
            "253\n",
            "254\n",
            "255\n",
            "256\n",
            "257\n",
            "258\n",
            "259\n",
            "260\n",
            "261\n",
            "262\n",
            "263\n",
            "264\n",
            "265\n",
            "266\n",
            "267\n",
            "268\n",
            "269\n",
            "270\n",
            "271\n",
            "272\n",
            "273\n",
            "274\n",
            "275\n",
            "276\n",
            "277\n",
            "278\n",
            "279\n",
            "280\n",
            "281\n",
            "282\n",
            "283\n",
            "284\n",
            "285\n",
            "286\n",
            "287\n",
            "288\n",
            "289\n",
            "290\n",
            "291\n",
            "292\n",
            "293\n",
            "294\n",
            "295\n",
            "296\n",
            "297\n",
            "298\n",
            "299\n",
            "300\n",
            "301\n",
            "302\n",
            "303\n",
            "304\n",
            "305\n",
            "306\n",
            "307\n",
            "308\n",
            "309\n",
            "310\n",
            "311\n",
            "312\n",
            "313\n",
            "314\n",
            "315\n",
            "316\n",
            "317\n",
            "318\n",
            "319\n",
            "320\n",
            "321\n",
            "322\n",
            "323\n",
            "324\n",
            "325\n",
            "326\n",
            "327\n",
            "328\n",
            "329\n",
            "330\n",
            "331\n",
            "332\n",
            "333\n",
            "334\n",
            "335\n",
            "336\n",
            "337\n",
            "338\n",
            "339\n",
            "340\n",
            "341\n",
            "342\n",
            "343\n",
            "344\n",
            "345\n",
            "346\n",
            "347\n",
            "348\n",
            "349\n",
            "350\n",
            "351\n",
            "352\n",
            "353\n",
            "354\n",
            "355\n",
            "356\n",
            "357\n",
            "358\n",
            "359\n",
            "360\n",
            "361\n",
            "362\n",
            "363\n",
            "364\n",
            "365\n",
            "366\n",
            "367\n",
            "368\n",
            "369\n",
            "370\n",
            "371\n",
            "372\n",
            "373\n",
            "374\n",
            "375\n",
            "376\n",
            "377\n",
            "378\n",
            "379\n",
            "380\n",
            "381\n",
            "382\n",
            "383\n",
            "384\n",
            "385\n",
            "386\n",
            "387\n",
            "388\n",
            "389\n",
            "390\n",
            "391\n",
            "392\n",
            "393\n",
            "394\n",
            "395\n",
            "396\n",
            "397\n",
            "398\n",
            "399\n",
            "400\n",
            "401\n",
            "402\n",
            "403\n",
            "404\n",
            "405\n",
            "406\n",
            "407\n",
            "408\n",
            "409\n",
            "410\n",
            "411\n",
            "412\n",
            "413\n",
            "414\n",
            "415\n",
            "416\n",
            "417\n",
            "418\n",
            "419\n",
            "420\n",
            "421\n",
            "422\n",
            "423\n",
            "424\n",
            "425\n",
            "426\n",
            "427\n",
            "428\n",
            "429\n",
            "430\n",
            "431\n",
            "432\n",
            "433\n",
            "434\n",
            "435\n",
            "436\n",
            "437\n",
            "438\n",
            "439\n",
            "440\n",
            "441\n",
            "442\n",
            "443\n",
            "444\n",
            "445\n",
            "446\n",
            "447\n",
            "448\n",
            "449\n",
            "450\n",
            "451\n",
            "452\n",
            "453\n",
            "454\n",
            "455\n",
            "456\n",
            "457\n",
            "458\n",
            "459\n",
            "460\n",
            "461\n",
            "462\n",
            "463\n",
            "464\n",
            "465\n",
            "466\n",
            "467\n",
            "468\n",
            "469\n",
            "470\n",
            "471\n",
            "472\n",
            "473\n",
            "474\n",
            "475\n",
            "476\n",
            "477\n",
            "478\n",
            "479\n",
            "480\n",
            "481\n",
            "482\n",
            "483\n",
            "484\n",
            "485\n",
            "486\n",
            "487\n",
            "488\n",
            "489\n",
            "490\n",
            "491\n",
            "492\n",
            "493\n",
            "494\n",
            "495\n",
            "496\n",
            "497\n",
            "498\n",
            "499\n",
            "500\n"
          ]
        }
      ],
      "source": [
        "#38.while loos 1-500\n",
        "num=1\n",
        "while num<=500:\n",
        "  print(num)\n",
        "  num+=1"
      ]
    },
    {
      "cell_type": "code",
      "execution_count": null,
      "metadata": {
        "colab": {
          "base_uri": "https://localhost:8080/"
        },
        "id": "XzG52KMM7m_n",
        "outputId": "2f685143-3d07-4599-d76e-91f04605810b"
      },
      "outputs": [
        {
          "name": "stdout",
          "output_type": "stream",
          "text": [
            "enter a number5\n",
            "Positive\n"
          ]
        }
      ],
      "source": [
        "#39.Use if, elif, and else statement:\n",
        "number=int(input(\"enter a number\"))\n",
        "if number>0:\n",
        "    print(\"Positive\")\n",
        "elif number==0:\n",
        "    print(\"Zero\")\n",
        "else:\n",
        "    print(\"Negative\")\n",
        "\n"
      ]
    },
    {
      "cell_type": "code",
      "execution_count": null,
      "metadata": {
        "colab": {
          "base_uri": "https://localhost:8080/"
        },
        "id": "W18lIR2B8k30",
        "outputId": "dd628334-df42-4270-b1e6-7ea84cc0206b"
      },
      "outputs": [
        {
          "name": "stdout",
          "output_type": "stream",
          "text": [
            "1\n",
            "2\n",
            "3\n",
            "4\n",
            "6\n",
            "7\n",
            "8\n",
            "9\n",
            "10\n"
          ]
        }
      ],
      "source": [
        "#40.Use continue statement in while loop:\n",
        "count=0\n",
        "while count< 10:\n",
        "    count+=1\n",
        "    if count==5:\n",
        "        continue\n",
        "    print(count)"
      ]
    },
    {
      "cell_type": "code",
      "execution_count": null,
      "metadata": {
        "colab": {
          "base_uri": "https://localhost:8080/"
        },
        "id": "_14xJZdV8AII",
        "outputId": "ab0b5485-0c6e-4128-9f18-7769fb3d951d"
      },
      "outputs": [
        {
          "name": "stdout",
          "output_type": "stream",
          "text": [
            "1\n",
            "2\n",
            "3\n",
            "4\n"
          ]
        }
      ],
      "source": [
        "#41.Use break statement in while loop:\n",
        "count=0\n",
        "while count<10:\n",
        "    count+=1\n",
        "    if count==5:\n",
        "        break\n",
        "    print(count)"
      ]
    },
    {
      "cell_type": "code",
      "execution_count": null,
      "metadata": {
        "colab": {
          "base_uri": "https://localhost:8080/"
        },
        "id": "re7GonLl9QSk",
        "outputId": "f2d34689-8b28-4dee-b035-313079be1cfe"
      },
      "outputs": [
        {
          "name": "stdout",
          "output_type": "stream",
          "text": [
            "apple\n",
            "mango\n",
            "10.5\n",
            "20\n",
            "['grapeskiwi', 'tomato', 'mango', 'orange', 'banana', True, False]\n",
            "['cherry', 'grapeskiwi', 'tomato', 'mango', 'orange', 'banana', True, False, 10]\n",
            "['apple', False]\n",
            "['tomato', 'mango', 'orange', 'banana', True, False, 10, 20, 10.5]\n",
            "['cherry', 'tomato', 'orange', True]\n",
            "['banana', 'tomato', 'banana', 10]\n",
            "['apple', 'grapeskiwi', 'orange', False, 10.5]\n",
            "[10.5, 10, True, 'orange', 'tomato', 'cherry', 'apple']\n",
            "[10.5, 20, 10, False, True, 'banana', 'orange', 'mango', 'tomato', 'grapeskiwi', 'cherry', 'banana', 'apple']\n"
          ]
        }
      ],
      "source": [
        "#42.Create a list\n",
        "items=['apple','banana','cherry','grapes''kiwi', 'tomato','mango','orange','banana',True,False, 10, 20, 10.5]\n",
        "print(items[0])\n",
        "print(items[5])\n",
        "print(items[-1])\n",
        "print(items[-2])\n",
        "print(items[3:10])\n",
        "print(items[2:11])\n",
        "print(items[::9])\n",
        "print(items[4::])\n",
        "print(items[2:10:2])\n",
        "print(items[1:11:3])\n",
        "print(items[::3])\n",
        "print(items[::-2])\n",
        "print(items[::-1])"
      ]
    },
    {
      "cell_type": "code",
      "execution_count": null,
      "metadata": {
        "colab": {
          "base_uri": "https://localhost:8080/"
        },
        "id": "uBT4Yytl-OLc",
        "outputId": "e80b3da7-eb7c-4d21-a981-925763e74f40"
      },
      "outputs": [
        {
          "name": "stdout",
          "output_type": "stream",
          "text": [
            "[1, 2, 3, 4, 5]\n",
            "[1, 2, 3, 4, 5]\n"
          ]
        }
      ],
      "source": [
        "#43.Create a new list:\n",
        "my_list=[1,2,3,4,5]\n",
        "new_list=[]\n",
        "for i in my_list:\n",
        "  new_list.append(i)\n",
        "print(new_list)\n",
        "print(my_list)"
      ]
    },
    {
      "cell_type": "code",
      "execution_count": null,
      "metadata": {
        "colab": {
          "base_uri": "https://localhost:8080/"
        },
        "id": "MvnsMAik-ScN",
        "outputId": "27d682ba-ef96-4660-861e-569c81985f62"
      },
      "outputs": [
        {
          "name": "stdout",
          "output_type": "stream",
          "text": [
            "1\n"
          ]
        }
      ],
      "source": [
        "#44.Retrieve the first item from a list:\n",
        "my_list=[1,2,3,4,5]\n",
        "print(my_list[0])"
      ]
    },
    {
      "cell_type": "code",
      "execution_count": null,
      "metadata": {
        "colab": {
          "base_uri": "https://localhost:8080/"
        },
        "id": "DbbN-HEt-T2h",
        "outputId": "5e67ea78-b7cd-4c01-c7a2-837d05a81418"
      },
      "outputs": [
        {
          "name": "stdout",
          "output_type": "stream",
          "text": [
            "Length of the list: 5\n"
          ]
        }
      ],
      "source": [
        "#45 length of list\n",
        "my_list=[1,2,3,4,5]\n",
        "length = 0\n",
        "for i in my_list:\n",
        "    length += 1\n",
        "print(\"Length of the list:\", length)"
      ]
    },
    {
      "cell_type": "code",
      "execution_count": null,
      "metadata": {
        "colab": {
          "base_uri": "https://localhost:8080/"
        },
        "id": "Z2e1I11K-U3O",
        "outputId": "60eeff64-6562-42f7-ca62-981233e90e88"
      },
      "outputs": [
        {
          "name": "stdout",
          "output_type": "stream",
          "text": [
            "[11, 2, 3, 4, 5]\n"
          ]
        }
      ],
      "source": [
        "#46write a python program to change the first item in a list\n",
        "my_list=[1,2,3,4,5]\n",
        "my_list[0]=11\n",
        "print(my_list)\n"
      ]
    },
    {
      "cell_type": "code",
      "execution_count": null,
      "metadata": {
        "colab": {
          "base_uri": "https://localhost:8080/"
        },
        "id": "AB7GifAj-V5k",
        "outputId": "7e41391a-be84-4f6d-e696-338a78f5266f"
      },
      "outputs": [
        {
          "name": "stdout",
          "output_type": "stream",
          "text": [
            "5\n"
          ]
        }
      ],
      "source": [
        "#47 write a python program using negative indexing\n",
        "my_list=[1,2,3,4,5]\n",
        "print(my_list[-1])"
      ]
    },
    {
      "cell_type": "code",
      "execution_count": null,
      "metadata": {
        "colab": {
          "base_uri": "https://localhost:8080/"
        },
        "id": "n-yMMNFx-XA_",
        "outputId": "bac281ef-6ea9-40e5-99ed-e09fef00c916"
      },
      "outputs": [
        {
          "name": "stdout",
          "output_type": "stream",
          "text": [
            "[1, 2, 3, 4, 5, 6]\n"
          ]
        }
      ],
      "source": [
        "#48 write a program to add a new item to the end of a list\n",
        "my_list=[1,2,3,4,5]\n",
        "my_list.append(6)\n",
        "print(my_list)\n"
      ]
    },
    {
      "cell_type": "code",
      "execution_count": null,
      "metadata": {
        "colab": {
          "base_uri": "https://localhost:8080/"
        },
        "id": "wnKWLiGI-YKW",
        "outputId": "58f722d4-50de-4fa7-cc5d-cf6f436e65d1"
      },
      "outputs": [
        {
          "name": "stdout",
          "output_type": "stream",
          "text": [
            "Reversed list: [5, 4, 3, 2, 1]\n"
          ]
        }
      ],
      "source": [
        "#49 create a list and display the list in reverse order\n",
        "my_list=[1,2,3,4,5]\n",
        "my_list.reverse()\n",
        "print(\"Reversed list:\",my_list)"
      ]
    },
    {
      "cell_type": "code",
      "execution_count": null,
      "metadata": {
        "colab": {
          "base_uri": "https://localhost:8080/"
        },
        "id": "AsSFpcJq-Zjg",
        "outputId": "d191eded-2483-4035-c381-0bd184f13397"
      },
      "outputs": [
        {
          "name": "stdout",
          "output_type": "stream",
          "text": [
            "Maximum value in the list: 80\n"
          ]
        }
      ],
      "source": [
        "#50 write a program to find the maximum value in a list\n",
        "my_list=[10,80,30,20,50]\n",
        "max_value=my_list[0]\n",
        "for num in my_list:\n",
        "    if num > max_value:\n",
        "        max_value = num\n",
        "print(\"Maximum value in the list:\", max_value)\n"
      ]
    },
    {
      "cell_type": "code",
      "execution_count": null,
      "metadata": {
        "colab": {
          "base_uri": "https://localhost:8080/"
        },
        "id": "6vOLhT5pZqCf",
        "outputId": "ba83d6b2-a793-407e-854f-f74a363d4d0e"
      },
      "outputs": [
        {
          "name": "stdout",
          "output_type": "stream",
          "text": [
            "enter a number10\n",
            "3\n"
          ]
        }
      ],
      "source": [
        "#51 write a program to display the index of an element in a list\n",
        "my_list=[4,8,2,10,5]\n",
        "element_to_find=int(input(\"enter a number\"))\n",
        "element_index=0\n",
        "for i in range(len(my_list)):\n",
        "    if my_list[i]==element_to_find:\n",
        "        element_index=i\n",
        "        break\n",
        "print(element_index)\n"
      ]
    },
    {
      "cell_type": "code",
      "execution_count": null,
      "metadata": {
        "colab": {
          "base_uri": "https://localhost:8080/"
        },
        "id": "zPRciMc9Zqe0",
        "outputId": "525e2e36-f01e-44dc-a722-92d46a502e08"
      },
      "outputs": [
        {
          "name": "stdout",
          "output_type": "stream",
          "text": [
            "enter a number you want to count the occurence5\n",
            "The count of 5 in the list is: 3\n"
          ]
        }
      ],
      "source": [
        "#52.write a program to count the occurrence of an Element in a list\n",
        "my_list=[5,8,2,10,5,5,10,8]\n",
        "element_to_count=int(input(\"enter a number you want to count the occurence\"))\n",
        "element_count = 0\n",
        "for num in my_list:\n",
        "    if num == element_to_count:\n",
        "        element_count += 1\n",
        "print(f\"The count of {element_to_count} in the list is: {element_count}\")"
      ]
    },
    {
      "cell_type": "code",
      "execution_count": null,
      "metadata": {
        "colab": {
          "base_uri": "https://localhost:8080/"
        },
        "id": "we_yNDWnZqtb",
        "outputId": "a18f9dcd-17e6-4984-d833-d78d26b08a77"
      },
      "outputs": [
        {
          "name": "stdout",
          "output_type": "stream",
          "text": [
            "1\n",
            "2\n",
            "3\n",
            "a\n",
            "b\n",
            "c\n",
            "apple\n",
            "orange\n",
            "banana\n"
          ]
        }
      ],
      "source": [
        "#53.create a nested list and display each item from the list\n",
        "my_list = [[1, 2, 3], ['a', 'b', 'c'], ['apple', 'orange', 'banana']]\n",
        "for outer_item in my_list:\n",
        "    for inner_item in outer_item:\n",
        "        print(inner_item)\n"
      ]
    },
    {
      "cell_type": "code",
      "execution_count": null,
      "metadata": {
        "colab": {
          "base_uri": "https://localhost:8080/"
        },
        "id": "ZfENKowPZq-J",
        "outputId": "11d7eaa0-fdbe-422d-c9e9-26d66289792a"
      },
      "outputs": [
        {
          "name": "stdout",
          "output_type": "stream",
          "text": [
            "Fruits with the letter 'a': ['apple', 'banana', 'mango']\n"
          ]
        }
      ],
      "source": [
        "#54.Based on a list of fruits, create a new list, containing only the fruits with the letter \"a\" in the name.\n",
        "fruits=[\"apple\", \"banana\", \"cherry\", \"kiwi\", \"mango\"]\n",
        "a_letter=[]\n",
        "for i in fruits:\n",
        "    if 'a' in i:\n",
        "        a_letter.append(i)\n",
        "print(\"Fruits with the letter 'a':\",a_letter)"
      ]
    },
    {
      "cell_type": "code",
      "execution_count": null,
      "metadata": {
        "colab": {
          "base_uri": "https://localhost:8080/"
        },
        "id": "oSOUE1IQZrVI",
        "outputId": "1d68ae5b-ca31-4f5d-a01f-45488c357701"
      },
      "outputs": [
        {
          "name": "stdout",
          "output_type": "stream",
          "text": [
            "Fruits without 'kiwi': ['apple', 'banana', 'cherry', 'mango']\n"
          ]
        }
      ],
      "source": [
        "#55.list\n",
        "fruits=[\"apple\",\"banana\",\"cherry\",\"kiwi\",\"mango\"]\n",
        "exculde_kiwi=[]\n",
        "for i in fruits:\n",
        "    if i !=\"kiwi\":\n",
        "        exculde_kiwi.append(i)\n",
        "print(\"Fruits without 'kiwi':\", exculde_kiwi)"
      ]
    },
    {
      "cell_type": "code",
      "execution_count": null,
      "metadata": {
        "colab": {
          "base_uri": "https://localhost:8080/"
        },
        "id": "wUin3U7DZyXz",
        "outputId": "4cf89631-577b-4658-af00-2f24a8c3db62"
      },
      "outputs": [
        {
          "name": "stdout",
          "output_type": "stream",
          "text": [
            "Fruits in uppercase: ['APPLE', 'BANANA', 'CHERRY', 'KIWI', 'MANGO']\n"
          ]
        }
      ],
      "source": [
        "#56. create a new list, Set the values in the new list to upper case.\n",
        "fruits=[\"apple\",\"banana\",\"cherry\",\"kiwi\",\"mango\"]\n",
        "fruits_uppercase=[]\n",
        "for i in fruits:\n",
        "    fruits_uppercase.append(i.upper())\n",
        "print(\"Fruits in uppercase:\", fruits_uppercase)"
      ]
    },
    {
      "cell_type": "code",
      "execution_count": null,
      "metadata": {
        "colab": {
          "base_uri": "https://localhost:8080/"
        },
        "id": "psGlm6soZzhL",
        "outputId": "877238e8-1194-4350-9da3-f3098e4e7fa0"
      },
      "outputs": [
        {
          "name": "stdout",
          "output_type": "stream",
          "text": [
            "1\n",
            "2\n",
            "3\n",
            "4\n",
            "5\n"
          ]
        }
      ],
      "source": [
        "#57.create a list and iterate over the list\n",
        "my_list=[1, 2, 3, 4, 5]\n",
        "for i in my_list:\n",
        "    print(i)"
      ]
    },
    {
      "cell_type": "code",
      "execution_count": null,
      "metadata": {
        "colab": {
          "base_uri": "https://localhost:8080/"
        },
        "id": "0IdZFt6ZZ0oK",
        "outputId": "e622b203-1c0f-4db9-dcff-ce0a294f3396"
      },
      "outputs": [
        {
          "name": "stdout",
          "output_type": "stream",
          "text": [
            "1\n",
            "2\n",
            "3\n",
            "4\n",
            "5\n"
          ]
        }
      ],
      "source": [
        "#58 write a program using for loop with a break statement\n",
        "numbers=[1,2,3,4,5,6,7,8,9,10]\n",
        "for i in numbers:\n",
        "    print(i)\n",
        "    if i==5:\n",
        "        break"
      ]
    },
    {
      "cell_type": "code",
      "execution_count": null,
      "metadata": {
        "colab": {
          "base_uri": "https://localhost:8080/"
        },
        "id": "0wAgz2F1Z1zG",
        "outputId": "3c1a5b64-7a7d-43ff-b68d-7588f0c8d2ac"
      },
      "outputs": [
        {
          "name": "stdout",
          "output_type": "stream",
          "text": [
            "1\n",
            "2\n",
            "3\n",
            "4\n",
            "5\n",
            "6\n",
            "7\n",
            "8\n",
            "9\n",
            "10\n"
          ]
        }
      ],
      "source": [
        "#59.write a program using for loop with a continue statement\n",
        "numbers=[1,2,3,4,5,6,7,8,9,10]\n",
        "for i in numbers:\n",
        "    print(i)\n",
        "    if i==5:\n",
        "      continue"
      ]
    },
    {
      "cell_type": "code",
      "execution_count": null,
      "metadata": {
        "colab": {
          "base_uri": "https://localhost:8080/"
        },
        "id": "h_hXgqj1Z21B",
        "outputId": "e942729b-2c91-4098-e61e-79e711235a42"
      },
      "outputs": [
        {
          "name": "stdout",
          "output_type": "stream",
          "text": [
            "1\n",
            "3\n",
            "5\n",
            "7\n",
            "9\n"
          ]
        }
      ],
      "source": [
        "#60.write a program using range function with starting parameter and increment parameter\n",
        "for i in range(1,11,2):\n",
        "    print(i)"
      ]
    },
    {
      "cell_type": "code",
      "execution_count": null,
      "metadata": {
        "colab": {
          "base_uri": "https://localhost:8080/"
        },
        "id": "H4uqWgQ7tgk2",
        "outputId": "657df86c-1112-4550-eca9-b4d32f66976d"
      },
      "outputs": [
        {
          "name": "stdout",
          "output_type": "stream",
          "text": [
            "('apple', 'banana', 1, 10.5)\n"
          ]
        }
      ],
      "source": [
        "#61.write a program to create a tuple\n",
        "my_tuple = ('apple','banana',1,10.5)\n",
        "print(my_tuple)"
      ]
    },
    {
      "cell_type": "code",
      "execution_count": null,
      "metadata": {
        "colab": {
          "base_uri": "https://localhost:8080/"
        },
        "id": "A9tRJwlTtg7A",
        "outputId": "692f2db7-c2fe-4ba7-81fa-dac8cc364804"
      },
      "outputs": [
        {
          "name": "stdout",
          "output_type": "stream",
          "text": [
            "Length of the tuple: 4\n"
          ]
        }
      ],
      "source": [
        "#62.length of tuple\n",
        "my_tuple = ('apple','banana',1,10.5)\n",
        "tuple_length = 0\n",
        "for i in my_tuple:\n",
        "    tuple_length += 1\n",
        "print(\"Length of the tuple:\", tuple_length)"
      ]
    },
    {
      "cell_type": "code",
      "execution_count": null,
      "metadata": {
        "colab": {
          "base_uri": "https://localhost:8080/"
        },
        "id": "fjYH3CHVthUg",
        "outputId": "013dd049-2929-4499-b82b-81d5140e37f0"
      },
      "outputs": [
        {
          "name": "stdout",
          "output_type": "stream",
          "text": [
            "<class 'tuple'>\n"
          ]
        }
      ],
      "source": [
        "#63.write a program to return the data type of a tuple\n",
        "my_tuple = ('apple','banana',1,10.5)\n",
        "print(type(my_tuple))"
      ]
    },
    {
      "cell_type": "code",
      "execution_count": null,
      "metadata": {
        "colab": {
          "base_uri": "https://localhost:8080/"
        },
        "id": "N9epaBSktiEV",
        "outputId": "ffef13b4-c091-4cf6-ae14-1b00f11661e0"
      },
      "outputs": [
        {
          "name": "stdout",
          "output_type": "stream",
          "text": [
            "('kiwi', 'orange', 'grapes', 'apple')\n"
          ]
        }
      ],
      "source": [
        "#64.create a tuple with items kiwi, orange, grapes, apple,\n",
        "my_fruit_tuple=('kiwi','orange','grapes','apple')\n",
        "print(my_fruit_tuple)"
      ]
    },
    {
      "cell_type": "code",
      "execution_count": null,
      "metadata": {
        "colab": {
          "base_uri": "https://localhost:8080/"
        },
        "id": "ZYePn0zJtidG",
        "outputId": "fabf78be-fed8-4605-8083-54956c5fdc42"
      },
      "outputs": [
        {
          "name": "stdout",
          "output_type": "stream",
          "text": [
            "('melon', 'kiwi', 'orange', 'grapes', 'apple')\n"
          ]
        }
      ],
      "source": [
        "#65 adding melon\n",
        "my_fruit_tuple=('kiwi','orange','grapes','apple')\n",
        "fruit_list=list(my_fruit_tuple)\n",
        "fruit_list.insert(0,'melon')\n",
        "fruit_tuple=tuple(fruit_list)\n",
        "print(fruit_tuple)"
      ]
    },
    {
      "cell_type": "code",
      "execution_count": null,
      "metadata": {
        "colab": {
          "base_uri": "https://localhost:8080/"
        },
        "id": "hxrDSUvYti5Y",
        "outputId": "ee92fc37-33bd-4587-ce10-8249f7f4b2d3"
      },
      "outputs": [
        {
          "name": "stdout",
          "output_type": "stream",
          "text": [
            "('kiwi', 'orange', 'grapes', 'apple', 'melon')\n"
          ]
        }
      ],
      "source": [
        "#66.write a program to append an item to the tuple\n",
        "my_fruit_tuple=('kiwi','orange','grapes','apple')\n",
        "new_item=('melon',)\n",
        "fruit_tuple=my_fruit_tuple+new_item\n",
        "print(fruit_tuple)\n"
      ]
    },
    {
      "cell_type": "code",
      "execution_count": null,
      "metadata": {
        "colab": {
          "base_uri": "https://localhost:8080/"
        },
        "id": "3UszSKgntjMQ",
        "outputId": "690ff67f-947b-4fc3-db52-2f1eba1eb24a"
      },
      "outputs": [
        {
          "name": "stdout",
          "output_type": "stream",
          "text": [
            "('kiwi', 'orange', 'apple')\n"
          ]
        }
      ],
      "source": [
        "#67.write a program to remove an item from a tuple ******doubt\n",
        "my_fruit_tuple=('kiwi','orange','grapes','apple')\n",
        "item_to_remove='grapes'\n",
        "new_tuple=()\n",
        "for item in my_fruit_tuple:\n",
        "   if item != item_to_remove:\n",
        "    new_tuple+=(item,)\n",
        "print(new_tuple)"
      ]
    },
    {
      "cell_type": "code",
      "execution_count": null,
      "metadata": {
        "colab": {
          "base_uri": "https://localhost:8080/"
        },
        "id": "Rd54BjkRtjZd",
        "outputId": "7ba46dab-9a4d-4cb8-c2bd-861ccb6bd96e"
      },
      "outputs": [
        {
          "name": "stdout",
          "output_type": "stream",
          "text": [
            "(1, 2, 3, 6, 7, 8)\n"
          ]
        }
      ],
      "source": [
        "#68.write a program to concatenate two tuples\n",
        "tuple1=(1,2,3)\n",
        "tuple2 =(6,7,8)\n",
        "concatenated_tuple=tuple1 + tuple2\n",
        "print(concatenated_tuple)"
      ]
    },
    {
      "cell_type": "code",
      "execution_count": null,
      "metadata": {
        "colab": {
          "base_uri": "https://localhost:8080/"
        },
        "id": "HwcXVB99tsfQ",
        "outputId": "5d92bfcb-6fec-4ad9-b77c-5966f4c8d7c2"
      },
      "outputs": [
        {
          "name": "stdout",
          "output_type": "stream",
          "text": [
            "Value 1: 10\n",
            "Value 2: 20\n",
            "Value 3: 30\n"
          ]
        }
      ],
      "source": [
        "#69.write a program to extract the values from a tuple into variables\n",
        "my_tuple = (10,20,30)\n",
        "value1, value2, value3=my_tuple\n",
        "print(\"Value 1:\", value1)\n",
        "print(\"Value 2:\", value2)\n",
        "print(\"Value 3:\", value3)"
      ]
    },
    {
      "cell_type": "code",
      "execution_count": null,
      "metadata": {
        "colab": {
          "base_uri": "https://localhost:8080/"
        },
        "id": "aMx9tBMdtszf",
        "outputId": "6a757f5f-45f9-449d-c366-2cd5ca088849"
      },
      "outputs": [
        {
          "name": "stdout",
          "output_type": "stream",
          "text": [
            "Value 1: apple\n",
            "Value 2: orange\n",
            "Rest of the values: ['kiwi', 'banana']\n"
          ]
        }
      ],
      "source": [
        "#70.extract values from tuple using Asteri\n",
        "my_tuple=('apple','orange','kiwi','banana')\n",
        "value1,value2,*value3 = my_tuple\n",
        "print(\"Value 1:\", value1)\n",
        "print(\"Value 2:\", value2)\n",
        "print(\"Rest of the values:\",value3)"
      ]
    },
    {
      "cell_type": "code",
      "execution_count": null,
      "metadata": {
        "colab": {
          "base_uri": "https://localhost:8080/"
        },
        "id": "FRR60Bl3ZMY7",
        "outputId": "5359b447-f293-4646-f334-4f99ef4ec892"
      },
      "outputs": [
        {
          "name": "stdout",
          "output_type": "stream",
          "text": [
            "enter a number which you want to count20\n",
            "The number of occurrences of 20 in the tuple is: 3\n"
          ]
        }
      ],
      "source": [
        "#71.count the number of occurrences of an item in a tuple\n",
        "my_tuple=(10,20,30,20,40,20,50)\n",
        "item_to_count=int(input(\"enter a number which you want to count\"))\n",
        "occurrence_count=0\n",
        "for item in my_tuple:\n",
        "    if item==item_to_count:\n",
        "        occurrence_count += 1\n",
        "print(f\"The number of occurrences of {item_to_count} in the tuple is: {occurrence_count}\")"
      ]
    },
    {
      "cell_type": "code",
      "execution_count": null,
      "metadata": {
        "colab": {
          "base_uri": "https://localhost:8080/"
        },
        "id": "diQPkqu9ZM7i",
        "outputId": "acc133d9-17ee-49f8-fd3c-bac84cc20512"
      },
      "outputs": [
        {
          "name": "stdout",
          "output_type": "stream",
          "text": [
            "('cherry', 'kiwi')\n"
          ]
        }
      ],
      "source": [
        "#72.remove items from a tuple by using merge with +Character\n",
        "my_tuple = ('apple','banana','cherry','kiwi','mango')\n",
        "chara='a'\n",
        "new_tuple=()\n",
        "for item in my_tuple:\n",
        "    if chara not in item:\n",
        "        new_tuple+=(item,)\n",
        "print(new_tuple)"
      ]
    },
    {
      "cell_type": "code",
      "execution_count": null,
      "metadata": {
        "colab": {
          "base_uri": "https://localhost:8080/"
        },
        "id": "rR34nftqZNNa",
        "outputId": "efe07454-5dab-4ea3-86ba-5c07ad3efe60"
      },
      "outputs": [
        {
          "name": "stdout",
          "output_type": "stream",
          "text": [
            "(3, 5, 7)\n"
          ]
        }
      ],
      "source": [
        "#73.slice a tuple using start-stop, step parameter\n",
        "my_tuple=(1, 2, 3, 4, 5, 6, 7, 8, 9, 10)\n",
        "sliced_tuple=my_tuple[2:8:2]\n",
        "print(sliced_tuple)"
      ]
    },
    {
      "cell_type": "code",
      "execution_count": null,
      "metadata": {
        "colab": {
          "base_uri": "https://localhost:8080/"
        },
        "id": "jatdm2bEZNeD",
        "outputId": "2ba5c4fe-c64e-4572-df1d-5c88d2d0952c"
      },
      "outputs": [
        {
          "name": "stdout",
          "output_type": "stream",
          "text": [
            "(5, 4, 3, 2, 1)\n"
          ]
        }
      ],
      "source": [
        "#74.slice a tuple with step parameter is negative\n",
        "my_tuple=(1,2,3,4,5)\n",
        "reversed_tuple=my_tuple[::-1]\n",
        "print(reversed_tuple)\n"
      ]
    },
    {
      "cell_type": "code",
      "execution_count": null,
      "metadata": {
        "colab": {
          "base_uri": "https://localhost:8080/"
        },
        "id": "hOnnHsDeZNzY",
        "outputId": "6ee972ff-5a3a-4aa4-85b8-89cac461c8d5"
      },
      "outputs": [
        {
          "name": "stdout",
          "output_type": "stream",
          "text": [
            "(1, 4)\n"
          ]
        }
      ],
      "source": [
        "#75.returns a tuple with a jump every 3 times\n",
        "my_tuple=(1,2,3,4,5,6)\n",
        "jumped_tuple=my_tuple[::3]\n",
        "print(jumped_tuple)"
      ]
    },
    {
      "cell_type": "code",
      "execution_count": null,
      "metadata": {
        "colab": {
          "base_uri": "https://localhost:8080/"
        },
        "id": "i2PWKKySZOLf",
        "outputId": "3ce3d117-10d5-4287-b0a1-306781943e4a"
      },
      "outputs": [
        {
          "name": "stdout",
          "output_type": "stream",
          "text": [
            "The maximum value in the tuple is: 78\n"
          ]
        }
      ],
      "source": [
        "#76.find the maximum value in a tuple\n",
        "my_tuple=(15,7,23,45,10,56,78,32)\n",
        "max_value=my_tuple[0]\n",
        "for value in my_tuple:\n",
        "    if value > max_value:\n",
        "        max_value=value\n",
        "print(\"The maximum value in the tuple is:\", max_value)"
      ]
    },
    {
      "cell_type": "code",
      "execution_count": null,
      "metadata": {
        "colab": {
          "base_uri": "https://localhost:8080/"
        },
        "id": "-JbqPFYYZOuk",
        "outputId": "7414029a-b28e-46ea-8bc7-ae18d389551e"
      },
      "outputs": [
        {
          "name": "stdout",
          "output_type": "stream",
          "text": [
            "The minimum value in the tuple is: 6\n"
          ]
        }
      ],
      "source": [
        "#77.Find min value in a tuple\n",
        "my_tuple=(15,7,23,45,10,6,78,32)\n",
        "min_value=my_tuple[0]\n",
        "for value in my_tuple:\n",
        "    if value < min_value:\n",
        "        min_value=value\n",
        "print(\"The minimum value in the tuple is:\", min_value)"
      ]
    },
    {
      "cell_type": "code",
      "execution_count": null,
      "metadata": {
        "colab": {
          "base_uri": "https://localhost:8080/"
        },
        "id": "RIDpiT8VZPoe",
        "outputId": "a49b4611-dbb3-462c-e2f1-2fff415ce733"
      },
      "outputs": [
        {
          "name": "stdout",
          "output_type": "stream",
          "text": [
            "The sum of items in the tuple is: 216\n"
          ]
        }
      ],
      "source": [
        "#78.find the sum of items in a tuple\n",
        "my_tuple=(15,7,23,45,10,6,78,32)\n",
        "sum_of_items=0\n",
        "for value in my_tuple:\n",
        "    sum_of_items+=value\n",
        "print(\"The sum of items in the tuple is:\", sum_of_items)"
      ]
    },
    {
      "cell_type": "code",
      "execution_count": null,
      "metadata": {
        "colab": {
          "base_uri": "https://localhost:8080/"
        },
        "id": "NEr65NZ4ZgCq",
        "outputId": "9b7fe857-0f41-4826-efd7-773319cd2ed5"
      },
      "outputs": [
        {
          "name": "stdout",
          "output_type": "stream",
          "text": [
            "enter the number you want to find the poisition45\n",
            "The index of item: 3\n"
          ]
        }
      ],
      "source": [
        "#79.write a program to find the index of an item\n",
        "my_tuple=(15,7,23,45,10,6,78,32)\n",
        "item_to_find=int(input(\"enter the number you want to find the poisition\"))\n",
        "index=None\n",
        "for i in range(len(my_tuple)):\n",
        "    if my_tuple[i]==item_to_find:\n",
        "        index=i\n",
        "        break\n",
        "if index is not None:\n",
        "    print(\"The index of item:\",index)\n",
        "else:\n",
        "    print(\"item not found\")"
      ]
    },
    {
      "cell_type": "code",
      "execution_count": null,
      "metadata": {
        "colab": {
          "base_uri": "https://localhost:8080/"
        },
        "id": "hrH8assbZgX1",
        "outputId": "9bbba93d-d576-4255-832e-4783cd2b8995"
      },
      "outputs": [
        {
          "name": "stdout",
          "output_type": "stream",
          "text": [
            "The length of the set is: 6\n"
          ]
        }
      ],
      "source": [
        "#80.write a program to find the length of a set\n",
        "my_set={10,20,30,40,50,60}\n",
        "set_length=0\n",
        "for i in my_set:\n",
        "    set_length+=1\n",
        "print(\"The length of the set is:\", set_length)"
      ]
    },
    {
      "cell_type": "code",
      "execution_count": null,
      "metadata": {
        "colab": {
          "base_uri": "https://localhost:8080/"
        },
        "id": "4QOr7L-yZgmq",
        "outputId": "f539f294-3808-4209-943d-36f06c7ce821"
      },
      "outputs": [
        {
          "name": "stdout",
          "output_type": "stream",
          "text": [
            "The created set is: {50, 100, 150}\n"
          ]
        }
      ],
      "source": [
        "#81.write a program to create a set\n",
        "my_set=set()\n",
        "my_set.add(50)\n",
        "my_set.add(100)\n",
        "my_set.add(150)\n",
        "print(\"The created set is:\", my_set)"
      ]
    },
    {
      "cell_type": "code",
      "execution_count": null,
      "metadata": {
        "colab": {
          "base_uri": "https://localhost:8080/"
        },
        "id": "xtTGuQAbZgya",
        "outputId": "cfa7b117-cb8d-49d4-fc11-5fc5ca0dfeb0"
      },
      "outputs": [
        {
          "name": "stdout",
          "output_type": "stream",
          "text": [
            "enter the number you want to remove30\n",
            "Updated Set: {50, 20, 40, 10}\n"
          ]
        }
      ],
      "source": [
        "#82.write a program to remove an item from the set using the remove method\n",
        "my_set={10,20,30,40,50}\n",
        "item_to_remove=int(input(\"enter the number you want to remove\"))\n",
        "my_set.remove(item_to_remove)\n",
        "print(\"Updated Set:\", my_set)"
      ]
    },
    {
      "cell_type": "code",
      "execution_count": null,
      "metadata": {
        "colab": {
          "base_uri": "https://localhost:8080/"
        },
        "id": "yH16qIoVZoHk",
        "outputId": "1a95634f-fac8-4398-86a0-1fee56b1d226"
      },
      "outputs": [
        {
          "name": "stdout",
          "output_type": "stream",
          "text": [
            "Updated Set1: {1, 2, 3, 4, 5}\n"
          ]
        }
      ],
      "source": [
        "#83.write a program to add items from one set to another\n",
        "set1={1,2,3}\n",
        "set2={3,4,5}\n",
        "set1.update(set2)\n",
        "print(\"Updated Set1:\", set1)"
      ]
    },
    {
      "cell_type": "code",
      "execution_count": null,
      "metadata": {
        "colab": {
          "base_uri": "https://localhost:8080/"
        },
        "id": "XjX1sJ_erojd",
        "outputId": "7bf486fd-7562-4f5f-906c-eb4bb684f13f"
      },
      "outputs": [
        {
          "name": "stdout",
          "output_type": "stream",
          "text": [
            "Joined Set: {1, 2, 3, 4, 5}\n"
          ]
        }
      ],
      "source": [
        "#84.write a program to join two sets\n",
        "set1={1,2,3}\n",
        "set2={3,4,5}\n",
        "joined_set=set1.union(set2)\n",
        "print(\"Joined Set:\", joined_set)"
      ]
    },
    {
      "cell_type": "code",
      "execution_count": null,
      "metadata": {
        "colab": {
          "base_uri": "https://localhost:8080/"
        },
        "id": "LcqqigeTro4g",
        "outputId": "77d1a3fe-7d96-4d35-aa4a-d999f185f29e"
      },
      "outputs": [
        {
          "name": "stdout",
          "output_type": "stream",
          "text": [
            "enter the number you want to remove30\n",
            "Updated Set: {50, 20, 40, 10}\n"
          ]
        }
      ],
      "source": [
        "#85.write a program to remove an item from the set using the discard method\n",
        "my_set={10,20,30,40,50}\n",
        "item_to_remove=int(input(\"enter the number you want to remove\"))\n",
        "my_set.discard(item_to_remove)\n",
        "print(\"Updated Set:\", my_set)"
      ]
    },
    {
      "cell_type": "code",
      "execution_count": null,
      "metadata": {
        "colab": {
          "base_uri": "https://localhost:8080/"
        },
        "id": "t1d3GbqRrpBo",
        "outputId": "946240e0-e05d-42f8-bbd4-22e4a07d7316"
      },
      "outputs": [
        {
          "name": "stdout",
          "output_type": "stream",
          "text": [
            "enter the number you want to add60\n",
            "Updated Set: {50, 20, 40, 10, 60, 30}\n"
          ]
        }
      ],
      "source": [
        "#86. write a program to add an item to a set\n",
        "my_set={10,20,30,40,50}\n",
        "item_to_add=int(input(\"enter the number you want to add\"))\n",
        "my_set.add(item_to_add)\n",
        "print(\"Updated Set:\", my_set)\n"
      ]
    },
    {
      "cell_type": "code",
      "execution_count": null,
      "metadata": {
        "colab": {
          "base_uri": "https://localhost:8080/"
        },
        "id": "lpMhngoNrpEi",
        "outputId": "944fcf46-a1f8-4bbd-f8cd-03a35c99c646"
      },
      "outputs": [
        {
          "name": "stdout",
          "output_type": "stream",
          "text": [
            "Symmetric Difference Set: {1, 2, 3, 6, 7, 8}\n"
          ]
        }
      ],
      "source": [
        "#87.write a program using the symmetric difference metho\n",
        "set1={1,2,3,4,5}\n",
        "set2={4,5,6,7,8}\n",
        "symmetric_diff_set=set1.symmetric_difference(set2)\n",
        "print(\"Symmetric Difference Set:\", symmetric_diff_set)"
      ]
    },
    {
      "cell_type": "code",
      "execution_count": null,
      "metadata": {
        "colab": {
          "base_uri": "https://localhost:8080/"
        },
        "id": "O_IBDfG2rpHS",
        "outputId": "3c6e482d-2825-4b2c-8cb1-aa2fce8743d7"
      },
      "outputs": [
        {
          "name": "stdout",
          "output_type": "stream",
          "text": [
            "Intersection Set: {4, 5}\n"
          ]
        }
      ],
      "source": [
        "#88. write a program using the intersection update method\n",
        "set1={1,2,3,4,5}\n",
        "set2={4,5,6,7,8}\n",
        "intersection_set=set1.intersection(set2)\n",
        "print(\"Intersection Set:\", intersection_set)"
      ]
    },
    {
      "cell_type": "code",
      "execution_count": null,
      "metadata": {
        "colab": {
          "base_uri": "https://localhost:8080/"
        },
        "id": "Xr_y8_VbrpLp",
        "outputId": "5e85b875-a909-4018-8c84-17fc1dd353e4"
      },
      "outputs": [
        {
          "name": "stdout",
          "output_type": "stream",
          "text": [
            "Updated Dictionary: {'name': 'John', 'age': 25, 'city': 'New York', 'occupation': 'Engineer'}\n"
          ]
        }
      ],
      "source": [
        "#89.Write a Python script to add a key to a dictionary\n",
        "\n",
        "\n",
        "new_key='occupation'\n",
        "new_value='Engineer'\n",
        "my_dict[new_key]=new_value\n",
        "print(\"Updated Dictionary:\", my_dict)"
      ]
    },
    {
      "cell_type": "code",
      "execution_count": null,
      "metadata": {
        "colab": {
          "base_uri": "https://localhost:8080/"
        },
        "id": "PreR6ZnJrpOa",
        "outputId": "ca57e197-5f18-4927-ae4b-185144ac9f58"
      },
      "outputs": [
        {
          "name": "stdout",
          "output_type": "stream",
          "text": [
            "age exists in the dictionary.\n"
          ]
        }
      ],
      "source": [
        "#90.Write a Python script to check whether a given key already exists in a dictionary\n",
        "my_dict={'name': 'John', 'age': 25, 'city': 'New York'}\n",
        "check_key='age'\n",
        "if check_key in my_dict:\n",
        "    print(check_key,\"exists in the dictionary.\")\n",
        "else:\n",
        "    print(check_key,\" does not exist in the dictionary\")\n"
      ]
    },
    {
      "cell_type": "code",
      "execution_count": null,
      "metadata": {
        "colab": {
          "base_uri": "https://localhost:8080/"
        },
        "id": "vq6-Ojw7rpRQ",
        "outputId": "a534abf0-c3fc-4fa9-b3be-98a33be21550"
      },
      "outputs": [
        {
          "name": "stdout",
          "output_type": "stream",
          "text": [
            "Key: name   Value: John\n",
            "Key: age   Value: 25\n",
            "Key: city   Value: New York\n"
          ]
        }
      ],
      "source": [
        "#91.Write a Python program to get the key, value, and item in a dictionary.\n",
        "my_dict={'name': 'John', 'age': 25, 'city': 'New York'}\n",
        "for key, value in my_dict.items():\n",
        "    print(f\"Key: {key}   Value: {value}\")\n"
      ]
    },
    {
      "cell_type": "code",
      "execution_count": null,
      "metadata": {
        "colab": {
          "base_uri": "https://localhost:8080/"
        },
        "id": "R4Gi6Nop3CuQ",
        "outputId": "a8388e06-743b-4264-fe47-8a8126c9bdcd"
      },
      "outputs": [
        {
          "name": "stdout",
          "output_type": "stream",
          "text": [
            "All Items: dict_items([('name', 'John'), ('age', 25), ('city', 'New York')])\n"
          ]
        }
      ],
      "source": [
        "my_dict={'name': 'John', 'age': 25, 'city': 'New York'}\n",
        "all_items = my_dict.items()\n",
        "print(\"All Items:\", all_items)"
      ]
    },
    {
      "cell_type": "code",
      "execution_count": null,
      "metadata": {
        "colab": {
          "base_uri": "https://localhost:8080/"
        },
        "id": "MHNmNe2v13Mh",
        "outputId": "798c43e5-539b-4786-d245-09de2c01f16d"
      },
      "outputs": [
        {
          "name": "stdout",
          "output_type": "stream",
          "text": [
            "The value of the 'model' key is: Mustang\n"
          ]
        }
      ],
      "source": [
        "#92.print the value of the \"model\" key of the car dictionary using the get method car\n",
        "car={\n",
        "    \"brand\": \"Ford\",\n",
        "    \"model\": \"Mustang\",\n",
        "    \"year\": 1964\n",
        "}\n",
        "model_value=car.get(\"model\")\n",
        "print(\"The value of the 'model' key is:\", model_value)"
      ]
    },
    {
      "cell_type": "code",
      "execution_count": null,
      "metadata": {
        "colab": {
          "base_uri": "https://localhost:8080/"
        },
        "id": "ZTgxE77D13ez",
        "outputId": "aa3af6b8-03c5-40a9-8137-ea905f2461e3"
      },
      "outputs": [
        {
          "name": "stdout",
          "output_type": "stream",
          "text": [
            "Updated Dictionary: {'brand': 'Ford', 'model': 'Mustang', 'year': 2020}\n"
          ]
        }
      ],
      "source": [
        "#93.Change the \"year\" value from 1964 to 2020. in the above dictionary\n",
        "car={\n",
        "    \"brand\": \"Ford\",\n",
        "    \"model\": \"Mustang\",\n",
        "    \"year\": 1964\n",
        "}\n",
        "car[\"year\"]=2020\n",
        "print(\"Updated Dictionary:\", car)"
      ]
    },
    {
      "cell_type": "code",
      "execution_count": null,
      "metadata": {
        "colab": {
          "base_uri": "https://localhost:8080/"
        },
        "id": "I899jLD_13sb",
        "outputId": "fa0d4a3b-e11f-497b-d9a6-d0a9b36e6359"
      },
      "outputs": [
        {
          "name": "stdout",
          "output_type": "stream",
          "text": [
            "('city', 'New York')\n",
            "{'name': 'John', 'age': 25}\n"
          ]
        }
      ],
      "source": [
        "#94.Write a Python program to remove a key from a dictionary.\n",
        "my_dict={'name': 'John', 'age': 25, 'city': 'New York'}\n",
        "removed_value=my_dict.popitem()\n",
        "print(removed_value)\n",
        "print(my_dict)"
      ]
    },
    {
      "cell_type": "code",
      "execution_count": null,
      "metadata": {
        "colab": {
          "base_uri": "https://localhost:8080/"
        },
        "id": "qqOeEPOQ13_I",
        "outputId": "ef9601b1-7636-4e1b-e196-e482ea0d8f1b"
      },
      "outputs": [
        {
          "name": "stdout",
          "output_type": "stream",
          "text": [
            "Another Dictionary: {'name': 'Alice', 'age': 30, 'city': 'London'}\n"
          ]
        }
      ],
      "source": [
        "#95.create a dictionary using the dict constructor\n",
        "dict2=dict([('name', 'Alice'), ('age', 30), ('city', 'London')])\n",
        "print(\"Another Dictionary:\",dict2)"
      ]
    },
    {
      "cell_type": "code",
      "execution_count": null,
      "metadata": {
        "colab": {
          "base_uri": "https://localhost:8080/"
        },
        "id": "MxvC5Bd314pD",
        "outputId": "005af31b-6079-4e13-9371-efd42ea14dc4"
      },
      "outputs": [
        {
          "name": "stdout",
          "output_type": "stream",
          "text": [
            "Updated Dictionary: {'name': 'John', 'age': 26, 'city': 'New York', 'occupation': 'Engineer', 'country': 'USA'}\n"
          ]
        }
      ],
      "source": [
        "#96.write a program with a dictionary update method\n",
        "original_dict={'name': 'John', 'age': 25, 'city': 'New York'}\n",
        "update_dict={'age': 26, 'occupation': 'Engineer', 'country': 'USA'}\n",
        "original_dict.update(update_dict)\n",
        "print(\"Updated Dictionary:\", original_dict)"
      ]
    },
    {
      "cell_type": "code",
      "execution_count": null,
      "metadata": {
        "colab": {
          "base_uri": "https://localhost:8080/"
        },
        "id": "ErxMT42H141r",
        "outputId": "b44824ef-357f-4325-d428-f00865af614f"
      },
      "outputs": [
        {
          "name": "stdout",
          "output_type": "stream",
          "text": [
            "Original Dictionary: {'name': 'John', 'age': 25, 'city': 'New York'}\n",
            "Updated Dictionary: {'name': 'John', 'age': 25}\n",
            "Removed Item: ('city', 'New York')\n"
          ]
        }
      ],
      "source": [
        "#97.write a program to remove the last inserted item from a dictionary\n",
        "my_dict={'name': 'John', 'age': 25, 'city': 'New York'}\n",
        "print(\"Original Dictionary:\", my_dict)\n",
        "removed_item=my_dict.popitem()\n",
        "print(\"Updated Dictionary:\", my_dict)\n",
        "print(\"Removed Item:\", removed_item)"
      ]
    },
    {
      "cell_type": "code",
      "execution_count": null,
      "metadata": {
        "colab": {
          "base_uri": "https://localhost:8080/"
        },
        "id": "wXra5tQz15Bx",
        "outputId": "407ee635-5a23-489d-f63b-6739fad41fb2"
      },
      "outputs": [
        {
          "name": "stdout",
          "output_type": "stream",
          "text": [
            "Original Dictionary: {'name': 'John', 'age': 25, 'city': 'New York'}\n",
            "Updated (Empty) Dictionary: {}\n"
          ]
        }
      ],
      "source": [
        "#98. write a program to empty a dictionary\n",
        "my_dict={'name': 'John', 'age': 25, 'city': 'New York'}\n",
        "print(\"Original Dictionary:\", my_dict)\n",
        "my_dict.clear()\n",
        "print(\"Updated (Empty) Dictionary:\", my_dict)"
      ]
    },
    {
      "cell_type": "code",
      "execution_count": null,
      "metadata": {
        "colab": {
          "base_uri": "https://localhost:8080/"
        },
        "id": "468LYZ8Y15Mj",
        "outputId": "e58601db-e0a3-4a31-c63a-3269c5671259"
      },
      "outputs": [
        {
          "name": "stdout",
          "output_type": "stream",
          "text": [
            "Original Dictionary: {'name': 'John', 'age': 25, 'city': 'New York'}\n",
            "Copied Dictionary: {'name': 'John', 'age': 25, 'city': 'New York'}\n"
          ]
        }
      ],
      "source": [
        "#99.write a program to copy a dictionary\n",
        "original_dict={'name': 'John', 'age': 25, 'city': 'New York'}\n",
        "copied_dict=original_dict.copy()\n",
        "print(\"Original Dictionary:\", original_dict)\n",
        "print(\"Copied Dictionary:\", copied_dict)"
      ]
    },
    {
      "cell_type": "code",
      "execution_count": null,
      "metadata": {
        "colab": {
          "base_uri": "https://localhost:8080/"
        },
        "id": "3tL4bO2315aV",
        "outputId": "e1fc22ba-f228-42e5-efea-b12e628aa196"
      },
      "outputs": [
        {
          "name": "stdout",
          "output_type": "stream",
          "text": [
            "120\n"
          ]
        }
      ],
      "source": [
        "#100.create and call a function\n",
        "def fact():\n",
        "  num=5\n",
        "  factorial=1\n",
        "  for i in range(1,num+1):\n",
        "    factorial=factorial*i\n",
        "  print(factorial)\n",
        "fact()\n"
      ]
    },
    {
      "cell_type": "code",
      "execution_count": null,
      "metadata": {
        "colab": {
          "base_uri": "https://localhost:8080/"
        },
        "id": "f897_S8lZ5RS",
        "outputId": "01c546fc-b817-4327-d9f1-2d2e63e864e9"
      },
      "outputs": [
        {
          "name": "stdout",
          "output_type": "stream",
          "text": [
            "nohtyp\n"
          ]
        }
      ],
      "source": [
        "#write python prgm to reverse a string\n",
        "my_string=\"python\"\n",
        "#print(my_string[::-1])\n",
        "reverse=\"\"\n",
        "for item in my_string:\n",
        "  reverse=item+reverse\n",
        "print(reverse)\n"
      ]
    },
    {
      "cell_type": "code",
      "execution_count": null,
      "metadata": {
        "colab": {
          "base_uri": "https://localhost:8080/"
        },
        "id": "jvLCiI2BVpS3",
        "outputId": "40b95c59-60d1-4ac2-d75d-f0c5879664ac"
      },
      "outputs": [
        {
          "name": "stdout",
          "output_type": "stream",
          "text": [
            "enter a word:mom\n",
            "True\n"
          ]
        }
      ],
      "source": [
        "#palindrome\n",
        "my_string=input(\"enter a word:\")\n",
        "pali=my_string==my_string[::-1]\n",
        "print(pali)"
      ]
    },
    {
      "cell_type": "code",
      "execution_count": null,
      "metadata": {
        "id": "umo_KofQAo92"
      },
      "outputs": [],
      "source": []
    },
    {
      "cell_type": "code",
      "execution_count": null,
      "metadata": {
        "colab": {
          "base_uri": "https://localhost:8080/"
        },
        "id": "mXBv5A0iWZXy",
        "outputId": "d5f1b611-3bc9-47ac-db1f-972c62fb5ade"
      },
      "outputs": [
        {
          "name": "stdout",
          "output_type": "stream",
          "text": [
            "enter a setence:hi friend\n",
            "2\n"
          ]
        }
      ],
      "source": [
        "#count the number of words in sentence\n",
        "my_string=input(\"enter a setence:\").split()\n",
        "#print(len(my_string))\n",
        "\n"
      ]
    },
    {
      "cell_type": "markdown",
      "metadata": {
        "id": "bYOtprluF7IS"
      },
      "source": [
        "**fuction**"
      ]
    },
    {
      "cell_type": "code",
      "execution_count": null,
      "metadata": {
        "colab": {
          "base_uri": "https://localhost:8080/"
        },
        "id": "MJDXKAJgW_yI",
        "outputId": "0ca8bb48-cb2d-4cba-fe43-8c1efa0af640"
      },
      "outputs": [
        {
          "name": "stdout",
          "output_type": "stream",
          "text": [
            "120\n"
          ]
        }
      ],
      "source": [
        "#fuctions\n",
        "#another way to find factorial by using for loop\n",
        "def fact():\n",
        "  num=5\n",
        "  factorial=1\n",
        "  for i in range(1,num+1):\n",
        "    factorial=factorial*i\n",
        "  print(factorial)\n",
        "fact()\n",
        "\n"
      ]
    },
    {
      "cell_type": "code",
      "execution_count": null,
      "metadata": {
        "colab": {
          "base_uri": "https://localhost:8080/"
        },
        "id": "efiQfdLIfjzk",
        "outputId": "c21c3240-f548-4af6-8799-560ad71b507a"
      },
      "outputs": [
        {
          "data": {
            "text/plain": [
              "7"
            ]
          },
          "execution_count": 1,
          "metadata": {},
          "output_type": "execute_result"
        }
      ],
      "source": [
        "#return\n",
        "def sum(a,b):\n",
        "  c=a+b\n",
        "  return c\n",
        "sum(5,2)\n"
      ]
    },
    {
      "cell_type": "code",
      "execution_count": null,
      "metadata": {
        "colab": {
          "base_uri": "https://localhost:8080/"
        },
        "id": "PPAT1KCZkQZR",
        "outputId": "11d0518d-1e38-45eb-f483-576499dc5c1a"
      },
      "outputs": [
        {
          "data": {
            "text/plain": [
              "7"
            ]
          },
          "execution_count": 17,
          "metadata": {},
          "output_type": "execute_result"
        }
      ],
      "source": [
        "#return\n",
        "def sum(a=5,b=2):\n",
        "  c=a+b\n",
        "  return c\n",
        "sum()\n"
      ]
    },
    {
      "cell_type": "markdown",
      "metadata": {
        "id": "6cLulSqKkrWp"
      },
      "source": [
        "5 type of parameter passing"
      ]
    },
    {
      "cell_type": "code",
      "execution_count": null,
      "metadata": {
        "colab": {
          "base_uri": "https://localhost:8080/"
        },
        "id": "hoo28rVrkgIy",
        "outputId": "305cc8ba-f801-4ec7-eea2-0c4a1c68c1bf"
      },
      "outputs": [
        {
          "data": {
            "text/plain": [
              "467"
            ]
          },
          "execution_count": 18,
          "metadata": {},
          "output_type": "execute_result"
        }
      ],
      "source": [
        "#1.default parameter passing\n",
        "def sum(a,b):\n",
        "  c=a+b\n",
        "  return c\n",
        "sum(122,345)"
      ]
    },
    {
      "cell_type": "code",
      "execution_count": null,
      "metadata": {
        "colab": {
          "base_uri": "https://localhost:8080/"
        },
        "id": "aSPb-RA6lHOQ",
        "outputId": "abd6a920-1d04-41a7-bf4c-4b6b7d0984a6"
      },
      "outputs": [
        {
          "data": {
            "text/plain": [
              "201"
            ]
          },
          "execution_count": 2,
          "metadata": {},
          "output_type": "execute_result"
        }
      ],
      "source": [
        "#2.keyword parameter passing\n",
        "def sum(a=123,b=78):\n",
        "  c=a+b\n",
        "  return c\n",
        "sum()"
      ]
    },
    {
      "cell_type": "code",
      "execution_count": null,
      "metadata": {
        "id": "Mkn_ihgahfLR"
      },
      "outputs": [],
      "source": []
    },
    {
      "cell_type": "code",
      "execution_count": null,
      "metadata": {
        "colab": {
          "base_uri": "https://localhost:8080/"
        },
        "id": "qwW0J-9RdyeO",
        "outputId": "d12bcdef-aad0-4703-b661-c105b6f53b3e"
      },
      "outputs": [
        {
          "name": "stdout",
          "output_type": "stream",
          "text": [
            "(2, 9, 7, 5, 9, 6)\n"
          ]
        }
      ],
      "source": [
        "#3.arbitary arguments parameter passing\n",
        "def sum(*a):\n",
        "  print(a)\n",
        "  sum(2,9,7,5,9,6)\n"
      ]
    },
    {
      "cell_type": "code",
      "execution_count": null,
      "metadata": {
        "colab": {
          "base_uri": "https://localhost:8080/"
        },
        "id": "CK7eRE8EgaA_",
        "outputId": "4cbf9182-9b7a-467f-aeab-afe887804207"
      },
      "outputs": [
        {
          "name": "stdout",
          "output_type": "stream",
          "text": [
            "10\n"
          ]
        }
      ],
      "source": [
        "#4.reference parameter passing\n",
        "def sum(a):\n",
        "  print(a)\n",
        "r=10 #this is reference parameter passing\n",
        "sum(r)"
      ]
    },
    {
      "cell_type": "code",
      "execution_count": null,
      "metadata": {
        "colab": {
          "base_uri": "https://localhost:8080/"
        },
        "id": "NufwljgtqasM",
        "outputId": "fab1952d-89dc-48e9-e67c-742964b50643"
      },
      "outputs": [
        {
          "name": "stdout",
          "output_type": "stream",
          "text": [
            "{'name': 'akshaya', 'age': 25}\n"
          ]
        }
      ],
      "source": [
        "#5.keyword arbitrary arugument\n",
        "def word(**x):\n",
        "  print(x)\n",
        "word(name=\"akshaya\",age=25)\n"
      ]
    },
    {
      "cell_type": "markdown",
      "metadata": {
        "id": "nTyXJ9HyStNn"
      },
      "source": [
        "**fuction retaed problems**"
      ]
    },
    {
      "cell_type": "code",
      "execution_count": null,
      "metadata": {
        "colab": {
          "base_uri": "https://localhost:8080/"
        },
        "id": "qlfo1j-KOlf9",
        "outputId": "fc99c5cf-eeed-42b6-fd0e-bea33d8793ec"
      },
      "outputs": [
        {
          "name": "stdout",
          "output_type": "stream",
          "text": [
            "Sum is  60\n",
            "Sum is  150\n",
            "Sum is  157.60000000000002\n"
          ]
        }
      ],
      "source": [
        "#1.arbitoryarg.py\n",
        "def add(*n):\n",
        "\ts=0\n",
        "\tfor x in n:\n",
        "\t\ts=s+x\n",
        "\treturn s\n",
        "\n",
        "p=add(10,20,30)\n",
        "print(\"Sum is \",p)\n",
        "q=add(10,20,30,40,50)\n",
        "print(\"Sum is \",q)\n",
        "r=add(25.5,36.6,42.7,52.8)\n",
        "print(\"Sum is \",r)\n"
      ]
    },
    {
      "cell_type": "code",
      "execution_count": null,
      "metadata": {
        "colab": {
          "base_uri": "https://localhost:8080/"
        },
        "id": "XKZCBQmIRgqP",
        "outputId": "7292d32b-bb21-4373-df48-c474025a6b81"
      },
      "outputs": [
        {
          "name": "stdout",
          "output_type": "stream",
          "text": [
            "Enter the number : 5\n",
            "Menu:\n",
            " 1.Automorphic\n",
            " 2.Trimorphic\n",
            "\n",
            "Enter your choice : 1\n",
            "5  is automorphic\n"
          ]
        }
      ],
      "source": [
        "#2.auto_trimorphic.py\n",
        "\n",
        "num=int(input(\"Enter the number : \"))\n",
        "print(\"Menu:\\n\",\"1.Automorphic\\n\",\"2.Trimorphic\\n\")\n",
        "choice=int(input(\"Enter your choice : \"))\n",
        "l=len(str(num))\n",
        "if choice==1:\n",
        "\tsq=num**2\n",
        "\tif sq%(10**l)==num:\n",
        "\t\tprint(num,\" is automorphic\")\n",
        "\telse:\n",
        "\t\tprint(num,\" is not automorphic\")\n",
        "elif choice==2:\n",
        "\tcb=num**3\n",
        "\tif cb%(10**l)==num:\n",
        "\t\tprint(num,\" is trimorphic\")\n",
        "\telse:\n",
        "\t\tprint(num,\" is not trimorphic\")\n",
        "else:\n",
        "\tprint(\"Invalid choice!!!\")"
      ]
    },
    {
      "cell_type": "code",
      "execution_count": null,
      "metadata": {
        "colab": {
          "base_uri": "https://localhost:8080/"
        },
        "id": "jD4KSAuXVMSu",
        "outputId": "dc0a71cf-6ea1-4dbb-c963-1590fb81c399"
      },
      "outputs": [
        {
          "name": "stdout",
          "output_type": "stream",
          "text": [
            "enter the first number2\n",
            "enter the second number3\n",
            "enter the third number4\n",
            "Biggest is  4\n"
          ]
        }
      ],
      "source": [
        "#3.big3elif.py\n",
        "\n",
        "a=int(input(\"enter the first number\"))\n",
        "b=int(input(\"enter the second number\"))\n",
        "c=int(input(\"enter the third number\"))\n",
        "if a>b and a>c:\n",
        "\tbig=a\n",
        "elif b>a and b>c:\n",
        "\tbig=b\n",
        "else:\n",
        "\tbig=c\n",
        "print(\"Biggest is \",big)\n"
      ]
    },
    {
      "cell_type": "code",
      "execution_count": null,
      "metadata": {
        "colab": {
          "base_uri": "https://localhost:8080/"
        },
        "id": "_JTviyJuV5Sc",
        "outputId": "b0b513a8-2c84-4ce9-8010-be582e495f47"
      },
      "outputs": [
        {
          "name": "stdout",
          "output_type": "stream",
          "text": [
            "Enter the first number5\n",
            "Enter the second number6\n",
            "Biggest is :  6\n"
          ]
        }
      ],
      "source": [
        "#4.bigifelse.py\n",
        "\n",
        "a=int(input(\"Enter the first number\"))\n",
        "b=int(input(\"Enter the second number\"))\n",
        "if a>b:\n",
        "\tbig=a\n",
        "else:\n",
        "\tbig=b\n",
        "print(\"Biggest is : \",big)\n",
        "\n"
      ]
    },
    {
      "cell_type": "code",
      "execution_count": null,
      "metadata": {
        "colab": {
          "base_uri": "https://localhost:8080/"
        },
        "id": "n0Dm7uvdWFFw",
        "outputId": "d83f42e9-2872-4f3d-a304-658328b339dd"
      },
      "outputs": [
        {
          "name": "stdout",
          "output_type": "stream",
          "text": [
            "Enter the limit array :5\n",
            "Enter the elements : \n",
            "078\n",
            "132\n",
            "2785\n",
            "3100\n",
            "4145\n",
            "Second largest is :  145\n",
            "785\n"
          ]
        }
      ],
      "source": [
        "#5.biglist.py\n",
        "\n",
        "a=[]\n",
        "n=int(input(\"Enter the limit array :\"))\n",
        "print(\"Enter the elements : \")\n",
        "for i in range(0,n):\n",
        "\tno=int(input(i))\n",
        "\ta.append(no)\n",
        "big=a[0]\n",
        "for i in range(1,n):\n",
        "\tif a[i]>big:\n",
        "\t\tbig=a[i]\n",
        "if big==a[0]:\n",
        "\tsbig=a[1]\n",
        "else:\n",
        "\tsbig=a[0]\n",
        "for i in range(0,n):\n",
        "\tif a[i]<big and a[i]>sbig:\n",
        "\t\tsbig=a[i]\n",
        "print(\"Second largest is : \",sbig)\n",
        "print(big)"
      ]
    },
    {
      "cell_type": "code",
      "execution_count": null,
      "metadata": {
        "colab": {
          "base_uri": "https://localhost:8080/"
        },
        "id": "o0_meihXcCqm",
        "outputId": "636da3e3-4ee1-45d9-93be-8bc9cfd251a2"
      },
      "outputs": [
        {
          "name": "stdout",
          "output_type": "stream",
          "text": [
            "Enter the first number5\n",
            "Enter the second number10\n",
            "Enter the third number15\n",
            "Biggest is :  15\n"
          ]
        }
      ],
      "source": [
        "8\n",
        "1#6.bignestedif.py\n",
        "\n",
        "a=int(input(\"Enter the first number\"))\n",
        "b=int(input(\"Enter the second number\"))\n",
        "c=int(input(\"Enter the third number\"))\n",
        "if a>b:\n",
        "\tif a>c:\n",
        "\t\tbig=a\n",
        "\telse:\n",
        "\t\tbig=c\n",
        "else:\n",
        "\tif b>c:\n",
        "\t\tbig=b\n",
        "\telse:\n",
        "\t\tbig=c\n",
        "print(\"Biggest is : \",big)\n",
        "\n"
      ]
    },
    {
      "cell_type": "code",
      "execution_count": null,
      "metadata": {
        "colab": {
          "base_uri": "https://localhost:8080/"
        },
        "id": "-MR7nL3UcZ8r",
        "outputId": "6d1b01ec-3341-40e6-e30d-8f6435a0bc5a"
      },
      "outputs": [
        {
          "name": "stdout",
          "output_type": "stream",
          "text": [
            "Enter a number5\n",
            "Enter a number10\n",
            "Biggest is :  10\n"
          ]
        }
      ],
      "source": [
        "#7.bigsimif.py\n",
        "\n",
        "a=int(input(\"Enter a number\"))\n",
        "b=int(input(\"Enter a number\"))\n",
        "big=a\n",
        "if a<b:\n",
        "\tbig=b\n",
        "print(\"Biggest is : \",big)\n",
        "\n"
      ]
    },
    {
      "cell_type": "code",
      "execution_count": null,
      "metadata": {
        "colab": {
          "background_save": true,
          "base_uri": "https://localhost:8080/"
        },
        "id": "vFuF-TqLcmsO",
        "outputId": "031cf96b-7f25-4de7-b83e-25dd1a049ec9"
      },
      "outputs": [
        {
          "name": "stdout",
          "output_type": "stream",
          "text": [
            "Enter your requirements :(1-required/0-not required)\n"
          ]
        }
      ],
      "source": [
        "#8.block_selection.py\n",
        "\n",
        "required_amenities=[]\n",
        "block_details=[{\"School\":True,\"Gym\":False,\"Pool\":False,\"Hospital\":True,\"Store\":False},]\n",
        "amenities={\"School\":False,\"Gym\":False,\"Pool\":False,\"Hospital\":False,\"Store\":False}\n",
        "print(\"Enter your requirements :(1-required/0-not required)\")\n",
        "for x in amenities.keys():\n",
        "\tk=int(input(x))\n",
        "\tif k==1:\n",
        "\t\trequired_amenities.append(x)\n",
        "print(required_amenities)\n",
        "\n"
      ]
    },
    {
      "cell_type": "code",
      "execution_count": null,
      "metadata": {
        "colab": {
          "base_uri": "https://localhost:8080/"
        },
        "id": "w6kd4qoEcmyh",
        "outputId": "566b93bc-f426-431e-af76-fd22d1e9aaa4"
      },
      "outputs": [
        {
          "name": "stdout",
          "output_type": "stream",
          "text": [
            "1. Addition\n",
            "2. Subtraction\n",
            "3. Multiplication\n",
            "4. Division \n",
            "5. Exponet\n"
          ]
        }
      ],
      "source": [
        "#9.calculatorelif.py\n",
        "\n",
        "print(\"1. Addition\")\n",
        "print(\"2. Subtraction\")\n",
        "print(\"3. Multiplication\")\n",
        "print(\"4. Division \")\n",
        "print(\"5. Exponet\")\n",
        "choice=int(input(\"Enter your choice of operation :\"))\n",
        "a=int(input(\"Enter a number\"))\n",
        "b=int(input(\"Enter a number\"))\n",
        "if choice==1:\n",
        "\tres=a+b\n",
        "elif choice==2:\n",
        "\tres=a-b\n",
        "elif choice==3:\n",
        "\tres=a*b\n",
        "elif choice==4:\n",
        "\tres=a/b\n",
        "elif choice==5:\n",
        "\tres=a**b\n",
        "else:\n",
        "\tprint(\"Invalid choice!!!\")\n",
        "print(\"The result is \",res)\n"
      ]
    },
    {
      "cell_type": "code",
      "execution_count": null,
      "metadata": {
        "id": "o4Y7tZeGp6P6"
      },
      "outputs": [],
      "source": [
        "#10.circularrightshift.py\n",
        "\n",
        "a=[]\n",
        "n=int(input(\"Enter no of elements : \"))\n",
        "print(\"Enter the elements : \")\n",
        "for i in range(0,n):\n",
        "\telmnt=int(input())\n",
        "\ta.append(elmnt)\n",
        "print(a)\n",
        "b=[a[n-1]]+a[:n-1]\n",
        "a=b\n",
        "print(a)\n"
      ]
    },
    {
      "cell_type": "code",
      "execution_count": null,
      "metadata": {
        "colab": {
          "background_save": true,
          "base_uri": "https://localhost:8080/"
        },
        "id": "-LJWHEoZrVMm",
        "outputId": "13c4c7cc-f0c0-481e-c913-6dedd24ae468"
      },
      "outputs": [
        {
          "name": "stdout",
          "output_type": "stream",
          "text": [
            "1.Add a contact \n",
            "2.Delete a contact\n",
            "3.Edit a contact \n",
            "4.Search a contact\n",
            "5.List all contacts\n",
            "6.Exit\n",
            "1 contact added successfully\n"
          ]
        }
      ],
      "source": [
        "#11.contactbook.py\n",
        "\n",
        "print(\"1.Add a contact \")\n",
        "print(\"2.Delete a contact\")\n",
        "print(\"3.Edit a contact \")\n",
        "print(\"4.Search a contact\")\n",
        "print(\"5.List all contacts\")\n",
        "print(\"6.Exit\")\n",
        "contactbook={}\n",
        "choice=int(input(\"Enter your choice \"))\n",
        "while choice!=6:\n",
        "\tif choice==1:\n",
        "\t\tname=input(\"Enter the name : \")\n",
        "\t\tphno=int(input(\"Enter the phone number : \"))\n",
        "\t\tcontactbook[name]=phno\n",
        "\t\tprint(\"1 contact added successfully\")\n",
        "\telif choice==2:\n",
        "\t\tname=input(\"enter the name of contact to delete :\")\n",
        "\t\tcontactbook.pop(name)\n",
        "\t\tprint(\"1 contact deleted succefully\")\n",
        "\telif choice==3:\n",
        "\t\tname=input(\"enter the name of contact to edit :\")\n",
        "\t\tphno=int(input(\"Enter the phone number : \"))\n",
        "\t\tcontactbook[name]=phno\n",
        "\t\tprint(\"contact edited successfully\")\n",
        "\telif choice==4:\n",
        "\t\tname=input(\"enter the name :\")\n",
        "\t\tprint(\"Phone Number of \",name,\" : \",contactbook[name])\n",
        "\telif choice==5:\n",
        "\t\tprint(\"Name\\t\\t Phone Number\")\n",
        "\t\tfor x,y in contactbook.items():\n",
        "\t\t\tprint(x,\"\\t\\t\",y)\n",
        "\telse:\n",
        "\t\tprint(\"Invalid choice !!!\")\n",
        "\tchoice=int(input(\"Enter your choice \"))"
      ]
    },
    {
      "cell_type": "code",
      "execution_count": null,
      "metadata": {
        "colab": {
          "base_uri": "https://localhost:8080/"
        },
        "id": "_TDg9atBrphf",
        "outputId": "da35b2d9-0c35-4741-9ce6-2ade64a77441"
      },
      "outputs": [
        {
          "name": "stdout",
          "output_type": "stream",
          "text": [
            "Interest  9000.0\n",
            "Interest  7500.0\n"
          ]
        }
      ],
      "source": [
        "#12.defaultarg.py\n",
        "\n",
        "def simple_interest(p,n,r=0.25):\n",
        "\ti=p*r*n\n",
        "\treturn i\n",
        "i1=simple_interest(5000,6,0.3)\n",
        "print(\"Interest \",i1)\n",
        "i2=simple_interest(5000,6)\n",
        "print(\"Interest \",i2)\n"
      ]
    },
    {
      "cell_type": "code",
      "execution_count": null,
      "metadata": {
        "colab": {
          "base_uri": "https://localhost:8080/"
        },
        "id": "URp394c9_XuD",
        "outputId": "db6c83be-b0c6-4726-d79a-9364b33a510c"
      },
      "outputs": [
        {
          "name": "stdout",
          "output_type": "stream",
          "text": [
            "kiran\n",
            "kiran\n"
          ]
        }
      ],
      "source": [
        "#13.dicfunctions.py\n",
        "\n",
        "bus={\n",
        "\t\"Routeno\":5,\n",
        "\t\"Driver\":\"kiran\",\n",
        "\t\"Cleaner\":\"Manu\",\n",
        "\t\"points\":[\"karamana\",\"PMG\",\"pattom\"]\n",
        "}\n",
        "\n",
        "print(bus[\"Driver\"])\n",
        "print(bus.get(\"Driver\"))\n",
        "bus.keys()\n",
        "bus.values()\n",
        "bus.items()\n",
        "bus[\"color\"]=\"Red\"\n",
        "bus.update({\"fare\":1500})\n",
        "bus[\"Driver\"]=\"Mohan\"\n",
        "bus.pop(\"fare\")\n",
        "bus.popitem()\n",
        "bus.clear()\n",
        "\n",
        "for x in bus:\n",
        "\tprint(x)\n",
        "for x in bus:\n",
        "\tprint(bus[x])\n",
        "\n"
      ]
    },
    {
      "cell_type": "code",
      "execution_count": null,
      "metadata": {
        "colab": {
          "base_uri": "https://localhost:8080/"
        },
        "id": "YGGr7ShZ_X73",
        "outputId": "6c815eb0-1a72-4b3e-c98c-4c04298a8f00"
      },
      "outputs": [
        {
          "name": "stdout",
          "output_type": "stream",
          "text": [
            "Kiran\n",
            "dict_keys(['name', 'age', 'mark1', 'mark2'])\n",
            "dict_values(['Kiran', 25, 76, 85])\n",
            "dict_items([('name', 'Kiran'), ('age', 25), ('mark1', 76), ('mark2', 85)])\n",
            "{}\n"
          ]
        }
      ],
      "source": [
        "#14.dictionary.py\n",
        "student = {\"name\": \"Kiran\", \"age\": 25, \"mark1\": 76, \"mark2\": 85}\n",
        "print(student.get(\"name\"))\n",
        "print(student.keys())\n",
        "print(student.values())\n",
        "print(student.items())\n",
        "student[\"name\"] = \"Manu\"\n",
        "student[\"phone\"] = 958744123\n",
        "student.update({\"name\": \"Mohan\"})\n",
        "student.update({\"Address\": \"Kottayam\"})\n",
        "student.pop(\"name\")\n",
        "student.clear()\n",
        "candidate = student.copy()\n",
        "print(student)"
      ]
    },
    {
      "cell_type": "code",
      "execution_count": null,
      "metadata": {
        "colab": {
          "base_uri": "https://localhost:8080/"
        },
        "id": "W0uwn1I0_YHF",
        "outputId": "f6899b99-4e4a-4d42-98ba-bf766ef2dc2f"
      },
      "outputs": [
        {
          "name": "stdout",
          "output_type": "stream",
          "text": [
            "Enter the number of contacts : 1\n",
            "Enter the contact name :assk\n",
            "Enter the phone number :2655455\n",
            "Keys\n",
            "assk\n",
            "Values\n",
            "2655455\n",
            "Keys-value pairs\n",
            "assk - 2655455\n"
          ]
        }
      ],
      "source": [
        "#15.dictionarydemo.py\n",
        "\n",
        "contactlist={}\n",
        "n=int(input(\"Enter the number of contacts : \"))\n",
        "for i in range(1,n+1):\n",
        "\tname=input(\"Enter the contact name :\")\n",
        "\tphno=int(input(\"Enter the phone number :\"))\n",
        "\tcontactlist[name]=phno\n",
        "print(\"Keys\")\n",
        "for x in contactlist.keys():\n",
        "\tprint(x)\n",
        "print(\"Values\")\n",
        "for x in contactlist.values():\n",
        "\tprint(x)\n",
        "print(\"Keys-value pairs\")\n",
        "for x,y in contactlist.items():\n",
        "\tprint(x,\"-\",y)\n",
        "\n",
        "\n"
      ]
    },
    {
      "cell_type": "code",
      "execution_count": null,
      "metadata": {
        "colab": {
          "base_uri": "https://localhost:8080/"
        },
        "id": "NouIxqHDAj8t",
        "outputId": "fe43e842-d7ac-4fd1-d9e4-7d5322c16b29"
      },
      "outputs": [
        {
          "name": "stdout",
          "output_type": "stream",
          "text": [
            "Enter any number123\n",
            "The number is :  123\n",
            "The number Name is :  One Humdreds Two Tens Three Ones\n"
          ]
        }
      ],
      "source": [
        "#16.dictnumber.py\n",
        "\n",
        "numberNames={0:'Zero',1:'One',2:'Two',3:'Three',4:'Four',5:'Five',6:'Six',7:'Seven',8:'Eight',9:'Nine'}\n",
        "positionvalues={0:'Ones',1:'Tens',2:'Humdreds',3:'Thousands',4:'Ten Thousands',5:'Lakhs',6:'Ten Lakhs',7:'Crore',8:'Ten Crores',9:'Hundred Crores'}\n",
        "num=input(\"Enter any number\")\n",
        "result=''\n",
        "l=len(num)-1\n",
        "for ch in num:\n",
        "\tkey=int(ch)\n",
        "\tvalue=numberNames[key]\n",
        "\tresult=result + ' ' + value+' '+ positionvalues[l]\n",
        "\tl-=1\n",
        "print(\"The number is : \",num)\n",
        "print(\"The number Name is :\",result)\n"
      ]
    },
    {
      "cell_type": "code",
      "execution_count": null,
      "metadata": {
        "colab": {
          "base_uri": "https://localhost:8080/"
        },
        "id": "cjOwh7ncBWQj",
        "outputId": "292f1cc3-675a-4e7e-9158-eb6f4c76328f"
      },
      "outputs": [
        {
          "name": "stdout",
          "output_type": "stream",
          "text": [
            "Enter the number : 20\n",
            "sum of digits :  2\n"
          ]
        }
      ],
      "source": [
        "#17.digitsumfun.py\n",
        "\n",
        "def  digitsum(n):\n",
        "\tif n==0:\n",
        "\t\treturn 0\n",
        "\td=n%10\n",
        "\ts=d+digitsum(n//10)\n",
        "\treturn s\n",
        "no=int(input(\"Enter the number : \"))\n",
        "sum=digitsum(no)\n",
        "print(\"sum of digits : \",sum)\n"
      ]
    },
    {
      "cell_type": "code",
      "execution_count": null,
      "metadata": {
        "id": "vcXD4b3MAkOZ"
      },
      "outputs": [],
      "source": [
        "#18.divisiblesimpif.py\n",
        "\n",
        "m=int(input(\"Enter a number : \"))\n",
        "n=int(input(\"Enter a number : \"))\n",
        "result=\"not divisible\"\n",
        "if(m%n==0):\n",
        "\tresult=\"divisible\"\n",
        "print(m,\" is \",result,\" by \",n)\n"
      ]
    },
    {
      "cell_type": "code",
      "execution_count": null,
      "metadata": {
        "colab": {
          "base_uri": "https://localhost:8080/"
        },
        "id": "L_Gw3f27Akc3",
        "outputId": "a0f669e6-64a9-4d77-fa85-3f3132749c0a"
      },
      "outputs": [
        {
          "name": "stdout",
          "output_type": "stream",
          "text": [
            "Enter the number of units consumed : 123\n",
            "Amount to be paid :  67.25\n"
          ]
        }
      ],
      "source": [
        "#19.ebillelif.py\n",
        "\n",
        "u=int(input(\"Enter the number of units consumed : \"))\n",
        "if u<=100:\n",
        "\tamount=u*0.5\n",
        "elif u>100 and u<=150:\n",
        "\tamount=(100*0.5)+(u-100)*0.75\n",
        "elif u>150 and u<=200:\n",
        "\tamount=(100*0.5)+(50*0.75)+(u-150)*1\n",
        "else:\n",
        "\tamount=(100*0.5)+(50*0.75)+(50*1)+(u-200)*2\n",
        "print(\"Amount to be paid : \",amount)\n"
      ]
    },
    {
      "cell_type": "code",
      "execution_count": null,
      "metadata": {
        "colab": {
          "base_uri": "https://localhost:8080/"
        },
        "id": "DqHLMLLqAko9",
        "outputId": "87b5e17f-976c-46ca-ca12-b9c010c4babf"
      },
      "outputs": [
        {
          "name": "stdout",
          "output_type": "stream",
          "text": [
            "Enter the type of connection : 1233\n",
            "Enter the units consumed : 120\n",
            "Invalid connection type \n",
            "Tarriff\t:  0\n"
          ]
        }
      ],
      "source": [
        "#20.electrictybill_type.py\n",
        "\n",
        "type=input(\"Enter the type of connection : \")\n",
        "u=int(input(\"Enter the units consumed : \"))\n",
        "charge=0\n",
        "if type==\"domestic\":\n",
        "\tif u<=100:\n",
        "\t\tcharge=u*1\n",
        "\telif u<150:\n",
        "\t\tcharge=(100*1)+(u-100)*1.5\n",
        "\telif u<=200:\n",
        "\t\tcharge=(100*1)+(50*1.5)+(u-150)*2\n",
        "\telse:\n",
        "\t\tcharge=(100*1)+(50*1.5)+(50*2)+(u-200)*3\n",
        "elif type==\"commercial\":\n",
        "\tif u<=100:\n",
        "\t\tcharge=u*3\n",
        "\telif u<150:\n",
        "\t\tcharge=(100*3)+(u-100)*4\n",
        "\telif u<=200:\n",
        "\t\tcharge=(100*3)+(50*4)+(u-150)*6\n",
        "\telse:\n",
        "\t\tcharge=(100*3)+(50*4)+(50*6)+(u-200)*10\n",
        "else:\n",
        "\tprint(\"Invalid connection type \")\n",
        "print(\"Tarriff\t: \",charge)\n"
      ]
    },
    {
      "cell_type": "code",
      "execution_count": null,
      "metadata": {
        "colab": {
          "base_uri": "https://localhost:8080/"
        },
        "id": "-FsFQSIIAk7D",
        "outputId": "805c27f2-d8d1-4d87-8eb6-7d342ca48eaa"
      },
      "outputs": [
        {
          "name": "stdout",
          "output_type": "stream",
          "text": [
            "Enter the number : 5\n",
            "Sum  is :  15\n"
          ]
        }
      ],
      "source": [
        "#21 factorialsum.py\n",
        "\n",
        "def sum(n):\n",
        "\tif n==1:\n",
        "\t\treturn 1\n",
        "\ts=n+sum(n-1)\n",
        "\treturn s\n",
        "no=int(input(\"Enter the number : \"))\n",
        "total=sum(no)\n",
        "print(\"Sum  is : \",total)\n"
      ]
    },
    {
      "cell_type": "code",
      "execution_count": null,
      "metadata": {
        "colab": {
          "base_uri": "https://localhost:8080/"
        },
        "id": "b6SSOgtsAmcM",
        "outputId": "0ff5275d-bb7b-4d82-9a02-23aa4d864335"
      },
      "outputs": [
        {
          "name": "stdout",
          "output_type": "stream",
          "text": [
            "<class 'tuple'>\n",
            "Kiran\n",
            "Manu\n",
            "Vinu\n",
            "<class 'tuple'>\n",
            "10\n",
            "20\n",
            "30\n",
            "40\n",
            "50\n"
          ]
        }
      ],
      "source": [
        "#22 fun_arbitoryarg.py\n",
        "\n",
        "def my_function(*students):\n",
        "\tprint(type(students))\n",
        "\tfor x in students:\n",
        "\t\tprint(x)\n",
        "\n",
        "my_function(\"Kiran\", \"Manu\", \"Vinu\")\n",
        "my_function(10,20,30,40,50)\n"
      ]
    },
    {
      "cell_type": "code",
      "execution_count": null,
      "metadata": {
        "colab": {
          "base_uri": "https://localhost:8080/"
        },
        "id": "B32_BBdxAml6",
        "outputId": "4008079b-f727-45e2-ad74-a15c30d41c93"
      },
      "outputs": [
        {
          "name": "stdout",
          "output_type": "stream",
          "text": [
            "<class 'tuple'>\n",
            "Sum is  30\n",
            "<class 'tuple'>\n",
            "Sum is  150\n",
            "<class 'tuple'>\n",
            "Sum is  52.0\n"
          ]
        }
      ],
      "source": [
        "#23 fun_arbitoryarg1.py\n",
        "\n",
        "def my_function(*formal):\n",
        "\tprint(type(formal))\n",
        "\ts=0\n",
        "\tfor x in formal:\n",
        "\t\ts=s+x\n",
        "\tprint(\"Sum is \",s)\n",
        "my_function(10,20)\n",
        "my_function(10,20,30,40,50)\n",
        "my_function(10.2,15.5,26.3)"
      ]
    },
    {
      "cell_type": "code",
      "execution_count": null,
      "metadata": {
        "colab": {
          "base_uri": "https://localhost:8080/"
        },
        "id": "w1QJQIQpAmx5",
        "outputId": "57da1485-2eb3-4359-d538-09dd745150e1"
      },
      "outputs": [
        {
          "name": "stdout",
          "output_type": "stream",
          "text": [
            "<class 'tuple'>\n",
            "600\n",
            "<class 'tuple'>\n",
            "47.2\n"
          ]
        }
      ],
      "source": [
        "#24functionarguments.py\n",
        "\n",
        "def sum(*no):\n",
        "\tprint(type(no))\n",
        "\ts=0\n",
        "\tfor x in no:\n",
        "\t\ts=s+x\n",
        "\treturn s\n",
        "def add(p):\n",
        "\tprint(p*6)\n",
        "def avg(s):\n",
        "\tprint(s/5)\n",
        "sm=sum(10,20,30,40)\n",
        "add(sm)\n",
        "sm=sum(25,36,45,78,52)\n",
        "avg(sm)"
      ]
    },
    {
      "cell_type": "code",
      "execution_count": null,
      "metadata": {
        "colab": {
          "base_uri": "https://localhost:8080/"
        },
        "id": "Y-o22YPzAm61",
        "outputId": "aea57dca-a60b-4828-b127-22bb9e55daed"
      },
      "outputs": [
        {
          "name": "stdout",
          "output_type": "stream",
          "text": [
            "Enter the principle amount : 20\n",
            "Enter the time duration : 100\n",
            "Enter the rate of interest : 12\n",
            "Interest :  100.0\n",
            "Interest :  240.0\n"
          ]
        }
      ],
      "source": [
        "#25 functioninterestdefault.py\n",
        "\n",
        "def simple_interest(p,t,r=5):\n",
        "\ti=p*r*t/100\n",
        "\treturn i\n",
        "principle_amount=int(input(\"Enter the principle amount : \"))\n",
        "time_period=int(input(\"Enter the time duration : \"))\n",
        "rate_of_interest=int(input(\"Enter the rate of interest : \"))\n",
        "i1=simple_interest(principle_amount,time_period)\n",
        "print(\"Interest : \",i1)\n",
        "i2=simple_interest(principle_amount,time_period,rate_of_interest)\n",
        "print(\"Interest : \",i2)\n",
        "\n"
      ]
    },
    {
      "cell_type": "code",
      "execution_count": null,
      "metadata": {
        "id": "Z1Ogizs7AnHV"
      },
      "outputs": [],
      "source": [
        "#26.functionlist.py\n",
        "\n",
        "def sum(no):\n",
        "\tprint(type(no))\n",
        "\ts=0\n",
        "\tfor x in no:\n",
        "\t\ts=s+x\n",
        "\treturn s\n",
        "a=[10,20,30,40]\n",
        "print(sum(a))\n",
        "b=(25,36,49,64)\n",
        "print(sum(b))\n",
        "c={25,50,75}\n",
        "print(sum(c))\n"
      ]
    },
    {
      "cell_type": "code",
      "execution_count": null,
      "metadata": {
        "id": "bCWe2vLuAnSY"
      },
      "outputs": [],
      "source": []
    },
    {
      "cell_type": "code",
      "execution_count": null,
      "metadata": {
        "colab": {
          "base_uri": "https://localhost:8080/"
        },
        "id": "ZBX0XTPs8ftR",
        "outputId": "b5144a4e-ac08-429a-e326-b9753ec5ead4"
      },
      "outputs": [
        {
          "name": "stdout",
          "output_type": "stream",
          "text": [
            "50 celsius covertered into fahrenheit 122.0\n",
            "69 celsius covertered into celsius 20.555555555555557\n"
          ]
        }
      ],
      "source": [
        "#1.Temperature Converter:\n",
        "def celsius_to_fahrenheit(celsius):\n",
        "    fahrenheit=(celsius*9/5)+32\n",
        "    print(celsius,\"celsius covertered into fahrenheit\",fahrenheit)\n",
        "\n",
        "def fahrenheit_to_celsius(fahrenheit):\n",
        "    celsius=(fahrenheit - 32) * 5/9\n",
        "    print(fahrenheit,\"celsius covertered into celsius\",celsius)\n",
        "celsius_to_fahrenheit(50)\n",
        "fahrenheit_to_celsius(69)"
      ]
    },
    {
      "cell_type": "code",
      "execution_count": null,
      "metadata": {
        "colab": {
          "base_uri": "https://localhost:8080/"
        },
        "id": "dX7j41sDAuid",
        "outputId": "a1eb83ff-8646-4b0b-b657-f645d2ca2d89"
      },
      "outputs": [
        {
          "name": "stdout",
          "output_type": "stream",
          "text": [
            "enter a word:amma\n",
            "True\n"
          ]
        }
      ],
      "source": [
        "#2.Palindrome\n",
        "def palindrome(my_string):\n",
        "  my_string=input(\"enter a word:\")\n",
        "  word=my_string==my_string[::-1]\n",
        "  print(word)\n",
        "palindrome(list)\n"
      ]
    },
    {
      "cell_type": "code",
      "execution_count": null,
      "metadata": {
        "id": "r7uVjDA_BpnC"
      },
      "outputs": [],
      "source": [
        "#3.List Manipulation:\n"
      ]
    },
    {
      "cell_type": "code",
      "execution_count": null,
      "metadata": {
        "colab": {
          "base_uri": "https://localhost:8080/"
        },
        "id": "b4ZvNRygCY8K",
        "outputId": "fb9ad9d7-f80e-4a01-c274-99132eb39804"
      },
      "outputs": [
        {
          "name": "stdout",
          "output_type": "stream",
          "text": [
            "9\n",
            "44\n",
            "[3, 1, 4, 5, 9, 2, 6]\n"
          ]
        }
      ],
      "source": [
        "#4.\n",
        "def find_max_element(lst):\n",
        "    return max(lst)\n",
        "\n",
        "def calculate_sum(lst):\n",
        "    return sum(lst)\n",
        "\n",
        "def remove_duplicates(lst):\n",
        "    unique_list = []\n",
        "    for item in lst:\n",
        "        if item not in unique_list:\n",
        "            unique_list.append(item)\n",
        "    return unique_list\n",
        "\n",
        "my_list = [3, 1, 4, 1, 5, 9, 2, 6, 5, 3, 5]\n",
        "\n",
        "print(find_max_element(my_list))\n",
        "print(calculate_sum(my_list))\n",
        "print(remove_duplicates(my_list))\n"
      ]
    },
    {
      "cell_type": "code",
      "execution_count": null,
      "metadata": {
        "colab": {
          "base_uri": "https://localhost:8080/"
        },
        "id": "Qku7UJpjQy_o",
        "outputId": "fd185d30-8ae9-40c8-f1cf-cf1f1fe795dd"
      },
      "outputs": [
        {
          "name": "stdout",
          "output_type": "stream",
          "text": [
            "Enter the sentence: my world\n",
            "Word my and Occurance 1\n",
            "Word world and Occurance 1\n"
          ]
        }
      ],
      "source": [
        "#counting\n",
        "def Count(my_list):\n",
        "    m_list = {}\n",
        "    for element in my_list:\n",
        "      if element in m_list:\n",
        "        m_list[element] += 1\n",
        "      else:\n",
        "        m_list[element] = 1\n",
        "    for key,value in m_list.items():\n",
        "      print(f'Word {key} and Occurance {value}')\n",
        "my_list = input(\"Enter the sentence: \").split()\n",
        "Count(my_list)"
      ]
    },
    {
      "cell_type": "code",
      "execution_count": null,
      "metadata": {
        "colab": {
          "background_save": true,
          "base_uri": "https://localhost:8080/"
        },
        "id": "sWDHiCh_4fIH",
        "outputId": "5a6dc976-fbef-430b-81b1-cb34e1b0ee51"
      },
      "outputs": [
        {
          "name": "stdout",
          "output_type": "stream",
          "text": [
            "here is the details nof contact book:\n",
            "1.for adding contact\n",
            "2.for search contact\n",
            "3.for update contact\n",
            "4.for display contact\n",
            "5.for delete contact\n",
            "6.for exit from contact\n"
          ]
        }
      ],
      "source": [
        "#contactbook using function\n",
        "contact={}\n",
        "def add():\n",
        "    name=input(\"enter your name\")\n",
        "    phn=int(input(\"enter your number\"))\n",
        "    contact[name]=phn\n",
        "def search():\n",
        "    search_name=input(\"enter the name you want to search\")\n",
        "    if search_name in contact:\n",
        "        print(f\"{search_name}contact number is:{contact[search_name]}\")\n",
        "    else:\n",
        "        print(\"invalid name\")\n",
        "def update():\n",
        "    update_contact=input(\"enter the name you want to edit\")\n",
        "    if update_contact in contact:\n",
        "        update_number = int(input(\"enter the number you want to edit\"))\n",
        "        contact[update_contact]=update_number\n",
        "        print(\"contact is updated\")\n",
        "    else:\n",
        "        print(\"invalid contact\")\n",
        "def display():\n",
        "    print(\"NAME\\t\\t\\tCONTACT NUMBER\")\n",
        "    for i in contact:\n",
        "        print(\"{}\\t\\t\\t{}\".format(i,contact.get(i)))\n",
        "def delete():\n",
        "    del_contact=input(\"enter the name you want to delete\")\n",
        "    if del_contact in contact:\n",
        "        contact.pop(del_contact)\n",
        "    else:\n",
        "        print(\"name not found\")\n",
        "while True:\n",
        "    print(\"here is the details nof contact book:\\n1.for adding contact\\n2.for search contact\\n3.for update contact\\n4.for display contact\\n5.for delete contact\\n6.for exit from contact\")\n",
        "    choice=int(input(\"enter your choice\"))\n",
        "    if choice==1:\n",
        "        add()\n",
        "    elif choice==2:\n",
        "        search()\n",
        "    elif choice==3:\n",
        "        update()\n",
        "    elif choice==4:\n",
        "        display()\n",
        "    elif choice==5:\n",
        "        delete()\n",
        "    else:\n",
        "        break"
      ]
    },
    {
      "cell_type": "markdown",
      "metadata": {
        "id": "llh_aqNT4-3D"
      },
      "source": [
        "#python extra imp questions part 2"
      ]
    },
    {
      "cell_type": "code",
      "execution_count": null,
      "metadata": {
        "id": "35rNPSCbqL6U",
        "colab": {
          "base_uri": "https://localhost:8080/"
        },
        "outputId": "471c11be-290c-467a-c99c-8af28f0a8a9e"
      },
      "outputs": [
        {
          "output_type": "stream",
          "name": "stdout",
          "text": [
            "Enter the marks for physics90\n",
            "Enter the marks for chemistry90\n",
            "Enter the marks for maths90\n",
            "His grade is  A+\n"
          ]
        }
      ],
      "source": [
        "#mark of students\n",
        "m1=int(input(\"Enter the marks for physics\"))\n",
        "m2=int(input(\"Enter the marks for chemistry\"))\n",
        "m3=int(input(\"Enter the marks for maths\"))\n",
        "p=(m1+m2+m3)*100/300\n",
        "if p>=90:\n",
        "\tgrade=\"A+\"\n",
        "elif p<90 and p>=80:\n",
        "\tgrade=\"A\"\n",
        "elif p<80 and p>=70:\n",
        "\tgrade=\"B+\"\n",
        "elif p<70 and p>=60:\n",
        "\tgrade=\"B\"\n",
        "elif p<60 and p>=50:\n",
        "\tgrade=\"C\"\n",
        "else:\n",
        "\tgrade=\"Failed\"\n",
        "print(\"His grade is \",grade)\n"
      ]
    },
    {
      "cell_type": "code",
      "execution_count": null,
      "metadata": {
        "id": "Iy7ZS4Q07HrC",
        "colab": {
          "base_uri": "https://localhost:8080/"
        },
        "outputId": "87449fd7-68ea-4ebb-d097-38b5c9324ca1"
      },
      "outputs": [
        {
          "output_type": "stream",
          "name": "stdout",
          "text": [
            "Enter principle amount3000\n",
            "Enter the duration in years7\n",
            "Interest :  1680.0\n"
          ]
        }
      ],
      "source": [
        "#3interest calculation\n",
        "\n",
        "p=int(input(\"Enter principle amount\"))\n",
        "n=int(input(\"Enter the duration in years\"))\n",
        "if n>=10:\n",
        "\tr=12\n",
        "else:\n",
        "\tr=8\n",
        "i=p*r*n/100\n",
        "print(\"Interest : \",i)"
      ]
    },
    {
      "cell_type": "code",
      "execution_count": null,
      "metadata": {
        "id": "34ENU1t47fOl",
        "colab": {
          "base_uri": "https://localhost:8080/"
        },
        "outputId": "25d7daeb-d25c-4598-fd09-f3d9a2516d67"
      },
      "outputs": [
        {
          "output_type": "stream",
          "name": "stdout",
          "text": [
            "Sum is  81\n"
          ]
        }
      ],
      "source": [
        "#4.function with keyword\n",
        "\n",
        "def add(a,b,c):\n",
        "\treturn(a+b+c)\n",
        "s=add(c=20,a=25,b=36)\n",
        "print(\"Sum is \",s)\n"
      ]
    },
    {
      "cell_type": "code",
      "source": [
        "#5.list.py\n",
        "a=[]\n",
        "n= int(input(\"Enter the number of elements : \"))\n",
        "print(\"Enter the elements : \")\n",
        "for i in range(0,n):\n",
        "\tk=int(input())\n",
        "\ta.append(k)\n",
        "print(\"List elements are : \")\n",
        "for i in range(0,n):\n",
        "\tprint(a[i])\n"
      ],
      "metadata": {
        "colab": {
          "base_uri": "https://localhost:8080/"
        },
        "id": "Dph-wXxvBsM-",
        "outputId": "cd857667-5379-4f6f-fbd2-1453d384ac05"
      },
      "execution_count": null,
      "outputs": [
        {
          "output_type": "stream",
          "name": "stdout",
          "text": [
            "Enter the number of elements : 5\n",
            "Enter the elements : \n",
            "5\n",
            "4\n",
            "3\n",
            "2\n",
            "1\n",
            "List elements are : \n",
            "5\n",
            "4\n",
            "3\n",
            "2\n",
            "1\n"
          ]
        },
        {
          "output_type": "execute_result",
          "data": {
            "text/plain": [
              "56"
            ]
          },
          "metadata": {},
          "execution_count": 8
        }
      ]
    },
    {
      "cell_type": "code",
      "source": [
        "#6.listbig\n",
        "a=[]\n",
        "n= int(input(\"Enter the number of elements : \"))\n",
        "print(\"Enter the elements : \")\n",
        "for i in range(0,n):\n",
        "\tk=int(input())\n",
        "\ta.append(k)\n",
        "big=a[0]\n",
        "for i in range(1,n):\n",
        "\tif a[i]>big:\n",
        "\t\tbig=a[i]\n",
        "print(\"Biggest : \",big)"
      ],
      "metadata": {
        "colab": {
          "base_uri": "https://localhost:8080/"
        },
        "id": "tQEsa48zCJFl",
        "outputId": "499d2804-160c-4e7f-8ced-5f326b1cfdd4"
      },
      "execution_count": null,
      "outputs": [
        {
          "output_type": "stream",
          "name": "stdout",
          "text": [
            "Enter the number of elements : 2\n",
            "Enter the elements : \n",
            "1\n",
            "2\n",
            "Biggest :  2\n"
          ]
        }
      ]
    },
    {
      "cell_type": "code",
      "source": [
        "#7.listbinarysearch\n",
        "\n",
        "a=[]\n",
        "n= int(input(\"Enter the number of elements : \"))\n",
        "print(\"Enter the elements in ascending order : \")\n",
        "for i in range(0,n):\n",
        "\tk=int(input(i))\n",
        "\ta.append(k)\n",
        "key=int(input(\"Enter the element to search : \"))\n",
        "l=0\n",
        "u=n-1\n",
        "while l<=u:\n",
        "\tmid=(l+u)//2\n",
        "\tif a[mid]==key:\n",
        "\t\tprint(key,\"found at index \",mid)\n",
        "\t\tbreak\n",
        "\telif a[mid]>key:\n",
        "\t\tu=mid-1\n",
        "\telse:\n",
        "\t\tl=mid+1\n",
        "else:\n",
        "\tprint(key,\"not in the list \")\n"
      ],
      "metadata": {
        "colab": {
          "base_uri": "https://localhost:8080/"
        },
        "id": "LV3Nm74OGQ-q",
        "outputId": "f5c36913-3c3b-48c1-883c-ff8f72a961fe"
      },
      "execution_count": null,
      "outputs": [
        {
          "output_type": "stream",
          "name": "stdout",
          "text": [
            "Enter the number of elements : 3\n",
            "Enter the elements in ascending order : \n",
            "01\n",
            "12\n",
            "23\n",
            "Enter the element to search : 2\n",
            "2 found at index  1\n"
          ]
        }
      ]
    },
    {
      "cell_type": "code",
      "source": [
        "#8.listcompr\n",
        "\n",
        "a=[10,20,30,40]\n",
        "b=[10,20,30,50]\n",
        "if a==b:\n",
        "\tprint(\"ok\")\n",
        "else:\n",
        "\tprint(\"not ok\")\n"
      ],
      "metadata": {
        "colab": {
          "base_uri": "https://localhost:8080/"
        },
        "id": "9ryqubcBIVmE",
        "outputId": "035e3df9-887d-4a21-c8b0-877feb89fdd8"
      },
      "execution_count": null,
      "outputs": [
        {
          "output_type": "stream",
          "name": "stdout",
          "text": [
            "not ok\n"
          ]
        }
      ]
    },
    {
      "cell_type": "code",
      "source": [
        "#9.listcount\n",
        "a=[]\n",
        "n= int(input(\"Enter the number of elements : \"))\n",
        "print(\"Enter the elements : \")\n",
        "for i in range(0,n):\n",
        "\tk=int(input())\n",
        "\ta.append(k)\n",
        "count=0\n",
        "ele=int(input(\"Enter the element to count : \"))\n",
        "for x in a:\n",
        "\tif x==ele:\n",
        "\t\tcount+=1\n",
        "print(ele,\" occured \",count,\" times\")"
      ],
      "metadata": {
        "colab": {
          "base_uri": "https://localhost:8080/"
        },
        "id": "tqzD-S5mIfWl",
        "outputId": "d9c19846-d262-4e76-f72f-90262903455e"
      },
      "execution_count": null,
      "outputs": [
        {
          "output_type": "stream",
          "name": "stdout",
          "text": [
            "Enter the number of elements : 4\n",
            "Enter the elements : \n",
            "1\n",
            "5\n",
            "4\n",
            "5\n",
            "Enter the element to count : 5\n",
            "5  occured  2  times\n"
          ]
        }
      ]
    },
    {
      "cell_type": "code",
      "source": [
        "#10.listdelete\n",
        "a=[]\n",
        "n= int(input(\"Enter the number of elements : \"))\n",
        "print(\"Enter the elements : \")\n",
        "for i in range(0,n):\n",
        "\tk=int(input())\n",
        "\ta.append(k)\n",
        "index=int(input(\"Enter the index : \"))\n",
        "for i in range(index,n-1):\n",
        "\ta[i]=a[i+1]\n",
        "n=n-1\n",
        "print(\"List elements are : \")\n",
        "for i in range(0,n):\n",
        "\tprint(a[i])\n"
      ],
      "metadata": {
        "colab": {
          "base_uri": "https://localhost:8080/"
        },
        "id": "7bBgE6XWI4yP",
        "outputId": "aa97bc31-1cd2-42f8-edee-381ec9c85778"
      },
      "execution_count": null,
      "outputs": [
        {
          "output_type": "stream",
          "name": "stdout",
          "text": [
            "Enter the number of elements : 4\n",
            "Enter the elements : \n",
            "4\n",
            "5\n",
            "3\n",
            "2\n",
            "Enter the index : 1\n",
            "List elements are : \n",
            "4\n",
            "3\n",
            "2\n"
          ]
        }
      ]
    },
    {
      "cell_type": "code",
      "source": [
        "#11.listduplicate\n",
        "a=[]\n",
        "n= int(input(\"Enter the number of elements : \"))\n",
        "print(\"Enter the elements : \")\n",
        "for i in range(0,n):\n",
        "\tk=int(input())\n",
        "\ta.append(k)\n",
        "i=0\n",
        "while i<n-1:\n",
        "\tj=i+1\n",
        "\twhile j<n:\n",
        "\t\tif a[i]==a[j]:\n",
        "\t\t\ta.pop(j)\n",
        "\t\t\tn=n-1\n",
        "\t\telse:\n",
        "\t\t\tj+=1\n",
        "\ti+=1\n",
        "print(a)"
      ],
      "metadata": {
        "colab": {
          "base_uri": "https://localhost:8080/"
        },
        "id": "NRb20eOMJK5x",
        "outputId": "ce39d598-e072-40b8-d150-85b79a6f7003"
      },
      "execution_count": null,
      "outputs": [
        {
          "output_type": "stream",
          "name": "stdout",
          "text": [
            "Enter the number of elements : 3\n",
            "Enter the elements : \n",
            "1\n",
            "5\n",
            "3\n",
            "[1, 5, 3]\n"
          ]
        }
      ]
    },
    {
      "cell_type": "code",
      "source": [
        "#12listduplicateset.py\n",
        "a=[]\n",
        "n=int(input(\"Enter the number of elements : \"))\n",
        "for i in range(0,n):\n",
        "\tk=int(input())\n",
        "\ta.append(k)\n",
        "b=set(a)\n",
        "a=list(b)\n",
        "print(a)\n",
        "\n"
      ],
      "metadata": {
        "colab": {
          "base_uri": "https://localhost:8080/"
        },
        "id": "k-WmwmuiJyZY",
        "outputId": "f8fd9551-f036-4814-e8c1-e7cd33ca61eb"
      },
      "execution_count": null,
      "outputs": [
        {
          "output_type": "stream",
          "name": "stdout",
          "text": [
            "Enter the number of elements : 3\n",
            "1\n",
            "2\n",
            "3\n",
            "[1, 2, 3]\n"
          ]
        }
      ]
    },
    {
      "cell_type": "code",
      "source": [
        "#16.listinsert\n",
        "a=[]\n",
        "n= int(input(\"Enter the number of elements : \"))\n",
        "print(\"Enter the elements : \")\n",
        "for i in range(0,n):\n",
        "\tk=int(input())\n",
        "\ta.append(k)\n",
        "a.append(0)\n",
        "element=int(input(\"Enter the element to insert\"))\n",
        "index=int(input(\"Enter the index : \"))\n",
        "for i in range(n,index,-1):\n",
        "\ta[i]=a[i-1]\n",
        "a[index]=element\n",
        "print(\"List elements are : \")\n",
        "for i in range(0,n+1):\n",
        "\tprint(a[i])\n"
      ],
      "metadata": {
        "id": "-KsptDS3KKMd"
      },
      "execution_count": null,
      "outputs": []
    },
    {
      "cell_type": "code",
      "source": [
        "#18.listinsertlist\n",
        "a=[]\n",
        "n= int(input(\"Enter the number of elements in first list: \"))\n",
        "print(\"Enter the elements : \")\n",
        "for i in range(0,n):\n",
        "\tk=int(input())\n",
        "\ta.append(k)\n",
        "b=[]\n",
        "m= int(input(\"Enter the number of elements in second list : \"))\n",
        "print(\"Enter the elements : \")\n",
        "for i in range(0,m):\n",
        "\tk=int(input())\n",
        "\tb.append(k)\n",
        "\ta.append(0)\n",
        "index=int(input(\"Enter the index : \"))\n",
        "for i in range(n-1,index-1,-1):\n",
        "\ta[i+m]=a[i]\n",
        "for i in range(0,m):\n",
        "\ta[index+i]=b[i]\n",
        "print(\"List elements are : \")\n",
        "for i in range(0,m+n):\n",
        "\tprint(a[i])"
      ],
      "metadata": {
        "id": "k4Z2ns5iKz4z"
      },
      "execution_count": null,
      "outputs": []
    },
    {
      "cell_type": "code",
      "source": [
        "#19.listndelete\n",
        "a=[]\n",
        "n= int(input(\"Enter the number of elements : \"))\n",
        "print(\"Enter the elements : \")\n",
        "for i in range(0,n):\n",
        "\tk=int(input())\n",
        "\ta.append(k)\n",
        "index=int(input(\"Enter the index : \"))\n",
        "dn=int(input(\"Enter the number of elements to be deleted : \"))\n",
        "for i in range(index+dn,n):\n",
        "\ta[i-dn]=a[i]\n",
        "n=n-dn\n",
        "print(\"List elements are : \")\n",
        "for i in range(0,n):\n",
        "\tprint(a[i])\n"
      ],
      "metadata": {
        "colab": {
          "base_uri": "https://localhost:8080/",
          "height": 390
        },
        "id": "8MDltN2oLAGi",
        "outputId": "6a04b91f-5cf0-4cc7-f2e1-9f6fbc51694d"
      },
      "execution_count": null,
      "outputs": [
        {
          "output_type": "error",
          "ename": "KeyboardInterrupt",
          "evalue": "ignored",
          "traceback": [
            "\u001b[0;31m---------------------------------------------------------------------------\u001b[0m",
            "\u001b[0;31mKeyboardInterrupt\u001b[0m                         Traceback (most recent call last)",
            "\u001b[0;32m<ipython-input-22-48a9596f49f6>\u001b[0m in \u001b[0;36m<cell line: 3>\u001b[0;34m()\u001b[0m\n\u001b[1;32m      1\u001b[0m \u001b[0;31m#19.listndelete\u001b[0m\u001b[0;34m\u001b[0m\u001b[0;34m\u001b[0m\u001b[0m\n\u001b[1;32m      2\u001b[0m \u001b[0ma\u001b[0m\u001b[0;34m=\u001b[0m\u001b[0;34m[\u001b[0m\u001b[0;34m]\u001b[0m\u001b[0;34m\u001b[0m\u001b[0;34m\u001b[0m\u001b[0m\n\u001b[0;32m----> 3\u001b[0;31m \u001b[0mn\u001b[0m\u001b[0;34m=\u001b[0m \u001b[0mint\u001b[0m\u001b[0;34m(\u001b[0m\u001b[0minput\u001b[0m\u001b[0;34m(\u001b[0m\u001b[0;34m\"Enter the number of elements : \"\u001b[0m\u001b[0;34m)\u001b[0m\u001b[0;34m)\u001b[0m\u001b[0;34m\u001b[0m\u001b[0;34m\u001b[0m\u001b[0m\n\u001b[0m\u001b[1;32m      4\u001b[0m \u001b[0mprint\u001b[0m\u001b[0;34m(\u001b[0m\u001b[0;34m\"Enter the elements : \"\u001b[0m\u001b[0;34m)\u001b[0m\u001b[0;34m\u001b[0m\u001b[0;34m\u001b[0m\u001b[0m\n\u001b[1;32m      5\u001b[0m \u001b[0;32mfor\u001b[0m \u001b[0mi\u001b[0m \u001b[0;32min\u001b[0m \u001b[0mrange\u001b[0m\u001b[0;34m(\u001b[0m\u001b[0;36m0\u001b[0m\u001b[0;34m,\u001b[0m\u001b[0mn\u001b[0m\u001b[0;34m)\u001b[0m\u001b[0;34m:\u001b[0m\u001b[0;34m\u001b[0m\u001b[0;34m\u001b[0m\u001b[0m\n",
            "\u001b[0;32m/usr/local/lib/python3.10/dist-packages/ipykernel/kernelbase.py\u001b[0m in \u001b[0;36mraw_input\u001b[0;34m(self, prompt)\u001b[0m\n\u001b[1;32m    849\u001b[0m                 \u001b[0;34m\"raw_input was called, but this frontend does not support input requests.\"\u001b[0m\u001b[0;34m\u001b[0m\u001b[0;34m\u001b[0m\u001b[0m\n\u001b[1;32m    850\u001b[0m             )\n\u001b[0;32m--> 851\u001b[0;31m         return self._input_request(str(prompt),\n\u001b[0m\u001b[1;32m    852\u001b[0m             \u001b[0mself\u001b[0m\u001b[0;34m.\u001b[0m\u001b[0m_parent_ident\u001b[0m\u001b[0;34m,\u001b[0m\u001b[0;34m\u001b[0m\u001b[0;34m\u001b[0m\u001b[0m\n\u001b[1;32m    853\u001b[0m             \u001b[0mself\u001b[0m\u001b[0;34m.\u001b[0m\u001b[0m_parent_header\u001b[0m\u001b[0;34m,\u001b[0m\u001b[0;34m\u001b[0m\u001b[0;34m\u001b[0m\u001b[0m\n",
            "\u001b[0;32m/usr/local/lib/python3.10/dist-packages/ipykernel/kernelbase.py\u001b[0m in \u001b[0;36m_input_request\u001b[0;34m(self, prompt, ident, parent, password)\u001b[0m\n\u001b[1;32m    893\u001b[0m             \u001b[0;32mexcept\u001b[0m \u001b[0mKeyboardInterrupt\u001b[0m\u001b[0;34m:\u001b[0m\u001b[0;34m\u001b[0m\u001b[0;34m\u001b[0m\u001b[0m\n\u001b[1;32m    894\u001b[0m                 \u001b[0;31m# re-raise KeyboardInterrupt, to truncate traceback\u001b[0m\u001b[0;34m\u001b[0m\u001b[0;34m\u001b[0m\u001b[0m\n\u001b[0;32m--> 895\u001b[0;31m                 \u001b[0;32mraise\u001b[0m \u001b[0mKeyboardInterrupt\u001b[0m\u001b[0;34m(\u001b[0m\u001b[0;34m\"Interrupted by user\"\u001b[0m\u001b[0;34m)\u001b[0m \u001b[0;32mfrom\u001b[0m \u001b[0;32mNone\u001b[0m\u001b[0;34m\u001b[0m\u001b[0;34m\u001b[0m\u001b[0m\n\u001b[0m\u001b[1;32m    896\u001b[0m             \u001b[0;32mexcept\u001b[0m \u001b[0mException\u001b[0m \u001b[0;32mas\u001b[0m \u001b[0me\u001b[0m\u001b[0;34m:\u001b[0m\u001b[0;34m\u001b[0m\u001b[0;34m\u001b[0m\u001b[0m\n\u001b[1;32m    897\u001b[0m                 \u001b[0mself\u001b[0m\u001b[0;34m.\u001b[0m\u001b[0mlog\u001b[0m\u001b[0;34m.\u001b[0m\u001b[0mwarning\u001b[0m\u001b[0;34m(\u001b[0m\u001b[0;34m\"Invalid Message:\"\u001b[0m\u001b[0;34m,\u001b[0m \u001b[0mexc_info\u001b[0m\u001b[0;34m=\u001b[0m\u001b[0;32mTrue\u001b[0m\u001b[0;34m)\u001b[0m\u001b[0;34m\u001b[0m\u001b[0;34m\u001b[0m\u001b[0m\n",
            "\u001b[0;31mKeyboardInterrupt\u001b[0m: Interrupted by user"
          ]
        }
      ]
    },
    {
      "cell_type": "code",
      "source": [
        "#20.listoddeven\n",
        "\n",
        "a=[]\n",
        "n= int(input(\"Enter the number of elements : \"))\n",
        "print(\"Enter the elements : \")\n",
        "for i in range(0,n):\n",
        "\tk=int(input())\n",
        "\ta.append(k)\n",
        "print(\"List elements are : \")\n",
        "for i in range(0,n):\n",
        "\tprint(a[i])\n",
        "odd=[]\n",
        "even=[]\n",
        "for i in range(0,n):\n",
        "\tif a[i]%2==0:\n",
        "\t\teven.append(a[i])\n",
        "\telse:\n",
        "\t\todd.append(a[i])\n",
        "print(\"EVEN LIST\")\n",
        "for x in even:\n",
        "\tprint(x)\n",
        "print(\"ODD LIST\")\n",
        "for x in odd:\n",
        "\tprint(x)\n"
      ],
      "metadata": {
        "id": "ZQuv78y8LHv1"
      },
      "execution_count": null,
      "outputs": []
    },
    {
      "cell_type": "code",
      "source": [
        "#22.listprime\n",
        "a=[]\n",
        "n= int(input(\"Enter the number of elements : \"))\n",
        "print(\"Enter the elements : \")\n",
        "for i in range(0,n):\n",
        "\tk=int(input())\n",
        "\ta.append(k)\n",
        "print(\"prime numbers are : \")\n",
        "for i in range(0,n):\n",
        "\tif a[i]==1:\n",
        "\t\tcontinue\n",
        "\tfor j in range(2,a[i]):\n",
        "\t\tif a[i]%j==0:\n",
        "\t\t\tbreak\n",
        "\telse:\n",
        "\t\tprint(a[i])\n"
      ],
      "metadata": {
        "id": "_bVNU6T3LUJC"
      },
      "execution_count": null,
      "outputs": []
    },
    {
      "cell_type": "code",
      "source": [
        "#25.nesteddict\n",
        "student1={\"name\":\"arfan\",\"place\":\"Manacaud\",\"Blood Group\":\"O+\"}\n",
        "\n",
        "student2={\"name\":\"Jovan\",\"place\":\"Kollam\",\"Blood Group\":\"O+\"}\n",
        "\n",
        "student3={\"name\":\"Divya\",\"place\":\"palayam\",\"Blood Group\":\"A+\"}\n",
        "\n",
        "oneteam={\"intern1\":student1,\"intern2\":student2,\"intern3\":student3}\n",
        "\n",
        "or\n",
        "\n",
        "oneteam={\"intern1\":{\"name\":\"arfan\",\"place\":\"Manacaud\",\"Blood Group\":\"O+\"},\"intern2\":{\"name\":\"Jovan\",\"place\":\"Kollam\",\"Blood Group\":\"O+\"},\"intern3\":{\"name\":\"Divya\",\"place\":\"palayam\",\"Blood Group\":\"A+\"}}"
      ],
      "metadata": {
        "colab": {
          "base_uri": "https://localhost:8080/",
          "height": 140
        },
        "id": "td-Gal1-Ld6w",
        "outputId": "58b5d608-feaa-47ae-d66e-7117ec54f06d"
      },
      "execution_count": null,
      "outputs": [
        {
          "output_type": "error",
          "ename": "SyntaxError",
          "evalue": "ignored",
          "traceback": [
            "\u001b[0;36m  File \u001b[0;32m\"<ipython-input-3-e100eb8f33bc>\"\u001b[0;36m, line \u001b[0;32m10\u001b[0m\n\u001b[0;31m    or\u001b[0m\n\u001b[0m    ^\u001b[0m\n\u001b[0;31mSyntaxError\u001b[0m\u001b[0;31m:\u001b[0m invalid syntax\n"
          ]
        }
      ]
    },
    {
      "cell_type": "markdown",
      "source": [
        "## **pdf2**"
      ],
      "metadata": {
        "id": "_I0kddW3Mi2P"
      }
    },
    {
      "cell_type": "code",
      "source": [
        "#2.quadeqifelse\n",
        "a=int(input(\"Enter the coefficient of x^2 term : \"))\n",
        "b=int(input(\"Enter the coefficient of x term : \"))\n",
        "c=int(input(\"Enter the constant term : \"))\n",
        "x=b**2-(4*a*c)\n",
        "if x>=0:\n",
        "\tprint(\"Roots are real\")\n",
        "else:\n",
        "\tprint(\"Roots are Imaginary\")\n"
      ],
      "metadata": {
        "id": "k4atJsa-LsWr"
      },
      "execution_count": null,
      "outputs": []
    },
    {
      "cell_type": "code",
      "source": [
        "#3.quadeqsimif\n",
        "\n",
        "a=int(input(\"Enter the coefficient of x^2 term : \"))\n",
        "b=int(input(\"Enter the coefficient of x term : \"))\n",
        "c=int(input(\"Enter the constant term : \"))\n",
        "x=b**2-(4*a*c)\n",
        "roots=\"Imaginary\"\n",
        "if x>=0:\n",
        "\troots=\"Real\"\n",
        "print(\"Roots are \",roots)\n"
      ],
      "metadata": {
        "id": "-AH02-coM18W"
      },
      "execution_count": null,
      "outputs": []
    },
    {
      "cell_type": "code",
      "source": [
        "#6.amstrong\n",
        "n=input(\"Enter a number : \")\n",
        "l=len(n)\n",
        "n=int(n)\n",
        "s=0\n",
        "t=n\n",
        "while n!=0:\n",
        "\td=n%10\n",
        "\ts=s+d**l\n",
        "\tn=n//10\n",
        "if t==s:\n",
        "\tprint(\"Amstrong\")\n",
        "else:\n",
        "\tprint(\"Not an amstrong\")\n"
      ],
      "metadata": {
        "id": "mizPm2DzM8AY"
      },
      "execution_count": null,
      "outputs": []
    },
    {
      "cell_type": "code",
      "source": [
        "#7.b2d\n",
        "b=int(input(\"Enter the binary number : \"))\n",
        "d=0\n",
        "i=0\n",
        "while b!=0:\n",
        "\tdig=b%10\n",
        "\td=d+(dig*(2**i))\n",
        "\ti=i+1\n",
        "\tb=b//10\n",
        "print(\"Decimal equalent is \",d)\n"
      ],
      "metadata": {
        "id": "sR16XDY5NHOH"
      },
      "execution_count": null,
      "outputs": []
    },
    {
      "cell_type": "code",
      "source": [
        "#8.bigdigit\n",
        "\n",
        "n=int(input(\"Enter a number : \"))\n",
        "bd=0\n",
        "while n!=0:\n",
        "\td=n%10\n",
        "\tif d>bd:\n",
        "\t\tbd=d\n",
        "\tn=n//10\n",
        "print(\"greatest digit \",bd)\n",
        "\n"
      ],
      "metadata": {
        "id": "sVtq8POnNKwO"
      },
      "execution_count": null,
      "outputs": []
    },
    {
      "cell_type": "code",
      "source": [
        "#14.strongnumber\n",
        "\n",
        "n=int(input(\"Enter a number\"))\n",
        "temp=n\n",
        "sum=0\n",
        "while n!=0:\n",
        "\td=n%10\n",
        "\tfact=1\n",
        "\twhile d>1:\n",
        "\t\tfact*=d\n",
        "\t\td-=1\n",
        "\tsum+=fact\n",
        "\tn=n//10\n",
        "if sum==temp:\n",
        "\tprint(\"Strong number\")\n",
        "else:\n",
        "\tprint(\"Not a strong number\")"
      ],
      "metadata": {
        "id": "p9eumi1NNSTF"
      },
      "execution_count": null,
      "outputs": []
    },
    {
      "cell_type": "code",
      "source": [
        "#15.spynumber\n",
        "\n",
        "n=int(input(\"Enter a number\"))\n",
        "sum=0\n",
        "product=1\n",
        "while n!=0:\n",
        "\td=n%10\n",
        "\tsum+=d\n",
        "\tproduct*=d\n",
        "\tn=n//10\n",
        "if sum==product:\n",
        "\tprint(\"Spy Number\")\n",
        "else:\n",
        "\tprint(\"Not a spy number\")\n",
        "\n"
      ],
      "metadata": {
        "id": "3OrAFWMUNaXi"
      },
      "execution_count": null,
      "outputs": []
    },
    {
      "cell_type": "code",
      "source": [
        "def factorial(x):\n",
        "  if x ==1:\n",
        "    return 1\n",
        "  else:\n",
        "    return (x*factorial(x-1))\n",
        "num=3\n",
        "print(\"the factorial of\",num,\"is\",factorial(num))"
      ],
      "metadata": {
        "id": "S1FSgJsQin_M",
        "colab": {
          "base_uri": "https://localhost:8080/"
        },
        "outputId": "def80fb3-72e5-4dc0-f536-ee058ddaa2eb"
      },
      "execution_count": null,
      "outputs": [
        {
          "output_type": "stream",
          "name": "stdout",
          "text": [
            "the factorial of 3 is 6\n"
          ]
        }
      ]
    },
    {
      "cell_type": "code",
      "source": [
        "import calendar\n",
        "year = int(input(\"Enter the year: \"))\n",
        "month = int(input(\"Enter the month (1-12): \"))\n",
        "cal = calendar.month(year, month)\n",
        "print(f\"\\nCalendar for {calendar.month_name[month]} {year}:\\n\")\n",
        "print(cal)"
      ],
      "metadata": {
        "colab": {
          "base_uri": "https://localhost:8080/"
        },
        "id": "UZRd0s-r3X6x",
        "outputId": "97d21401-f3e9-43bd-ea50-fc6393d060bc"
      },
      "execution_count": null,
      "outputs": [
        {
          "output_type": "stream",
          "name": "stdout",
          "text": [
            "Enter the year: 2007\n",
            "Enter the month (1-12): 10\n",
            "\n",
            "Calendar for October 2007:\n",
            "\n",
            "    October 2007\n",
            "Mo Tu We Th Fr Sa Su\n",
            " 1  2  3  4  5  6  7\n",
            " 8  9 10 11 12 13 14\n",
            "15 16 17 18 19 20 21\n",
            "22 23 24 25 26 27 28\n",
            "29 30 31\n",
            "\n"
          ]
        }
      ]
    },
    {
      "cell_type": "code",
      "source": [
        "#class related problems\n",
        "class person:\n",
        "    def __init__(self,name,age):#parameter constructor\n",
        "        self.name=name\n",
        "        self.age=age\n",
        "    def display(self):\n",
        "        print(f\"my name is:{self.name}my age is:{self.age}\")\n",
        "#object creation\n",
        "p1=person(\"manu\",5)\n",
        "#function calling using object\n",
        "p1.display()"
      ],
      "metadata": {
        "id": "qjO1PcXJPVXb"
      },
      "execution_count": null,
      "outputs": []
    },
    {
      "cell_type": "code",
      "source": [
        "#students name number address\n",
        "class student:\n",
        "    def __init__(self,name,number,address):\n",
        "        self.name=name\n",
        "        self.number=number\n",
        "        self.address=address\n",
        "    def display(self):\n",
        "        print(f\"student name is:{self.name}\\nstudent number is:{self.number}\\nstudent address is:{self.address}\")\n",
        "p1=student(\"neha\",97681772,\"kochi,edappilly\")\n",
        "p1.display()"
      ],
      "metadata": {
        "colab": {
          "base_uri": "https://localhost:8080/"
        },
        "id": "hypn_Pm5T6Nh",
        "outputId": "88916c1e-038f-4ee4-cd81-442a37ca1bef"
      },
      "execution_count": null,
      "outputs": [
        {
          "output_type": "stream",
          "name": "stdout",
          "text": [
            "student name is:neha\n",
            "student number is:97681772\n",
            "student address is:kochi,edappilly\n"
          ]
        }
      ]
    },
    {
      "cell_type": "code",
      "source": [
        "class Person:\n",
        "    def __init__(self):#non-parameter\n",
        "        print(\"welcome\")\n",
        "\n",
        "    def display(self,name,age):\n",
        "        self.name=name\n",
        "        self.age=age\n",
        "        print(f\"my name is:{self.name}my age is:{self.age}\")\n",
        "p1=Person()\n",
        "p1.display(\"anu\",25)"
      ],
      "metadata": {
        "colab": {
          "base_uri": "https://localhost:8080/"
        },
        "id": "tsUJSfuvUFg1",
        "outputId": "5ebbb6b0-2ba9-418a-f293-af642b338f9a"
      },
      "execution_count": null,
      "outputs": [
        {
          "output_type": "stream",
          "name": "stdout",
          "text": [
            "welcome\n",
            "my name is:anumy age is:25\n"
          ]
        }
      ]
    },
    {
      "cell_type": "code",
      "source": [
        "import math\n",
        "result=math.sqrt(5)\n",
        "print(result)\n",
        "\n",
        "import math as m\n",
        "result=m.sqrt(5)\n",
        "print(result)\n",
        "\n",
        "from math import sqrt\n",
        "result=sqrt(5)\n",
        "print(result)\n",
        "\n",
        "from math import *\n",
        "result=sqrt(5)\n",
        "print(result)\n"
      ],
      "metadata": {
        "id": "2uKVEDU6Y6Z9"
      },
      "execution_count": null,
      "outputs": []
    },
    {
      "cell_type": "code",
      "source": [
        "class Vehicle:\n",
        "    def __init__(self, brand, model):\n",
        "        self.brand = brand\n",
        "        self.model = model\n",
        "    def drive(self):\n",
        "      print(\"d\")\n",
        "\n",
        "class Car(Vehicle):\n",
        "    def drive(self):\n",
        "      print(f\"{self.brand} {self.model} is now driving on the road.\")\n",
        "\n",
        "class Motorcycle(Vehicle):\n",
        "    def drive(self):\n",
        "      print(f\"{self.brand} {self.model} is now riding on the street.\")\n",
        "\n",
        "\n",
        "\n"
      ],
      "metadata": {
        "colab": {
          "base_uri": "https://localhost:8080/",
          "height": 245
        },
        "id": "AJpbK6WXe74J",
        "outputId": "02ae39bf-36f4-4a9c-eca0-11b256c3704a"
      },
      "execution_count": null,
      "outputs": [
        {
          "output_type": "error",
          "ename": "TypeError",
          "evalue": "ignored",
          "traceback": [
            "\u001b[0;31m---------------------------------------------------------------------------\u001b[0m",
            "\u001b[0;31mTypeError\u001b[0m                                 Traceback (most recent call last)",
            "\u001b[0;32m<ipython-input-9-955d39aec42d>\u001b[0m in \u001b[0;36m<cell line: 15>\u001b[0;34m()\u001b[0m\n\u001b[1;32m     13\u001b[0m     \u001b[0;32mdef\u001b[0m \u001b[0mdrive\u001b[0m\u001b[0;34m(\u001b[0m\u001b[0mself\u001b[0m\u001b[0;34m)\u001b[0m\u001b[0;34m:\u001b[0m\u001b[0;34m\u001b[0m\u001b[0;34m\u001b[0m\u001b[0m\n\u001b[1;32m     14\u001b[0m       \u001b[0mprint\u001b[0m\u001b[0;34m(\u001b[0m\u001b[0;34mf\"{self.brand} {self.model} is now riding on the street.\"\u001b[0m\u001b[0;34m)\u001b[0m\u001b[0;34m\u001b[0m\u001b[0;34m\u001b[0m\u001b[0m\n\u001b[0;32m---> 15\u001b[0;31m \u001b[0mc\u001b[0m\u001b[0;34m=\u001b[0m\u001b[0mCar\u001b[0m\u001b[0;34m(\u001b[0m\u001b[0;34m\"aaas\"\u001b[0m\u001b[0;34m)\u001b[0m\u001b[0;34m\u001b[0m\u001b[0;34m\u001b[0m\u001b[0m\n\u001b[0m\u001b[1;32m     16\u001b[0m \u001b[0;34m\u001b[0m\u001b[0m\n\u001b[1;32m     17\u001b[0m \u001b[0;34m\u001b[0m\u001b[0m\n",
            "\u001b[0;31mTypeError\u001b[0m: Vehicle.__init__() missing 1 required positional argument: 'model'"
          ]
        }
      ]
    },
    {
      "cell_type": "code",
      "source": [
        "class Vehicle:\n",
        "\n",
        "\n",
        "    def display():\n",
        "        print('Vehicle')\n",
        "class Car(Vehicle):\n",
        "    def __init__(self,brand,model):\n",
        "        self.brand = brand\n",
        "        self.model = model\n",
        "    def display(self):\n",
        "        print(f'You are driving the car , brand:  {self.brand} and model: {self.model}')\n",
        "class Motorcycle(Vehicle):\n",
        "    def __init__(self,brand,model):\n",
        "        self.brand = brand\n",
        "        self.model = model\n",
        "    def display(self):\n",
        "        print(f'You are riding the motorcycle ,  brand:  {self.brand} and model: {self.model}')\n",
        "\n",
        "car1 = Car('Nissan','Sunny')\n",
        "bike1 = Motorcycle('TVS','Raider')\n",
        "car1.display()\n",
        "bike1.display()"
      ],
      "metadata": {
        "id": "sZXtL9HHjkl3"
      },
      "execution_count": null,
      "outputs": []
    },
    {
      "cell_type": "code",
      "source": [
        "class Animal:\n",
        "    def __init__(self,name):\n",
        "        self.name=name\n",
        "    def speak(self):\n",
        "        print(\"welcome to animals world\")\n",
        "class dog(Animal):\n",
        "    def speak(self):\n",
        "        print(f\"{self.name}says bowwww!!!!\")\n",
        "class cat(Animal):\n",
        "    def speak(self):\n",
        "        print(f\"{self.name}says meoww!!!!\")\n",
        "d=dog(\"puppy\")\n",
        "d.speak()\n",
        "c=cat()\n",
        "c.speak()\n"
      ],
      "metadata": {
        "id": "gHKRp2L7o0JC"
      },
      "execution_count": null,
      "outputs": []
    },
    {
      "cell_type": "code",
      "source": [
        "class person:\n",
        "    def __init__(self,name,age):\n",
        "        self.name=name\n",
        "        self.age=age\n",
        "    def employee(sef):\n",
        "        print(\"its the details of the employee\")\n",
        "class emplyee_id(person):\n",
        "    def employee(self):\n",
        "        print(f\"employee name:{self.name} \\nage:{self.age}\\n id:1234\")\n",
        "ei=emplyee_id(\"hari\",30)\n",
        "ei.employee()\n",
        "\n"
      ],
      "metadata": {
        "id": "xl4_c2-7o88C"
      },
      "execution_count": null,
      "outputs": []
    },
    {
      "cell_type": "code",
      "source": [
        "class car(Vehicle):\n",
        "    def display(self,number):\n",
        "        self.number=number\n",
        "        print(f\"{self.make}{self.model}{self.number}\")\n",
        "\n",
        "class motorcycle(Vehicle):\n",
        "    def display(self,number):\n",
        "        self.number=number\n",
        "        print(f\"{self.make}{self.model}{self.number}\")\n",
        "\n",
        "c=car(1993,\"jeed\")\n",
        "c.start()\n",
        "c.display(4)\n",
        "c.stop()\n",
        "m=motorcycle(1995,\"pleassure\")\n",
        "m.start()\n",
        "m.display(4)\n",
        "m.stop()\n"
      ],
      "metadata": {
        "id": "SzkwZRpiqy2Z",
        "outputId": "c87c5322-57b3-4a91-ea2b-4f9f191c51b6",
        "colab": {
          "base_uri": "https://localhost:8080/",
          "height": 245
        }
      },
      "execution_count": null,
      "outputs": [
        {
          "output_type": "error",
          "ename": "NameError",
          "evalue": "ignored",
          "traceback": [
            "\u001b[0;31m---------------------------------------------------------------------------\u001b[0m",
            "\u001b[0;31mNameError\u001b[0m                                 Traceback (most recent call last)",
            "\u001b[0;32m<ipython-input-1-40d5925c5907>\u001b[0m in \u001b[0;36m<cell line: 1>\u001b[0;34m()\u001b[0m\n\u001b[0;32m----> 1\u001b[0;31m \u001b[0;32mclass\u001b[0m \u001b[0mcar\u001b[0m\u001b[0;34m(\u001b[0m\u001b[0mVehicle\u001b[0m\u001b[0;34m)\u001b[0m\u001b[0;34m:\u001b[0m\u001b[0;34m\u001b[0m\u001b[0;34m\u001b[0m\u001b[0m\n\u001b[0m\u001b[1;32m      2\u001b[0m     \u001b[0;32mdef\u001b[0m \u001b[0mdisplay\u001b[0m\u001b[0;34m(\u001b[0m\u001b[0mself\u001b[0m\u001b[0;34m,\u001b[0m\u001b[0mnumber\u001b[0m\u001b[0;34m)\u001b[0m\u001b[0;34m:\u001b[0m\u001b[0;34m\u001b[0m\u001b[0;34m\u001b[0m\u001b[0m\n\u001b[1;32m      3\u001b[0m         \u001b[0mself\u001b[0m\u001b[0;34m.\u001b[0m\u001b[0mnumber\u001b[0m\u001b[0;34m=\u001b[0m\u001b[0mnumber\u001b[0m\u001b[0;34m\u001b[0m\u001b[0;34m\u001b[0m\u001b[0m\n\u001b[1;32m      4\u001b[0m         \u001b[0mprint\u001b[0m\u001b[0;34m(\u001b[0m\u001b[0;34mf\"{self.make}{self.model}{self.number}\"\u001b[0m\u001b[0;34m)\u001b[0m\u001b[0;34m\u001b[0m\u001b[0;34m\u001b[0m\u001b[0m\n\u001b[1;32m      5\u001b[0m \u001b[0;34m\u001b[0m\u001b[0m\n",
            "\u001b[0;31mNameError\u001b[0m: name 'Vehicle' is not defined"
          ]
        }
      ]
    },
    {
      "cell_type": "code",
      "source": [
        "\n",
        "class Shape:\n",
        "    def __init__(self,area):\n",
        "        self.area = area\n",
        "class Circle(Shape):\n",
        "    def __init__(self,radius):\n",
        "        self.radius = radius\n",
        "    def area(self):\n",
        "        result = (3.14) * self.radius * self.radius\n",
        "        print(f'Area of circle: {result}')\n",
        "class Rectangle(Shape):\n",
        "    def __init__(self,length,breadth):\n",
        "        self.length = length\n",
        "        self.breadth = breadth\n",
        "    def area(self):\n",
        "        result = self.length * self.breadth * (0.5)\n",
        "        print(f'Area of Rectangle: {result}')\n",
        "c = Circle(2)\n",
        "r = Rectangle(2,4)\n",
        "c.area()\n",
        "r.area()"
      ],
      "metadata": {
        "id": "JBxeWoCXkLDG"
      },
      "execution_count": null,
      "outputs": []
    },
    {
      "cell_type": "code",
      "source": [
        "class Person:\n",
        "    def __init__(self, name, address, number):\n",
        "        self.name = name\n",
        "        self.address = address\n",
        "        self.number = number\n",
        "        self.work_details = \"\"  # Initialize work_details as an empty string\n",
        "        print(\"I'm from Kannur to take details:\")\n",
        "\n",
        "    def addi(self, work_details):\n",
        "        self.work_details = work_details  # Set work_details in the addi method\n",
        "\n",
        "    def display(self):\n",
        "        print(f\"Name: {self.name}\\nAddress: {self.address}\\nNumber: {self.number}\\nAdditional details: {self.work_details}\")\n",
        "\n",
        "p1 = Person(\"Jenny\", \"Delhi\", 957845256)\n",
        "p1.addi(\"Engineer\")\n",
        "p1.display()\n"
      ],
      "metadata": {
        "colab": {
          "base_uri": "https://localhost:8080/"
        },
        "id": "5nFjIUwANfow",
        "outputId": "b4e9179e-287a-4359-e95d-24ad7150b58d"
      },
      "execution_count": null,
      "outputs": [
        {
          "output_type": "stream",
          "name": "stdout",
          "text": [
            "I'm from Kannur to take details:\n",
            "Name: Jenny\n",
            "Address: Delhi\n",
            "Number: 957845256\n",
            "Additional details: Engineer\n"
          ]
        }
      ]
    },
    {
      "cell_type": "code",
      "source": [
        "#shape Inheritance:\n",
        "class Shape:\n",
        "    def area(self):\n",
        "        pass\n",
        "\n",
        "    def perimeter(self):\n",
        "        pass\n",
        "\n",
        "class Circle(Shape):\n",
        "    def __init__(self, radius):\n",
        "        self.radius = radius\n",
        "\n",
        "    def area(self):\n",
        "        print(\"Area of Circle:\", 3.14 * self.radius * self.radius)\n",
        "\n",
        "    def perimeter(self):\n",
        "        print(\"Perimeter of Circle:\", 2 * 3.14 * self.radius)\n",
        "\n",
        "class Square(Shape):\n",
        "    def __init__(self, side_length):\n",
        "        self.side_length = side_length\n",
        "\n",
        "    def area(self):\n",
        "        print(\"Area of Square:\", self.side_length * self.side_length)\n",
        "\n",
        "    def perimeter(self):\n",
        "        print(\"Perimeter of Square:\", 4 * self.side_length)\n",
        "\n",
        "class Triangle(Shape):\n",
        "    def __init__(self, side1, side2, side3):\n",
        "        self.side1 = side1\n",
        "        self.side2 = side2\n",
        "        self.side3 = side3\n",
        "\n",
        "    def area(self):\n",
        "        s = (self.side1 + self.side2 + self.side3) / 2\n",
        "        area = (s * (s - self.side1) * (s - self.side2) * (s - self.side3)) ** 0.5\n",
        "        print(\"Area of Triangle:\", area)\n",
        "\n",
        "    def perimeter(self):\n",
        "        print(\"Perimeter of Triangle:\", self.side1 + self.side2 + self.side3)\n",
        "\n",
        "circle=Circle(5)\n",
        "square = Square(4)\n",
        "triangle = Triangle(3,4,5)\n",
        "\n",
        "circle.area()\n",
        "circle.perimeter()\n",
        "\n",
        "square.area()\n",
        "square.perimeter()\n",
        "\n",
        "triangle.area()\n",
        "triangle.perimeter()"
      ],
      "metadata": {
        "colab": {
          "base_uri": "https://localhost:8080/"
        },
        "id": "uBZtSvT3QWt1",
        "outputId": "7d26da04-a947-41c9-88ee-50eaab5ad3d1"
      },
      "execution_count": null,
      "outputs": [
        {
          "output_type": "stream",
          "name": "stdout",
          "text": [
            "Area of Circle: 78.5\n",
            "Perimeter of Circle: 31.400000000000002\n",
            "Area of Square: 16\n",
            "Perimeter of Square: 16\n",
            "Area of Triangle: 6.0\n",
            "Perimeter of Triangle: 12\n"
          ]
        }
      ]
    },
    {
      "cell_type": "code",
      "source": [
        "#3. **Employee Inheritance:**\n",
        "class Employee:\n",
        "    def __init__(self, name, salary):\n",
        "        self.name = name\n",
        "        self.salary = salary\n",
        "\n",
        "class Manager(Employee):\n",
        "    def __init__(self,name,salary,num_subordinates):\n",
        "        super().__init__(name, salary)\n",
        "        self.num_subordinates = num_subordinates\n",
        "\n",
        "    def display_info(self):\n",
        "        print(f\"Manager: {self.name}, Salary: {self.salary}, Subordinates: {self.num_subordinates}\")\n",
        "\n",
        "class Developer(Employee):\n",
        "    def __init__(self,name,salary,programming_languages):\n",
        "        super().__init__(name,salary)\n",
        "        self.programming_languages=programming_languages\n",
        "\n",
        "    def display_info(self):\n",
        "        print(f\"Developer:{self.name},Salary:{self.salary},Languages:{', '.join(self.programming_languages)}\")\n",
        "\n",
        "m=Manager(\"Anu\",80000,10)\n",
        "d=Developer(\"Jane\",60000,[\"Python\",\"JavaScript\"])\n",
        "\n",
        "m.display_info()\n",
        "d.display_info()"
      ],
      "metadata": {
        "colab": {
          "base_uri": "https://localhost:8080/"
        },
        "id": "LH7J6QYbYaWy",
        "outputId": "2458742d-61bc-489a-aba3-350d15046757"
      },
      "execution_count": null,
      "outputs": [
        {
          "output_type": "stream",
          "name": "stdout",
          "text": [
            "Manager: Anu, Salary: 80000, Subordinates: 10\n",
            "Developer:Jane,Salary:60000,Languages:Python, JavaScript\n"
          ]
        }
      ]
    },
    {
      "cell_type": "code",
      "source": [
        "#**Bank Account Inheritance:**\n",
        "class BankAccount:\n",
        "    def __init__(self, account_number, balance):\n",
        "        self.account_number = account_number\n",
        "        self.balance = balance\n",
        "\n",
        "    def deposit(self, amount):\n",
        "        self.balance += amount\n",
        "        print(f\"Deposited ${amount}. New balance: ${self.balance}\")\n",
        "\n",
        "    def withdraw(self, amount):\n",
        "        if amount <= self.balance:\n",
        "            self.balance -= amount\n",
        "            print(f\"Withdrew ${amount}. New balance: ${self.balance}\")\n",
        "        else:\n",
        "            print(\"Insufficient funds\")\n",
        "\n",
        "class SavingsAccount(BankAccount):\n",
        "    def __init__(self, account_number, balance, interest_rate):\n",
        "        super().__init__(account_number, balance)\n",
        "        self.interest_rate = interest_rate\n",
        "\n",
        "    def accrue_interest(self):\n",
        "        interest = self.balance * self.interest_rate\n",
        "        self.deposit(interest)\n",
        "        print(f\"Interest accrued: ${interest}\")\n",
        "\n",
        "class CheckingAccount(BankAccount):\n",
        "    def __init__(self, account_number, balance, overdraft_limit):\n",
        "        super().__init__(account_number, balance)\n",
        "        self.overdraft_limit = overdraft_limit\n",
        "\n",
        "    def withdraw(self, amount):\n",
        "        if amount <= self.balance + self.overdraft_limit:\n",
        "            self.balance -= amount\n",
        "            print(f\"Withdrew ${amount}. New balance: ${self.balance}\")\n",
        "        else:\n",
        "            print(\"Insufficient funds (including overdraft)\")\n",
        "\n",
        "# Object creation and method calls\n",
        "savings_account = SavingsAccount(account_number=\"123456789\", balance=5000, interest_rate=0.02)\n",
        "checking_account = CheckingAccount(account_number=\"987654321\", balance=3000, overdraft_limit=1000)\n",
        "\n",
        "savings_account.deposit(1000)\n",
        "savings_account.accrue_interest()\n",
        "\n",
        "checking_account.deposit(500)\n",
        "checking_account.withdraw(4000)"
      ],
      "metadata": {
        "id": "sqHDjTXwaz99"
      },
      "execution_count": null,
      "outputs": []
    },
    {
      "cell_type": "code",
      "source": [
        "class Animal:\n",
        "    def __init__(self, name, age):\n",
        "        self.name = name\n",
        "        self.age = age\n",
        "\n",
        "class Mammal(Animal):\n",
        "    def __init__(self, name, age, fur_color):\n",
        "        super().__init__(name, age)\n",
        "        self.fur_color = fur_color\n",
        "\n",
        "    def give_birth(self):\n",
        "        print(f\"{self.name} the mammal is giving birth.\")\n",
        "\n",
        "class Bird(Animal):\n",
        "    def __init__(self, name, age, wingspan):\n",
        "        super().__init__(name, age)\n",
        "        self.wingspan = wingspan\n",
        "\n",
        "    def fly(self):\n",
        "        print(f\"{self.name} the bird is flying with a wingspan of {self.wingspan} meters.\")\n",
        "\n",
        "class Fish(Animal):\n",
        "    def __init__(self, name, age, scale_color):\n",
        "        super().__init__(name, age)\n",
        "        self.scale_color = scale_color\n",
        "\n",
        "    def swim(self):\n",
        "        print(f\"{self.name} the fish is swimming with {self.scale_color} scales.\")\n",
        "\n",
        "# Object creation and method calls\n",
        "mammal = Mammal(name=\"Lion\", age=5, fur_color=\"Golden\")\n",
        "bird = Bird(name=\"Eagle\", age=3, wingspan=6.5)\n",
        "fish = Fish(name=\"Salmon\", age=2, scale_color=\"Silver\")\n",
        "\n",
        "mammal.give_birth()\n",
        "bird.fly()\n",
        "fish.swim()"
      ],
      "metadata": {
        "id": "ttofUZ3rbhJZ"
      },
      "execution_count": null,
      "outputs": []
    },
    {
      "cell_type": "code",
      "source": [
        "#issubclass\n",
        "class Calculation1:\n",
        "    def summation(self,a,b):\n",
        "        return a+b;\n",
        "class Calculation2:\n",
        "    def multiplication(self,a,b):\n",
        "        return a*b;\n",
        "class Derived(Calculation1,Calculation2):\n",
        "    def divide(self,a,b):\n",
        "        return a/b;\n",
        "d=Derived()\n",
        "print(issubclass(Derived,Calculation2))\n",
        "print(issubclass(Calculation1,Calculation2))"
      ],
      "metadata": {
        "colab": {
          "base_uri": "https://localhost:8080/"
        },
        "id": "-AVFk_-CSNCm",
        "outputId": "6bab4bbb-17e7-4be2-a190-687911837abd"
      },
      "execution_count": null,
      "outputs": [
        {
          "output_type": "stream",
          "name": "stdout",
          "text": [
            "True\n",
            "False\n"
          ]
        }
      ]
    },
    {
      "cell_type": "code",
      "source": [
        "#isinstance\n",
        "class Calculation1:\n",
        "    def summation(self,a,b):\n",
        "        return a+b;\n",
        "class Calculation2:\n",
        "    def multiplication(self,a,b):\n",
        "        return a*b;\n",
        "class Derived(Calculation1,Calculation2):\n",
        "    def divide(self,a,b):\n",
        "        return a/b;\n",
        "d=Derived()\n",
        "print(isinstance(d,Derived))"
      ],
      "metadata": {
        "id": "c4kJ-djNeR9G"
      },
      "execution_count": null,
      "outputs": []
    },
    {
      "cell_type": "code",
      "source": [
        "#rate of interest\n",
        "class Bank:\n",
        "  def getroi(self):\n",
        "    return 10;\n",
        "class SBI(Bank):\n",
        "  def getroi(self):\n",
        "    return 7;\n",
        "class ICICI(Bank):\n",
        "  def getroi(self):\n",
        "    return 8;\n",
        "b1=Bank()\n",
        "b2=SBI()\n",
        "b3=ICICI()\n",
        "print(\"Bank Rate of interest:\",b1.getroi())\n",
        "print(\"Bank Rate of interest:\",b1.getroi())\n",
        "print(\"Bank Rate of interest:\",b1.getroi())\n",
        "\n"
      ],
      "metadata": {
        "id": "1h_gTrvXT0Sj"
      },
      "execution_count": null,
      "outputs": []
    },
    {
      "cell_type": "code",
      "source": [
        "#exam9\n",
        "num=int(input(\"Enter a number:\"))\n",
        "last_digit=num%10\n",
        "if last_digit%3==0:\n",
        "    print(f\"The last digit {last_digit} is divisible by 3.\")\n",
        "else:\n",
        "    print(f\"The last digit {last_digit} is not divisible by 3.\")"
      ],
      "metadata": {
        "id": "mbYd2IS7Urbe",
        "colab": {
          "base_uri": "https://localhost:8080/"
        },
        "outputId": "fa583ac0-61b0-4f2c-9429-53453a61c73f"
      },
      "execution_count": null,
      "outputs": [
        {
          "output_type": "stream",
          "name": "stdout",
          "text": [
            "Enter a number: 123\n",
            "The last digit (3) is divisible by 3.\n"
          ]
        }
      ]
    },
    {
      "cell_type": "code",
      "source": [
        "city=input(\"Enter a city: \")\n",
        "\n",
        "if city==\"Delhi\":\n",
        "    monument=\"Red Fort\"\n",
        "elif city== \"Agra\":\n",
        "    monument = \"Taj Mahal\"\n",
        "elif city == \"Jaipur\":\n",
        "    monument = \"Jal Mahal\"\n",
        "else:\n",
        "    monument = \"Monument information not available for this city.\"\n",
        "\n",
        "print(f\"In {city}, the monument is {monument}.\")"
      ],
      "metadata": {
        "id": "J3Swn1zfUmck"
      },
      "execution_count": null,
      "outputs": []
    },
    {
      "cell_type": "code",
      "source": [
        "limit=int(input(\"enter the number which you want to sum up the factorial\"))\n",
        "try:\n",
        "    factorial=1\n",
        "    while(limit>0):\n",
        "        factorial*=limit\n",
        "        limit-=1\n",
        "    print(factorial)\n",
        "except:\n",
        "    if limit<0:\n",
        "        raise Exception(\"negative value is not allowed\")"
      ],
      "metadata": {
        "id": "qO51RJzjgP2n",
        "colab": {
          "base_uri": "https://localhost:8080/"
        },
        "outputId": "140ff256-59f2-4b9d-987b-95826408fbb4"
      },
      "execution_count": null,
      "outputs": [
        {
          "output_type": "stream",
          "name": "stdout",
          "text": [
            "enter the number which you want to sum up the factorial-5\n",
            "1\n"
          ]
        }
      ]
    },
    {
      "cell_type": "code",
      "source": [
        "a=int(input(\"enter a number:\"))\n",
        "b=int(input(\"enter a number:\"))\n",
        "try:\n",
        "  c=a/b\n",
        "except:\n",
        "  c=a/(b+2)\n",
        "  print(\"division by zero not permitted\")\n",
        "  print(c)"
      ],
      "metadata": {
        "colab": {
          "base_uri": "https://localhost:8080/"
        },
        "id": "mPxcoy5xtLE-",
        "outputId": "ae347aa3-de03-43fa-c0c0-04e8b7116df1"
      },
      "execution_count": null,
      "outputs": [
        {
          "output_type": "stream",
          "name": "stdout",
          "text": [
            "enter a number:4\n",
            "enter a number:0\n",
            "division by zero not permitted\n",
            "2.0\n"
          ]
        }
      ]
    },
    {
      "cell_type": "code",
      "source": [
        "string = \"Python Exceptions\"\n",
        "\n",
        "for s in string:\n",
        "    if (s != o:\n",
        "        print( s )"
      ],
      "metadata": {
        "id": "APlT6tspZYLT"
      },
      "execution_count": null,
      "outputs": []
    },
    {
      "cell_type": "code",
      "source": [
        "#Python code after removing the syntax error\n",
        "string = \"Python Exceptions\"\n",
        "\n",
        "for s in string:\n",
        "    if (s != o):\n",
        "        print( s )"
      ],
      "metadata": {
        "id": "tl1O0dNeZwjd"
      },
      "execution_count": null,
      "outputs": []
    },
    {
      "cell_type": "code",
      "source": [
        "a=int(input(\"Enter a number : \"))\n",
        "b=int(input(\"Enter a number : \"))\n",
        "c=a/b\n",
        "c=a/(b+2)\n",
        "print(\"Division by zero not permitted\")\n",
        "print(c)"
      ],
      "metadata": {
        "id": "VgQgPpSWZ0MP"
      },
      "execution_count": null,
      "outputs": []
    },
    {
      "cell_type": "code",
      "source": [
        "def initialize_tracker(initial_balance):\n",
        "    print(\"salary of arun in a month:\",initial_balance)\n",
        "    return {\n",
        "        'balance':initial_balance,\n",
        "        'expenses':[]\n",
        "    }\n",
        "def add_expense(tracker, amount, description):\n",
        "    tracker['balance'] -= amount\n",
        "    tracker['expenses'].append((amount, description))\n",
        "def view_balance(tracker):\n",
        "    return tracker['balance']\n",
        "def view_expenses(tracker):\n",
        "    return tracker['expenses']\n",
        "def track_expenses():\n",
        "    expense_tracker = initialize_tracker(50000)\n",
        "    add_expense(expense_tracker,5500,\"Groceries\")\n",
        "    add_expense(expense_tracker,3000,\"Dinner\")\n",
        "    add_expense(expense_tracker,3500,\"Travel\")\n",
        "    print(\"Current Balance:\", view_balance(expense_tracker))\n",
        "    print(\"Expenses:\", view_expenses(expense_tracker))\n",
        "track_expenses()"
      ],
      "metadata": {
        "id": "x62XKnLo2QP5"
      },
      "execution_count": null,
      "outputs": []
    },
    {
      "cell_type": "code",
      "source": [
        "def initialize_tracker(initial_balance):\n",
        "    return {'balance': initial_balance,'expenses':[]}\n",
        "\n",
        "def add_expense(tracker,amount,category):\n",
        "    tracker['balance'] -=amount\n",
        "    tracker['expenses'].append({'amount':amount,'category':category})\n",
        "\n",
        "def view_balance(tracker):\n",
        "    return tracker['balance']\n",
        "\n",
        "def view_expenses(tracker):\n",
        "    return tracker['expenses']\n",
        "def track_expenses():\n",
        "    expense_tracker=initialize_tracker(10000)\n",
        "    add_expense(expense_tracker,1500, \"Groceries\")\n",
        "    add_expense(expense_tracker,1500, \"Dinner\")\n",
        "    add_expense(expense_tracker,200, \"Movie\")\n",
        "    return view_balance(expense_tracker), view_expenses(expense_tracker)\n",
        "balance, expenses = track_expenses()\n",
        "print(\"Current Balance:\", balance)\n",
        "print(\"Expenses:\", expenses)"
      ],
      "metadata": {
        "id": "S5YyUilA2SAq"
      },
      "execution_count": null,
      "outputs": []
    }
  ],
  "metadata": {
    "colab": {
      "provenance": [],
      "authorship_tag": "ABX9TyPXNhtsMZEVMLPjDY/mWHIt",
      "include_colab_link": true
    },
    "kernelspec": {
      "display_name": "Python 3",
      "name": "python3"
    },
    "language_info": {
      "name": "python"
    }
  },
  "nbformat": 4,
  "nbformat_minor": 0
}